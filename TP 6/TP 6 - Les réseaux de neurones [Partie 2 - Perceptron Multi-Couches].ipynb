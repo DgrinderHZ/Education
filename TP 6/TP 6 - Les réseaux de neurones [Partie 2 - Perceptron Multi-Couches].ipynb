{
 "cells": [
  {
   "cell_type": "markdown",
   "metadata": {},
   "source": [
    "# I. Régression avec un Perceptron Multi-Couches\n",
    "# 1. \n",
    "Créez un ensemble de points (une 20ène) suivant une fonction sinusoïde avec un bruit\n",
    "gaussien d'écart type 0,2. On va essayer de retrouver la fonction à partir des points avec un\n",
    "Perceptron Multi-Couches (MLP). Analyser la documentation sur MLP dans la librairie\n",
    "scikit-learn et analysez toutes les paramètres.\n",
    "\n",
    "```\n",
    "x = np.linspace(0,8,20).reshape(-1,1)\n",
    "y = np.sin(x) + np.random.randn(20)*0.2\n",
    "```"
   ]
  },
  {
   "cell_type": "code",
   "execution_count": 142,
   "metadata": {},
   "outputs": [],
   "source": [
    "import numpy as np\n",
    "x = np.linspace(0,8,20).reshape(-1,1)\n",
    "y = np.sin(x)[0] + np.random.randn(20)*0.2"
   ]
  },
  {
   "cell_type": "markdown",
   "metadata": {},
   "source": [
    "# 2. \n",
    "Initialisez le MLP avec la fonction MLPRegressor. On veut 3 neurones cachés, une fonction\n",
    "d'activation linéaire et un pas d'apprentissage (learning rate) de 0,1 avec un nombre\n",
    "d’itérations de 100."
   ]
  },
  {
   "cell_type": "code",
   "execution_count": 143,
   "metadata": {},
   "outputs": [],
   "source": [
    "from sklearn.neural_network import MLPRegressor\n",
    "mlp = MLPRegressor(hidden_layer_sizes=(3, ), activation='identity', learning_rate='constant', random_state=0, learning_rate_init=0.01, max_iter=100)"
   ]
  },
  {
   "cell_type": "markdown",
   "metadata": {},
   "source": [
    "# 3.\n",
    "Lancez l'apprentissage du MLP. Utilisez la fonction fit."
   ]
  },
  {
   "cell_type": "code",
   "execution_count": 144,
   "metadata": {
    "scrolled": true
   },
   "outputs": [],
   "source": [
    "model = mlp.fit(x,y)"
   ]
  },
  {
   "cell_type": "markdown",
   "metadata": {},
   "source": [
    "# 4.\n",
    "La fonction predict permet d'utiliser le MLP appris pour faire de la régression.\n"
   ]
  },
  {
   "cell_type": "code",
   "execution_count": 145,
   "metadata": {},
   "outputs": [],
   "source": [
    "yc = model.predict(x)"
   ]
  },
  {
   "cell_type": "markdown",
   "metadata": {},
   "source": [
    "# 5. \n",
    "Tracez sur une même figure les points d'apprentissage, la fonction sinusoïde réelle et celle\n",
    "estimée par le MLP."
   ]
  },
  {
   "cell_type": "markdown",
   "metadata": {},
   "source": [
    "# II. Classification avec un Perceptron Multi-Couches"
   ]
  },
  {
   "cell_type": "code",
   "execution_count": 146,
   "metadata": {},
   "outputs": [
    {
     "data": {
      "image/png": "[encoded data removed]",
      "text/plain": [
       "<Figure size 432x288 with 1 Axes>"
      ]
     },
     "metadata": {
      "needs_background": "light"
     },
     "output_type": "display_data"
    }
   ],
   "source": [
    "import matplotlib.pyplot as plt\n",
    "from math import sin\n",
    "yr = np.sin(x)\n",
    "plt.plot(x, yr, label='sin(x) réelle')\n",
    "plt.plot(x, yc, label='sin(x) estimée')\n",
    "plt.legend()\n",
    "plt.show()"
   ]
  },
  {
   "cell_type": "code",
   "execution_count": 147,
   "metadata": {
    "scrolled": true
   },
   "outputs": [
    {
     "data": {
      "text/plain": [
       "array([-0.80686967, -0.77893172, -0.75099376, -0.72305581, -0.69511786,\n",
       "       -0.6671799 , -0.63924195, -0.611304  , -0.58336604, -0.55542809,\n",
       "       -0.52749014, -0.49955218, -0.47161423, -0.44367628, -0.41573832,\n",
       "       -0.38780037, -0.35986242, -0.33192446, -0.30398651, -0.27604856])"
      ]
     },
     "execution_count": 147,
     "metadata": {},
     "output_type": "execute_result"
    }
   ],
   "source": [
    "yc"
   ]
  },
  {
   "cell_type": "markdown",
   "metadata": {},
   "source": [
    "1. Les données IRIS sont constituées de 4 colonnes qui correspondent à 4 variables de\n",
    "description. La 5ème colonne donne la classe de chaque objet. Transformez ces données en\n",
    "deux matrices contenant les données et le label (target).\n",
    "2. Pour permettre l'apprentissage par un MLP, il faut « binariser » les numéros de classe.\n",
    "3. Initialisez le MLP avec la fonction MLPClassifier. On veut 2 neurones cachés, une fonction\n",
    "d'activation logistique et un pas d'apprentissage de 0,2.\n",
    "4. On garde les mêmes options que dans l'exercice précèdent. Lancez l'apprentissage du\n",
    "MLP avec la fonction fit. On veut utiliser l'algorithme d'optimisation de descente de\n",
    "gradient stochastique (lbfgs).\n",
    "5. Affichez les résultats désirés et les résultats obtenus dans une même figure. Vous pouvez\n",
    "utiliser un ACP par exemple. Chaque point aura une couleur différente selon sa classe.\n",
    "Les résultats sont-ils bon ?\n",
    "6. Essayez de normaliser les données (centrées – réduites). Cela améliore-t-il la\n",
    "classification ?\n",
    "7. Essayez de faire varier les paramètres du MLP (nombre de neurones cachés, etc...).\n",
    "Comment ces paramètres influencent les résultats ?"
   ]
  },
  {
   "cell_type": "markdown",
   "metadata": {},
   "source": [
    "# III. Réduction de dimensions avec un Perceptron Multi-Couches\n",
    "1. Entraînez un MLP à retrouver les vecteurs d'entrée en sortie (la sortie doit être la même\n",
    "que l'entrée) sur la base de données Iris. On utilisera ici deux neurones cachés et une\n",
    "fonction d'activation linéaire.\n",
    "2. Après apprentissage, calculez-les sorties de la couche cachée pour chaque point de\n",
    "données en utilisant la matrice de poids (coef) et les données en entrées. Vous obtenez deux\n",
    "valeurs par points, qui donnent de nouvelles coordonnées pour chaque point. Affichez ces\n",
    "valeurs dans une figure (avec les classes réelles représentées en couleur).\n",
    "3. Que représente cette figure ?\n",
    "4. Si on utilise une fonction d'activation logistique, qu'est ce que ça change (et pourquoi ?)."
   ]
  }
 ],
 "metadata": {
  "kernelspec": {
   "display_name": "Python 3",
   "language": "python",
   "name": "python3"
  },
  "language_info": {
   "codemirror_mode": {
    "name": "ipython",
    "version": 3
   },
   "file_extension": ".py",
   "mimetype": "text/x-python",
   "name": "python",
   "nbconvert_exporter": "python",
   "pygments_lexer": "ipython3",
   "version": "3.7.4"
  }
 },
 "nbformat": 4,
 "nbformat_minor": 2
}
