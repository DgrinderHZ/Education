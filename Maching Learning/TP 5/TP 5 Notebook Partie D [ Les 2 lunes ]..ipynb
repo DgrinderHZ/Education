{
 "cells": [
  {
   "cell_type": "markdown",
   "metadata": {},
   "source": [
    "Il s’agit d’un jeu de données classiques qui permet de comparer les algorithmes de classification\n",
    "sur des données en deux dimensions imbriquées."
   ]
  },
  {
   "cell_type": "markdown",
   "metadata": {},
   "source": [
    "# 1. Visualisation des données"
   ]
  },
  {
   "cell_type": "code",
   "execution_count": 2,
   "metadata": {},
   "outputs": [
    {
     "data": {
      "image/png": "[encoded data removed]",
      "text/plain": [
       "<Figure size 432x288 with 1 Axes>"
      ]
     },
     "metadata": {
      "needs_background": "light"
     },
     "output_type": "display_data"
    }
   ],
   "source": [
    "from sklearn.datasets import make_moons\n",
    "import matplotlib.pyplot as plt\n",
    "#help(make_moons)\n",
    "data1=make_moons(n_samples=1000,noise=0.3,random_state=0)\n",
    "X1=data1[0]\n",
    "y1=data1[1]\n",
    "plt.scatter(X1[y1==0][:,0],X1[y1==0][:,1],color='red')\n",
    "plt.scatter(X1[y1==1][:,0],X1[y1==1][:,1],color='blue')\n",
    "plt.show()"
   ]
  },
  {
   "cell_type": "code",
   "execution_count": 3,
   "metadata": {},
   "outputs": [],
   "source": [
    "def validateur_malprediction(lis_1, lis_2):\n",
    "    \"\"\" validateur_malprediction : Retourne le pourcentage d’étiquettes mal prédites\n",
    "    \"\"\"\n",
    "    size = len(lis_1)\n",
    "    if size != len(lis_2):\n",
    "        logging.error(\"Liste de taille differente\")\n",
    "        return 0\n",
    "    # 1) trouver le total d’étiquettes mal prédites\n",
    "    _sum = 0\n",
    "    for i in range(size):\n",
    "        if lis_1[i] != lis_2[i]:\n",
    "            _sum += 1\n",
    "    # 2) retourner le facteur en %\n",
    "    return _sum*100 / float(size)\n",
    "\n",
    "###############################################################\n",
    "\n",
    "def predic_cross_valid(algo, x, y):\n",
    "    \"\"\"train : cross validation pour l'algorithme de sklearn\n",
    "        x = data\n",
    "        y = target\n",
    "    \"\"\"\n",
    "    # taille de jeu de donnees\n",
    "    taille = len(x)\n",
    "\n",
    "    predicted_target = np.zeros(taille, dtype=np.int)\n",
    "\n",
    "    for i in range(taille):\n",
    "        # leave one out\n",
    "        valid = x[i]\n",
    "        train = np.delete(x, i, 0)\n",
    "        train_target = np.delete(y, i, 0)\n",
    "        \n",
    "        # trouver la classe\n",
    "        algo.fit(train, train_target)\n",
    "        predicted_target[i] = algo.predict(valid.reshape(1, -1))\n",
    "\n",
    "    return {'target': predicted_target, 'error': validateur_malprediction(predicted_target, y)}\n"
   ]
  },
  {
   "cell_type": "markdown",
   "metadata": {},
   "source": [
    "# 2. Classification"
   ]
  },
  {
   "cell_type": "markdown",
   "metadata": {},
   "source": [
    "Le jeu de données est suffisamment volumineux pour pouvoir le répartir en un ensemble\n",
    "d’apprentissage, contenant environ 70% des données, et un ensemble test, contenant les 30%\n",
    "restant. Vous allez tester et comparer :\n",
    "+ l’algorithme des k-plus proches voisins, avec k = 3,\n",
    "+ l’apprentissage par arbre de décision, utilisant le critère de Gini,\n",
    "+ un SVM polynomial de degré 3,\n",
    "+ un SVM avec noyau RBF.\n",
    "\n",
    "Dans un premier temps, les classifieurs seront utilisés avec leur paramétrage par défaut.\n",
    "Remplissez le tableau suivant, en indiquant le pourcentage d’erreur de chaque classifieur sur l’échantillon d’apprentissage et sur l’échantillon test. Vous pourrez utiliser la fonction\n",
    "clf.score(X test,y test) pour obtenir le score du classifieur clf sur l’échantillon test."
   ]
  },
  {
   "cell_type": "markdown",
   "metadata": {},
   "source": [
    "**- l’algorithme des k-plus proches voisins, avec k = 3,**\n"
   ]
  },
  {
   "cell_type": "code",
   "execution_count": 11,
   "metadata": {
    "scrolled": true
   },
   "outputs": [
    {
     "name": "stdout",
     "output_type": "stream",
     "text": [
      "KNeighbors pourcentage d’étiquettes mal prédites : 10.0\n"
     ]
    }
   ],
   "source": [
    "from sklearn import neighbors\n",
    "import numpy as np\n",
    "\n",
    "target_sklearn = neighbors.KNeighborsClassifier(n_neighbors=3)\n",
    "\n",
    "sklearn_ppv_target = predic_cross_valid(target_sklearn, X1, y1)\n",
    "\n",
    "#print(\"KNeighbors : %s\"% sklearn_ppv_target['target'])\n",
    "print(\"KNeighbors pourcentage d’étiquettes mal prédites : %.1f\"% sklearn_ppv_target['error'])"
   ]
  },
  {
   "cell_type": "markdown",
   "metadata": {},
   "source": [
    "**- l’apprentissage par arbre de décision, utilisant le critère de Gini,**"
   ]
  },
  {
   "cell_type": "code",
   "execution_count": 12,
   "metadata": {},
   "outputs": [
    {
     "name": "stdout",
     "output_type": "stream",
     "text": [
      "DecisionTree pourcentage d’étiquettes mal prédites : 12.9\n"
     ]
    }
   ],
   "source": [
    "from sklearn import tree\n",
    "classifieur = tree.DecisionTreeClassifier()\n",
    "\n",
    "sklearn_ad_target = predic_cross_valid(classifieur, X1, y1)\n",
    "    \n",
    "#print(\"DecisionTree : %s\"% sklearn_ad_target['target'])\n",
    "print(\"DecisionTree pourcentage d’étiquettes mal prédites : %.1f\"% sklearn_ad_target['error'])"
   ]
  },
  {
   "cell_type": "markdown",
   "metadata": {},
   "source": [
    "**-un SVM polynomial de degré 3,**"
   ]
  },
  {
   "cell_type": "code",
   "execution_count": 19,
   "metadata": {},
   "outputs": [
    {
     "name": "stdout",
     "output_type": "stream",
     "text": [
      "SVM pourcentage d’étiquettes mal prédites : 12.8\n"
     ]
    }
   ],
   "source": [
    "from sklearn.svm import SVC\n",
    "clf = SVC(kernel='poly', degree=3, gamma='scale')\n",
    "\n",
    "sklearn_svc_poly3_target = predic_cross_valid(clf, X1, y1)\n",
    "#print(\"DecisionTree : %s\"% sklearn_ad_target['target'])\n",
    "print(\"SVM pourcentage d’étiquettes mal prédites : %.1f\"% sklearn_svc_poly3_target['error'])"
   ]
  },
  {
   "cell_type": "markdown",
   "metadata": {},
   "source": [
    "**-un SVM avec noyau RBF.**"
   ]
  },
  {
   "cell_type": "code",
   "execution_count": 18,
   "metadata": {},
   "outputs": [
    {
     "name": "stdout",
     "output_type": "stream",
     "text": [
      "SVM rbf pourcentage d’étiquettes mal prédites : 15.5\n"
     ]
    }
   ],
   "source": [
    "from sklearn.svm import SVC\n",
    "\n",
    "clf = SVC(kernel='rbf',gamma=0.05)\n",
    "\n",
    "sklearn_svc_rbf_target = predic_cross_valid(clf, X1, y1)\n",
    "#print(\"DecisionTree : %s\"% sklearn_ad_target['target'])\n",
    "print(\"SVM rbf pourcentage d’étiquettes mal prédites : %.1f\"% sklearn_svc_rbf_target['error'])"
   ]
  },
  {
   "cell_type": "markdown",
   "metadata": {},
   "source": [
    "# 3. Sélection des hyperparamètres"
   ]
  },
  {
   "cell_type": "markdown",
   "metadata": {},
   "source": [
    "Utilisez une validation croisée pour sélectionner les meilleurs hyperparamètres pour chaque\n",
    "méthode. On se limitera à\n",
    "+ k pour les plus proches voisins (entre 1 et 10).\n",
    "+ max_depth pour les arbres de décision (entre 1 et 10).\n",
    "+ le degré du polynôme pour le SVM polynomial (entre 1 et 10).\n",
    "+ la valeur de gamma pour le SVM RBF (entre 0 et 10).\n",
    "\n",
    "Remplissez le tableau suivant (pour les mêmes ensembles d'apprentissage et de test qu'à la\n",
    "question précédente) avec les hyperparamètres que vous avez sélectionnés.\n",
    "\n",
    "degree  | naifACP20 | naifACP40 | naifACP60 | histACP20|histACP40 | histACP60|completACP20|completACP40|completACP60\n",
    "---|---|---|---|---|---|---|---|---|---\n",
    " **2** | 0.6542 | 0.8142 | 0.8142| 0.8128 | 0.8928 | 0.8928 |0.6542|0.8142 |0.8142\n",
    " **3** | 0.8714 | 0.8714 | 0.8714| 0.8361 | 0.8928 | 0.8928 |0.8714|0.8714 |0.8714\n",
    " **4** | 0.7914 | 0.7914 | 0.7914| 0.7961 | 0.8928 | 0.8928 |0.7914|0.7914 |0.7914\n",
    " **5** | 0.7914 | 0.7914 | 0.7914| 0.8533 | 0.7961 | 0.7961 |0.7914|0.7914 |0.7914"
   ]
  },
  {
   "cell_type": "markdown",
   "metadata": {},
   "source": [
    "# 4. Exemples mal classés"
   ]
  },
  {
   "cell_type": "markdown",
   "metadata": {},
   "source": [
    "Pour chacun des classifieurs précédents, indiquez sur un dessin où se trouvent les exemples mal\n",
    "classés. Vous pourrez utiliser les commandes"
   ]
  },
  {
   "cell_type": "code",
   "execution_count": 15,
   "metadata": {},
   "outputs": [
    {
     "ename": "NameError",
     "evalue": "name 'clf' is not defined",
     "output_type": "error",
     "traceback": [
      "\u001b[1;31m---------------------------------------------------------------------------\u001b[0m",
      "\u001b[1;31mNameError\u001b[0m                                 Traceback (most recent call last)",
      "\u001b[1;32m<ipython-input-15-2de6560d3dc6>\u001b[0m in \u001b[0;36m<module>\u001b[1;34m\u001b[0m\n\u001b[1;32m----> 1\u001b[1;33m \u001b[0mZ\u001b[0m\u001b[1;33m=\u001b[0m\u001b[0mclf\u001b[0m\u001b[1;33m.\u001b[0m\u001b[0mpredict\u001b[0m\u001b[1;33m(\u001b[0m\u001b[0mX_test\u001b[0m\u001b[1;33m)\u001b[0m\u001b[1;33m\u001b[0m\u001b[1;33m\u001b[0m\u001b[0m\n\u001b[0m\u001b[0;32m      2\u001b[0m \u001b[0mX_false\u001b[0m\u001b[1;33m=\u001b[0m\u001b[0mX_test\u001b[0m\u001b[1;33m[\u001b[0m\u001b[0mZ\u001b[0m \u001b[1;33m!=\u001b[0m \u001b[0my_test\u001b[0m\u001b[1;33m]\u001b[0m\u001b[1;33m\u001b[0m\u001b[1;33m\u001b[0m\u001b[0m\n\u001b[0;32m      3\u001b[0m \u001b[0mplt\u001b[0m\u001b[1;33m.\u001b[0m\u001b[0mscatter\u001b[0m\u001b[1;33m(\u001b[0m\u001b[0mX_test\u001b[0m\u001b[1;33m[\u001b[0m\u001b[0my_test\u001b[0m\u001b[1;33m==\u001b[0m\u001b[1;36m0\u001b[0m\u001b[1;33m]\u001b[0m\u001b[1;33m[\u001b[0m\u001b[1;33m:\u001b[0m\u001b[1;33m,\u001b[0m\u001b[1;36m0\u001b[0m\u001b[1;33m]\u001b[0m\u001b[1;33m,\u001b[0m\u001b[0mX_test\u001b[0m\u001b[1;33m[\u001b[0m\u001b[0my_test\u001b[0m\u001b[1;33m==\u001b[0m\u001b[1;36m0\u001b[0m\u001b[1;33m]\u001b[0m\u001b[1;33m[\u001b[0m\u001b[1;33m:\u001b[0m\u001b[1;33m,\u001b[0m\u001b[1;36m1\u001b[0m\u001b[1;33m]\u001b[0m\u001b[1;33m,\u001b[0m\u001b[0mcolor\u001b[0m\u001b[1;33m=\u001b[0m\u001b[1;34m'red'\u001b[0m\u001b[1;33m)\u001b[0m\u001b[1;33m\u001b[0m\u001b[1;33m\u001b[0m\u001b[0m\n\u001b[0;32m      4\u001b[0m \u001b[0mplt\u001b[0m\u001b[1;33m.\u001b[0m\u001b[0mscatter\u001b[0m\u001b[1;33m(\u001b[0m\u001b[0mX_test\u001b[0m\u001b[1;33m[\u001b[0m\u001b[0my_test\u001b[0m\u001b[1;33m==\u001b[0m\u001b[1;36m1\u001b[0m\u001b[1;33m]\u001b[0m\u001b[1;33m[\u001b[0m\u001b[1;33m:\u001b[0m\u001b[1;33m,\u001b[0m\u001b[1;36m0\u001b[0m\u001b[1;33m]\u001b[0m\u001b[1;33m,\u001b[0m\u001b[0mX_test\u001b[0m\u001b[1;33m[\u001b[0m\u001b[0my_test\u001b[0m\u001b[1;33m==\u001b[0m\u001b[1;36m1\u001b[0m\u001b[1;33m]\u001b[0m\u001b[1;33m[\u001b[0m\u001b[1;33m:\u001b[0m\u001b[1;33m,\u001b[0m\u001b[1;36m1\u001b[0m\u001b[1;33m]\u001b[0m\u001b[1;33m,\u001b[0m\u001b[0mcolor\u001b[0m\u001b[1;33m=\u001b[0m\u001b[1;34m'blue'\u001b[0m\u001b[1;33m)\u001b[0m\u001b[1;33m\u001b[0m\u001b[1;33m\u001b[0m\u001b[0m\n\u001b[0;32m      5\u001b[0m \u001b[0mplt\u001b[0m\u001b[1;33m.\u001b[0m\u001b[0mscatter\u001b[0m\u001b[1;33m(\u001b[0m\u001b[0mX_false\u001b[0m\u001b[1;33m[\u001b[0m\u001b[1;33m:\u001b[0m\u001b[1;33m,\u001b[0m\u001b[1;36m0\u001b[0m\u001b[1;33m]\u001b[0m\u001b[1;33m,\u001b[0m\u001b[0mX_false\u001b[0m\u001b[1;33m[\u001b[0m\u001b[1;33m:\u001b[0m\u001b[1;33m,\u001b[0m\u001b[1;36m1\u001b[0m\u001b[1;33m]\u001b[0m\u001b[1;33m,\u001b[0m\u001b[0mcolor\u001b[0m\u001b[1;33m=\u001b[0m\u001b[1;34m'black'\u001b[0m\u001b[1;33m)\u001b[0m\u001b[1;33m\u001b[0m\u001b[1;33m\u001b[0m\u001b[0m\n",
      "\u001b[1;31mNameError\u001b[0m: name 'clf' is not defined"
     ]
    }
   ],
   "source": [
    "Z=clf.predict(X_test)\n",
    "X_false=X_test[Z != y_test]\n",
    "plt.scatter(X_test[y_test==0][:,0],X_test[y_test==0][:,1],color='red')\n",
    "plt.scatter(X_test[y_test==1][:,0],X_test[y_test==1][:,1],color='blue')\n",
    "plt.scatter(X_false[:,0],X_false[:,1],color='black')\n",
    "plt.show()"
   ]
  }
 ],
 "metadata": {
  "kernelspec": {
   "display_name": "Python 3",
   "language": "python",
   "name": "python3"
  },
  "language_info": {
   "codemirror_mode": {
    "name": "ipython",
    "version": 3
   },
   "file_extension": ".py",
   "mimetype": "text/x-python",
   "name": "python",
   "nbconvert_exporter": "python",
   "pygments_lexer": "ipython3",
   "version": "3.7.4"
  }
 },
 "nbformat": 4,
 "nbformat_minor": 2
}
