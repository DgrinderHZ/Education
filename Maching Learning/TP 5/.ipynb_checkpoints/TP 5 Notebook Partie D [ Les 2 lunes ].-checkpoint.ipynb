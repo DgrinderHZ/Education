{
 "cells": [
  {
   "cell_type": "markdown",
   "metadata": {},
   "source": [
    "Il s’agit d’un jeu de données classiques qui permet de comparer les algorithmes de classification\n",
    "sur des données en deux dimensions imbriquées."
   ]
  },
  {
   "cell_type": "markdown",
   "metadata": {},
   "source": [
    "# 1. Visualisation des données"
   ]
  },
  {
   "cell_type": "code",
   "execution_count": 4,
   "metadata": {},
   "outputs": [
    {
     "data": {
      "image/png": "[encoded data removed]",
      "text/plain": [
       "<Figure size 432x288 with 1 Axes>"
      ]
     },
     "metadata": {
      "needs_background": "light"
     },
     "output_type": "display_data"
    }
   ],
   "source": [
    "from sklearn.datasets import make_moons\n",
    "import matplotlib.pyplot as plt\n",
    "#help(make_moons)\n",
    "data1=make_moons(n_samples=1000,noise=0.3,random_state=0)\n",
    "X1=data1[0]\n",
    "y1=data1[1]\n",
    "plt.scatter(X1[y1==0][:,0],X1[y1==0][:,1],color='red')\n",
    "plt.scatter(X1[y1==1][:,0],X1[y1==1][:,1],color='blue')\n",
    "plt.show()"
   ]
  },
  {
   "cell_type": "markdown",
   "metadata": {},
   "source": [
    "# 2. Classification"
   ]
  },
  {
   "cell_type": "markdown",
   "metadata": {},
   "source": [
    "Le jeu de données est suffisamment volumineux pour pouvoir le répartir en un ensemble\n",
    "d’apprentissage, contenant environ 70% des données, et un ensemble test, contenant les 30%\n",
    "restant. Vous allez tester et comparer :\n",
    "+ l’algorithme des k-plus proches voisins, avec k = 3,\n",
    "+ l’apprentissage par arbre de décision, utilisant le critère de Gini,\n",
    "+ un SVM polynomial de degré 3,\n",
    "+ un SVM avec noyau RBF.\n",
    "\n",
    "Dans un premier temps, les classifieurs seront utilisés avec leur paramétrage par défaut.\n",
    "Remplissez le tableau suiva\n",
    "nt, en indiquant le pourcentage d’erreur de chaque classifieur sur l’échantillon d’apprentissage et sur l’échantillon test. \n",
    "\n",
    "Vous pourrez utiliser la fonction ```clf.score(X_test, y_test)``` pour obtenir le score du classifieur clf sur l’échantillon test."
   ]
  },
  {
   "cell_type": "code",
   "execution_count": 10,
   "metadata": {},
   "outputs": [],
   "source": [
    "#répartition du Jeu de données\n",
    "from sklearn import model_selection\n",
    "X_train, X_test, y_train, y_test = model_selection.train_test_split(X1, y1, train_size=0.7, random_state=123)"
   ]
  },
  {
   "cell_type": "markdown",
   "metadata": {},
   "source": [
    "**- l’algorithme des k-plus proches voisins, avec k = 3,**\n"
   ]
  },
  {
   "cell_type": "code",
   "execution_count": 35,
   "metadata": {
    "scrolled": true
   },
   "outputs": [
    {
     "name": "stdout",
     "output_type": "stream",
     "text": [
      "ERROR TRAIN : 0.0686\n",
      "ERROR TEST : 0.0967\n"
     ]
    }
   ],
   "source": [
    "from sklearn import neighbors\n",
    "import numpy as np\n",
    "KNNClf = neighbors.KNeighborsClassifier(n_neighbors=3)\n",
    "KNNClf.fit(X_train, y_train)\n",
    "\n",
    "print('ERROR TRAIN : %.4f'% (1-KNNClf.score(X_train, y_train)))\n",
    "print('ERROR TEST : %.4f'% (1-KNNClf.score(X_test, y_test)))\n"
   ]
  },
  {
   "cell_type": "markdown",
   "metadata": {},
   "source": [
    "**- l’apprentissage par arbre de décision, utilisant le critère de Gini,**"
   ]
  },
  {
   "cell_type": "code",
   "execution_count": 37,
   "metadata": {},
   "outputs": [
    {
     "name": "stdout",
     "output_type": "stream",
     "text": [
      "ERROR TRAIN : 0.0000\n",
      "ERROR TEST : 0.1333\n"
     ]
    }
   ],
   "source": [
    "from sklearn import tree\n",
    "\n",
    "DTClf = tree.DecisionTreeClassifier(criterion='gini')\n",
    "DTClf.fit(X_train, y_train)\n",
    "\n",
    "print('ERROR TRAIN : %.4f'% (1-DTClf.score(X_train, y_train)))\n",
    "print('ERROR TEST : %.4f'% (1-DTClf.score(X_test, y_test)))"
   ]
  },
  {
   "cell_type": "markdown",
   "metadata": {},
   "source": [
    "**-un SVM polynomial de degré 3,**"
   ]
  },
  {
   "cell_type": "code",
   "execution_count": 38,
   "metadata": {},
   "outputs": [
    {
     "name": "stdout",
     "output_type": "stream",
     "text": [
      "ERROR TRAIN : 0.1257\n",
      "ERROR TEST : 0.1233\n"
     ]
    }
   ],
   "source": [
    "from sklearn.svm import SVC\n",
    "SVMPolyClf = SVC(gamma='auto', kernel='poly')\n",
    "SVMPolyClf.fit(X_train, y_train)\n",
    "\n",
    "print('ERROR TRAIN : %.4f'% (1-SVMPolyClf.score(X_train, y_train)))\n",
    "print('ERROR TEST : %.4f'% (1-SVMPolyClf.score(X_test, y_test)))"
   ]
  },
  {
   "cell_type": "markdown",
   "metadata": {},
   "source": [
    "**-un SVM avec noyau RBF.**"
   ]
  },
  {
   "cell_type": "code",
   "execution_count": 39,
   "metadata": {},
   "outputs": [
    {
     "name": "stdout",
     "output_type": "stream",
     "text": [
      "ERROR TRAIN : 0.0843\n",
      "ERROR TEST : 0.1000\n"
     ]
    }
   ],
   "source": [
    "from sklearn.svm import SVC\n",
    "SVMRBFClf = SVC(gamma='auto', kernel='rbf')\n",
    "SVMRBFClf.fit(X_train, y_train)\n",
    "\n",
    "print('ERROR TRAIN : %.4f'% (1-SVMRBFClf.score(X_train, y_train)))\n",
    "print('ERROR TEST : %.4f'% (1-SVMRBFClf.score(X_test, y_test)))"
   ]
  },
  {
   "cell_type": "markdown",
   "metadata": {},
   "source": [
    "CLASSIFIER  | KNN3 | AD | SVM POLY |SVM RBF|\n",
    "---|---|---|---|---|\n",
    " **ERROR TRAIN** | 0.0686 | 0.0000 | 0.1257| 0.0843 |\n",
    " **ERROR TEST** | 0.0967 | 0.1333 | 0.1233| 0.1000 | "
   ]
  },
  {
   "cell_type": "markdown",
   "metadata": {},
   "source": [
    "# 3. Sélection des hyperparamètres"
   ]
  },
  {
   "cell_type": "markdown",
   "metadata": {},
   "source": [
    "Utilisez une validation croisée pour sélectionner les meilleurs hyperparamètres pour chaque\n",
    "méthode. On se limitera à\n",
    "+ k pour les plus proches voisins (entre 1 et 10).\n",
    "+ max_depth pour les arbres de décision (entre 1 et 10).\n",
    "+ le degré du polynôme pour le SVM polynomial (entre 1 et 10).\n",
    "+ la valeur de gamma pour le SVM RBF (entre 0 et 10).\n",
    "\n",
    "Remplissez le tableau suivant (pour les mêmes ensembles d'apprentissage et de test qu'à la\n",
    "question précédente) avec les hyperparamètres que vous avez sélectionnés.\n",
    "\n"
   ]
  },
  {
   "cell_type": "code",
   "execution_count": 44,
   "metadata": {},
   "outputs": [],
   "source": [
    "# TODO!!!!!!!!!!!!!!"
   ]
  },
  {
   "cell_type": "markdown",
   "metadata": {},
   "source": [
    "CLASSIFIER  | KNN3 | AD | SVM POLY |SVM RBF|\n",
    "---|---|---|---|---|\n",
    " **ERROR TRAIN** | 0.0686 | 0.0000 | 0.1257| 0.0843 |\n",
    " **ERROR TEST** | 0.0967 | 0.1333 | 0.1233| 0.1000 | "
   ]
  },
  {
   "cell_type": "markdown",
   "metadata": {},
   "source": [
    "# 4. Exemples mal classés"
   ]
  },
  {
   "cell_type": "markdown",
   "metadata": {},
   "source": [
    "Pour chacun des classifieurs précédents, indiquez sur un dessin où se trouvent les exemples mal\n",
    "classés. Vous pourrez utiliser les commandes"
   ]
  },
  {
   "cell_type": "code",
   "execution_count": 43,
   "metadata": {},
   "outputs": [
    {
     "data": {
      "image/png": "[encoded data removed]",
      "text/plain": [
       "<Figure size 432x288 with 1 Axes>"
      ]
     },
     "metadata": {
      "needs_background": "light"
     },
     "output_type": "display_data"
    }
   ],
   "source": [
    "kppClf = neighbors.KNeighborsClassifier(n_neighbors=3)\n",
    "\n",
    "kppClf.fit(X_train, y_train)\n",
    "Z= kppClf.predict(X_test)\n",
    "\n",
    "X_false = X_test[Z != y_test]\n",
    "plt.scatter(X_test[y_test==0][:,0],X_test[y_test==0][:,1], color='red')\n",
    "plt.scatter(X_test[y_test==1][:,0],X_test[y_test==1][:,1], color='blue')\n",
    "plt.scatter(X_false[:,0],X_false[:,1],color='black', label='Mal classée')\n",
    "plt.legend(loc='best')\n",
    "plt.title('Données mal classées Classifieur KNN (k=3)')\n",
    "plt.show()"
   ]
  }
 ],
 "metadata": {
  "kernelspec": {
   "display_name": "Python 3",
   "language": "python",
   "name": "python3"
  },
  "language_info": {
   "codemirror_mode": {
    "name": "ipython",
    "version": 3
   },
   "file_extension": ".py",
   "mimetype": "text/x-python",
   "name": "python",
   "nbconvert_exporter": "python",
   "pygments_lexer": "ipython3",
   "version": "3.7.4"
  }
 },
 "nbformat": 4,
 "nbformat_minor": 2
}
