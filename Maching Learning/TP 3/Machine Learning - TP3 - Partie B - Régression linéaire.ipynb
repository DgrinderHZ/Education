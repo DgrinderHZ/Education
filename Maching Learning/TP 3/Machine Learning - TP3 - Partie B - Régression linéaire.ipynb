{
 "cells": [
  {
   "cell_type": "markdown",
   "metadata": {},
   "source": [
    "# Partie B: Descente de gradient sur un modèle de régression linéaire"
   ]
  },
  {
   "cell_type": "markdown",
   "metadata": {},
   "source": [
    "Voici les étapes à suivre pour touver un modèle de régession linéaire:\n",
    "![image](images/recete.png)\n",
    "\n",
    "Ici, on va pas travailler avec des matrices! (on va le faire après! Partie C) car ici on peut gérer a et b facilement!\n",
    "\n",
    "Maintenant considérons le modèle de la régression linéaire\n",
    "   > **```ŷi = axi + b```**\n",
    "   \n",
    "- où (a; b) sont des coefficients de régressions inconnus à estimer, \n",
    "- xi, yi les données de régression, \n",
    "- Y le vecteur des données des sorties ŷi. \n",
    "\n",
    "Dans ce cas, on a les définitions suivantes:\n",
    "![image](images/etapeB.png)"
   ]
  },
  {
   "cell_type": "code",
   "execution_count": 1,
   "metadata": {},
   "outputs": [],
   "source": [
    "from sklearn.datasets import make_regression\n",
    "import matplotlib.pyplot as plt\n",
    "import numpy as np\n",
    "import warnings\n",
    "warnings.filterwarnings(\"ignore\")"
   ]
  },
  {
   "cell_type": "code",
   "execution_count": 3,
   "metadata": {},
   "outputs": [
    {
     "data": {
      "text/plain": [
       "array([[-1.0089507 ],\n",
       "       [-0.17635597],\n",
       "       [ 0.67010611],\n",
       "       [ 0.46030971],\n",
       "       [-0.29417151]])"
      ]
     },
     "execution_count": 3,
     "metadata": {},
     "output_type": "execute_result"
    }
   ],
   "source": [
    "m = 100\n",
    "x, y = make_regression(n_samples=m, n_features=1, noise=9.9) # données d'apprentissage\n",
    "x[1:6]"
   ]
  },
  {
   "cell_type": "code",
   "execution_count": 4,
   "metadata": {},
   "outputs": [
    {
     "name": "stdout",
     "output_type": "stream",
     "text": [
      "100 100\n"
     ]
    }
   ],
   "source": [
    "y \n",
    "print(len(x), len(y))"
   ]
  },
  {
   "cell_type": "code",
   "execution_count": 5,
   "metadata": {},
   "outputs": [
    {
     "data": {
      "text/plain": [
       "[-1.008950699249133,\n",
       " -0.17635597008879653,\n",
       " 0.6701061061450477,\n",
       " 0.46030970909206304,\n",
       " -0.2941715072649693]"
      ]
     },
     "execution_count": 5,
     "metadata": {},
     "output_type": "execute_result"
    }
   ],
   "source": [
    "x = [item[0] for item in x]\n",
    "x[1:6]"
   ]
  },
  {
   "cell_type": "markdown",
   "metadata": {},
   "source": [
    "###### 1. Calcule des dérivées partielles de la fonction E(a, b) selon a et b."
   ]
  },
  {
   "cell_type": "code",
   "execution_count": 6,
   "metadata": {},
   "outputs": [],
   "source": [
    "def gradA(x, y, a, b):  \n",
    "    \"\"\" gradient suivant a \"\"\"\n",
    "    somme = 0\n",
    "    for xi, yi in zip(x, y):\n",
    "        somme += (a*xi + b - yi)*xi\n",
    "    m = len(x)\n",
    "    return somme/m\n",
    "\n",
    "def gradB(x, y, a, b): \n",
    "    \"\"\" gradient suivant b \"\"\"\n",
    "    somme = 0\n",
    "    for xi, yi in zip(x, y):\n",
    "        somme += (a*xi + b - yi)\n",
    "    m = len(x)\n",
    "    return somme/m"
   ]
  },
  {
   "cell_type": "code",
   "execution_count": 7,
   "metadata": {},
   "outputs": [
    {
     "name": "stdout",
     "output_type": "stream",
     "text": [
      "gradA: -34.1890206717467\n",
      "gradA: 1.5076742232311398\n"
     ]
    }
   ],
   "source": [
    "print(\"gradA:\", gradA(x, y, 1, 2))\n",
    "print(\"gradA:\", gradB(x, y, 1, 2))"
   ]
  },
  {
   "cell_type": "markdown",
   "metadata": {},
   "source": [
    "###### 2. Implémentation de l’algorithme DG sous Python pour la fonction E(a, b)."
   ]
  },
  {
   "cell_type": "code",
   "execution_count": 8,
   "metadata": {},
   "outputs": [],
   "source": [
    "def GD(nbrMax, epsilon, alpha, a0, b0, x, y):\n",
    "    \"\"\"\n",
    "    Gradient Descent:\n",
    "        alpha: learning rate\n",
    "        epsilon: taux de convergence (quand on doit s'arréter)\n",
    "        nbrMax: Nombre maximal d'itérations\n",
    "        x0: x de départ\n",
    "    \"\"\"\n",
    "    a = a0 - alpha * gradA(x, y, a0, b0)\n",
    "    b = b0 - alpha * gradB(x, y, a0, b0)\n",
    "    i = 1\n",
    "    mean_err = (abs(a-a0)+abs(b-b0))/2\n",
    "    while mean_err > epsilon and i < nbrMax:\n",
    "        a0 = a; b0 = b\n",
    "        a = a0 - alpha * gradA(x, y, a0, b0)\n",
    "        b = b0 - alpha * gradB(x, y, a0, b0)\n",
    "        i += 1\n",
    "        mean_err = (abs(a-a0)+abs(b-b0))/2\n",
    "    return (a, b, i)"
   ]
  },
  {
   "cell_type": "code",
   "execution_count": 10,
   "metadata": {},
   "outputs": [],
   "source": [
    "def E(a, b, x, y): \n",
    "    \"\"\" J: fonction coût \"\"\"\n",
    "    somme = 0\n",
    "    for xi, yi in zip(x, y):\n",
    "        somme += (a*xi + b - yi)**2\n",
    "    m = len(x)\n",
    "    return somme/(2*m)"
   ]
  },
  {
   "cell_type": "markdown",
   "metadata": {},
   "source": [
    "###### 3. La fonction datasets.make_regression\n",
    "Sur la partie 0. nous avons utilisez la pour générer un problème de régression aléatoire de 100 example avec une seule variable. \n",
    "### Appliquation de l’algorithme implémenté au jeu de données généré avec les paramètres suivants :"
   ]
  },
  {
   "cell_type": "markdown",
   "metadata": {},
   "source": [
    "### On regroupe les questions 3, 4, 5, et 6 (Elles sont géré en même temps)"
   ]
  },
  {
   "cell_type": "markdown",
   "metadata": {},
   "source": [
    "###### 4. Affichez les coefficients trouvés, ainsi que la valeur de E(amin , bmin ) et le nombre d’itérations.\n",
    "> Constatation en bas de chaque changement!"
   ]
  },
  {
   "cell_type": "markdown",
   "metadata": {},
   "source": [
    "###### 5. Importez la fonction stats.linregress de scipy. Utilisez cette fonction pour résoudre le même problème.\n",
    ">Comparaison et constatation toute en bas!"
   ]
  },
  {
   "cell_type": "markdown",
   "metadata": {},
   "source": [
    "##### <span style=\"color:red\">• a) Premierement: Approximation avec stats.linregress </span>."
   ]
  },
  {
   "cell_type": "code",
   "execution_count": 13,
   "metadata": {},
   "outputs": [],
   "source": [
    "from scipy.stats import linregress"
   ]
  },
  {
   "cell_type": "code",
   "execution_count": 14,
   "metadata": {},
   "outputs": [
    {
     "name": "stdout",
     "output_type": "stream",
     "text": [
      "Le minimum en (a= 30.49158415619082 ,b= 0.43487087154362464 ) est:\n",
      " E(a, b)= 43.74321724050921\n"
     ]
    },
    {
     "data": {
      "image/png": "[encoded data removed]",
      "text/plain": [
       "<Figure size 432x288 with 1 Axes>"
      ]
     },
     "metadata": {
      "needs_background": "light"
     },
     "output_type": "display_data"
    }
   ],
   "source": [
    "a, b, r_value, p_value, std_err = linregress(x, y)\n",
    "print(\"Le minimum en (a=\", a,\",b=\", b, \") est:\\n E(a, b)=\", E(a, b, x, y))\n",
    "plt.scatter(x,y, label=\"Jeu de données\", c = 'r')\n",
    "plt.plot(x, [(a*xx+b) for xx in x], label=\"F(x): (a,b) de stats.linregress\")\n",
    "plt.legend()\n",
    "plt.show()"
   ]
  },
  {
   "cell_type": "markdown",
   "metadata": {},
   "source": [
    "##### <span style=\"color:red\">• b) Ensuite: Approximation avec stats.linregress </span>.\n",
    "###### <span style=\"color:green\">• η = 0.001, nombremax = 100 </span>."
   ]
  },
  {
   "cell_type": "code",
   "execution_count": 15,
   "metadata": {},
   "outputs": [
    {
     "name": "stdout",
     "output_type": "stream",
     "text": [
      "Le minimum en (aMin= 4.229933247670198 ,bMin= 1.8561502389305133 ) est:\n",
      " E(aMin, bMin)= 444.47918641628894\n",
      "Nombre d'iterations: 100\n"
     ]
    },
    {
     "data": {
      "image/png": "[encoded data removed]",
      "text/plain": [
       "<Figure size 432x288 with 1 Axes>"
      ]
     },
     "metadata": {
      "needs_background": "light"
     },
     "output_type": "display_data"
    }
   ],
   "source": [
    "aMin, bMin, nbr_Iter= GD(nbrMax=100, epsilon=0.001, alpha=0.001, a0=1, b0=2, x=x, y=y)\n",
    "print(\"Le minimum en (aMin=\", aMin,\",bMin=\", bMin, \") est:\\n E(aMin, bMin)=\", E(aMin, bMin, x, y))\n",
    "print(\"Nombre d'iterations:\", nbr_Iter)\n",
    "plt.scatter(x,y, label=\"Jeu de données\", c = 'r')\n",
    "plt.plot(x, [(aMin*xx+bMin) for xx in x], label=\"F(x): (aMin,bMin) \")\n",
    "plt.legend()\n",
    "plt.show()"
   ]
  },
  {
   "cell_type": "markdown",
   "metadata": {},
   "source": [
    "Mauvais Modèle!\n",
    "###### <span style=\"color:green\">• η = 0.001, nombremax = 500 </span>. "
   ]
  },
  {
   "cell_type": "code",
   "execution_count": 16,
   "metadata": {},
   "outputs": [
    {
     "name": "stdout",
     "output_type": "stream",
     "text": [
      "Le minimum en (aMin= 13.978863857301315 ,bMin= 1.4006937405064475 ) est:\n",
      " E(aMin, bMin)= 202.24312736607618\n",
      "Nombre d'iterations: 500\n"
     ]
    },
    {
     "data": {
      "image/png": "[encoded data removed]",
      "text/plain": [
       "<Figure size 432x288 with 1 Axes>"
      ]
     },
     "metadata": {
      "needs_background": "light"
     },
     "output_type": "display_data"
    }
   ],
   "source": [
    "aMin, bMin, nbr_Iter= GD(nbrMax=500, epsilon=0.001, alpha=0.001, a0=1, b0=2, x=x, y=y)\n",
    "print(\"Le minimum en (aMin=\", aMin,\",bMin=\", bMin, \") est:\\n E(aMin, bMin)=\", E(aMin, bMin, x, y))\n",
    "print(\"Nombre d'iterations:\", nbr_Iter)\n",
    "plt.scatter(x,y, label=\"Jeu de données\", c = 'r')\n",
    "plt.plot(x, [(aMin*xx+bMin) for xx in x], label=\"F(x): (aMin,bMin) \")\n",
    "plt.legend()\n",
    "plt.show()"
   ]
  },
  {
   "cell_type": "markdown",
   "metadata": {},
   "source": [
    "On constate que quand le nombre d'iterations augument le modèle devient plus performant! mais encore: Mauvis modèle!\n",
    "###### <span style=\"color:green\">• η = 0.001, nombremax = 1000 </span>. "
   ]
  },
  {
   "cell_type": "code",
   "execution_count": 17,
   "metadata": {},
   "outputs": [
    {
     "name": "stdout",
     "output_type": "stream",
     "text": [
      "Le minimum en (aMin= 21.245847130997102 ,bMin= 1.029910540875861 ) est:\n",
      " E(aMin, bMin)= 93.46372371153892\n",
      "Nombre d'iterations: 1000\n"
     ]
    },
    {
     "data": {
      "image/png": "[encoded data removed]",
      "text/plain": [
       "<Figure size 432x288 with 1 Axes>"
      ]
     },
     "metadata": {
      "needs_background": "light"
     },
     "output_type": "display_data"
    }
   ],
   "source": [
    "aMin, bMin, nbr_Iter= GD(nbrMax=1000, epsilon=0.001, alpha=0.001, a0=1, b0=2, x=x, y=y)\n",
    "print(\"Le minimum en (aMin=\", aMin,\",bMin=\", bMin, \") est:\\n E(aMin, bMin)=\", E(aMin, bMin, x, y))\n",
    "print(\"Nombre d'iterations:\", nbr_Iter)\n",
    "plt.scatter(x,y, label=\"Jeu de données\", c = 'r')\n",
    "plt.plot(x, [(aMin*xx+bMin) for xx in x], label=\"F(x): (aMin,bMin) \")\n",
    "plt.legend()\n",
    "plt.show()"
   ]
  },
  {
   "cell_type": "markdown",
   "metadata": {},
   "source": [
    "On constate que quand le nombre d'iterations augument le modèle devient plus performant! mais encore: Mauvis modèle!\n",
    "###### <span style=\"color:green\">• η = 0.01, nombremax = 1000 </span>. "
   ]
  },
  {
   "cell_type": "code",
   "execution_count": 18,
   "metadata": {},
   "outputs": [
    {
     "name": "stdout",
     "output_type": "stream",
     "text": [
      "Le minimum en (aMin= 30.338155647838217 ,bMin= 0.4537008081912936 ) est:\n",
      " E(aMin, bMin)= 43.75703502273515\n",
      "Nombre d'iterations: 451\n"
     ]
    },
    {
     "data": {
      "image/png": "[encoded data removed]",
      "text/plain": [
       "<Figure size 432x288 with 1 Axes>"
      ]
     },
     "metadata": {
      "needs_background": "light"
     },
     "output_type": "display_data"
    }
   ],
   "source": [
    "aMin, bMin, nbr_Iter= GD(nbrMax=1000, epsilon=0.001, alpha=0.01, a0=1, b0=2, x=x, y=y)\n",
    "print(\"Le minimum en (aMin=\", aMin,\",bMin=\", bMin, \") est:\\n E(aMin, bMin)=\", E(aMin, bMin, x, y))\n",
    "print(\"Nombre d'iterations:\", nbr_Iter)\n",
    "plt.scatter(x,y, label=\"Jeu de données\", c = 'r')\n",
    "plt.plot(x, [(aMin*xx+bMin) for xx in x], label=\"F(x): (aMin,bMin) \")\n",
    "plt.legend()\n",
    "plt.show()"
   ]
  },
  {
   "cell_type": "markdown",
   "metadata": {},
   "source": [
    "On constate que l'augumentation de la distance de la descent modifier la péformance de modèle! \n",
    "\n",
    "Plus au moins, bon modèle!\n",
    "###### <span style=\"color:green\">• η = 1, nombremax = 1000 </span>. "
   ]
  },
  {
   "cell_type": "code",
   "execution_count": 47,
   "metadata": {},
   "outputs": [
    {
     "name": "stdout",
     "output_type": "stream",
     "text": [
      "Le minimum en (aMin= 40.31866992090743 ,bMin= -0.28561474150742405 ) est:\n",
      " E(aMin, bMin)= [[32.4946631]]\n",
      "Nombre d'iterations: 5\n"
     ]
    },
    {
     "data": {
      "image/png": "[encoded data removed]",
      "text/plain": [
       "<matplotlib.figure.Figure at 0x7fbac4fa6358>"
      ]
     },
     "metadata": {},
     "output_type": "display_data"
    }
   ],
   "source": [
    "aMin, bMin, nbr_Iter= GD(nbrMax=1000, epsilon=0.01, alpha=1, a0=1, b0=2, x=x, y=y)\n",
    "print(\"Le minimum en (aMin=\", aMin,\",bMin=\", bMin, \") est:\\n E(aMin, bMin)=\", E(aMin, bMin, x, y))\n",
    "print(\"Nombre d'iterations:\", nbr_Iter)\n",
    "plt.scatter(x,y, label=\"Jeu de données\", c = 'r')\n",
    "plt.plot(x, [(aMin*xx+bMin) for xx in x], label=\"F(x): (aMin,bMin) \")\n",
    "plt.legend()\n",
    "plt.show()"
   ]
  },
  {
   "cell_type": "markdown",
   "metadata": {},
   "source": [
    "Très bon modèle! on a augumenter la distance (learning rate)!\n",
    "###### 5. Comparaison des résultats obtenues!\n",
    "On comparant entre le résultat de la partie a) et le dérnier résultat de la partie b), on trouve une similarité plus au moins \n",
    "parfaite!\n",
    "###### 5. Que constatez-vous ?\n",
    "On constate que l'implémentation donne des résultats similaire à la fonction ```linregress``` une fois les bons paramètre sont fixés!\n",
    "###### 6. Visualisez le jeu de données généré avec les fonctions approximatives obtenues en utilisant les deux méthodes.\n",
    "> voir figures!"
   ]
  },
  {
   "cell_type": "markdown",
   "metadata": {},
   "source": [
    "# <p style=\"text-align: center\">Merci pour votre lecture!</p>"
   ]
  }
 ],
 "metadata": {
  "kernelspec": {
   "display_name": "Python 3",
   "language": "python",
   "name": "python3"
  },
  "language_info": {
   "codemirror_mode": {
    "name": "ipython",
    "version": 3
   },
   "file_extension": ".py",
   "mimetype": "text/x-python",
   "name": "python",
   "nbconvert_exporter": "python",
   "pygments_lexer": "ipython3",
   "version": "3.7.4"
  }
 },
 "nbformat": 4,
 "nbformat_minor": 2
}
