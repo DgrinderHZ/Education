{
 "cells": [
  {
   "cell_type": "markdown",
   "metadata": {},
   "source": [
    "![image](images/regMult.png)"
   ]
  },
  {
   "cell_type": "code",
   "execution_count": 9,
   "metadata": {},
   "outputs": [],
   "source": [
    "import pandas as pd\n",
    "import numpy as np\n",
    "from sklearn import linear_model"
   ]
  },
  {
   "cell_type": "code",
   "execution_count": 10,
   "metadata": {
    "scrolled": true
   },
   "outputs": [
    {
     "data": {
      "text/html": [
       "<div>\n",
       "<table border=\"1\" class=\"dataframe\">\n",
       "  <thead>\n",
       "    <tr style=\"text-align: right;\">\n",
       "      <th></th>\n",
       "      <th>Prix</th>\n",
       "      <th>Qualite</th>\n",
       "      <th>Surface</th>\n",
       "    </tr>\n",
       "  </thead>\n",
       "  <tbody>\n",
       "    <tr>\n",
       "      <th>0</th>\n",
       "      <td>313.0</td>\n",
       "      <td>3</td>\n",
       "      <td>90</td>\n",
       "    </tr>\n",
       "    <tr>\n",
       "      <th>1</th>\n",
       "      <td>720.0</td>\n",
       "      <td>5</td>\n",
       "      <td>110</td>\n",
       "    </tr>\n",
       "    <tr>\n",
       "      <th>2</th>\n",
       "      <td>250.0</td>\n",
       "      <td>4</td>\n",
       "      <td>40</td>\n",
       "    </tr>\n",
       "    <tr>\n",
       "      <th>3</th>\n",
       "      <td>290.0</td>\n",
       "      <td>3</td>\n",
       "      <td>60</td>\n",
       "    </tr>\n",
       "    <tr>\n",
       "      <th>4</th>\n",
       "      <td>190.0</td>\n",
       "      <td>3</td>\n",
       "      <td>50</td>\n",
       "    </tr>\n",
       "  </tbody>\n",
       "</table>\n",
       "</div>"
      ],
      "text/plain": [
       "    Prix  Qualite  Surface\n",
       "0  313.0        3       90\n",
       "1  720.0        5      110\n",
       "2  250.0        4       40\n",
       "3  290.0        3       60\n",
       "4  190.0        3       50"
      ]
     },
     "execution_count": 10,
     "metadata": {},
     "output_type": "execute_result"
    }
   ],
   "source": [
    "data = {\"Prix\":[313.00, 720.0, 250., 290, 190.],\n",
    "        \"Surface\": [90, 110, 40, 60, 50],\n",
    "       \"Qualite\": [3, 5, 4, 3, 3],\n",
    "       \"Code postal\": [95000, 93000, 44500, 67000, 59300]}\n",
    "df = pd.DataFrame(data)\n",
    "df.iloc[:, 1:]"
   ]
  },
  {
   "cell_type": "markdown",
   "metadata": {},
   "source": [
    "```prix = a1 * surface + a2  * qualite + a3 * code_postal + b```"
   ]
  },
  {
   "cell_type": "code",
   "execution_count": 11,
   "metadata": {},
   "outputs": [
    {
     "data": {
      "text/plain": [
       "LinearRegression(copy_X=True, fit_intercept=True, n_jobs=1, normalize=False)"
      ]
     },
     "execution_count": 11,
     "metadata": {},
     "output_type": "execute_result"
    }
   ],
   "source": [
    "reg = linear_model.LinearRegression()\n",
    "reg.fit(df[[\"Surface\", \"Qualite\", \"Code postal\"]], df.Prix)"
   ]
  },
  {
   "cell_type": "code",
   "execution_count": 12,
   "metadata": {},
   "outputs": [],
   "source": [
    "ai = reg.coef_ # beta\n",
    "b = reg.intercept_ # b, bias"
   ]
  },
  {
   "cell_type": "code",
   "execution_count": 13,
   "metadata": {},
   "outputs": [
    {
     "data": {
      "text/plain": [
       "array([ 2.91370156e+01, -1.15916550e+02, -2.98106322e-02])"
      ]
     },
     "execution_count": 13,
     "metadata": {},
     "output_type": "execute_result"
    }
   ],
   "source": [
    "ai"
   ]
  },
  {
   "cell_type": "code",
   "execution_count": 14,
   "metadata": {},
   "outputs": [
    {
     "data": {
      "text/plain": [
       "869.5194527969694"
      ]
     },
     "execution_count": 14,
     "metadata": {},
     "output_type": "execute_result"
    }
   ],
   "source": [
    "b"
   ]
  },
  {
   "cell_type": "markdown",
   "metadata": {},
   "source": [
    "## Prédiction!"
   ]
  },
  {
   "cell_type": "code",
   "execution_count": 26,
   "metadata": {
    "scrolled": true
   },
   "outputs": [
    {
     "name": "stdout",
     "output_type": "stream",
     "text": [
      "predicted: [1322.24245833] Calculated: 1322.2424583288766\n"
     ]
    }
   ],
   "source": [
    "test = [100, 4, 67000]\n",
    "new_prix = reg.predict([test]) # prediction\n",
    "prix = ai[0] * test[0] + ai[1] * test[1] + ai[2] * test[2] + b\n",
    "print(\"predicted:\", new_prix, \"Calculated:\", prix)"
   ]
  },
  {
   "cell_type": "markdown",
   "metadata": {},
   "source": [
    "#### pour une valeur passé comme donné d'entrainement"
   ]
  },
  {
   "cell_type": "code",
   "execution_count": 16,
   "metadata": {},
   "outputs": [
    {
     "name": "stdout",
     "output_type": "stream",
     "text": [
      "predicted: [312.09114972] Calculated: 312.09114971968995\n"
     ]
    }
   ],
   "source": [
    "test = [90, 3, 95000]\n",
    "new_prix = reg.predict([test])\n",
    "prix = ai[0] * test[0] + ai[1] * test[1] + ai[2] * test[2] + b\n",
    "print(\"predicted:\", new_prix, \"Calculated:\", prix)"
   ]
  },
  {
   "cell_type": "markdown",
   "metadata": {},
   "source": [
    "# Implémantation from scratch!"
   ]
  },
  {
   "cell_type": "markdown",
   "metadata": {},
   "source": [
    "![image](images/ModRegMul.png)\n",
    "![image](images/ModRegMul1.png)"
   ]
  },
  {
   "cell_type": "code",
   "execution_count": 17,
   "metadata": {},
   "outputs": [],
   "source": [
    "# importer les librairies\n",
    "import pandas as pd\n",
    "import numpy as np"
   ]
  },
  {
   "cell_type": "markdown",
   "metadata": {},
   "source": [
    "![image](images/ModRegMul2.png)\n"
   ]
  },
  {
   "cell_type": "markdown",
   "metadata": {},
   "source": [
    "#### <p style=\"color: red; font-size: 20px;\">On cherche:</p>\n",
    "```Beta```\n",
    "![image](images/ModRegMulSol.png)"
   ]
  },
  {
   "cell_type": "markdown",
   "metadata": {},
   "source": [
    "##### Nous allons travailler avec des matrice! ```numpy.array``` et la POO!"
   ]
  },
  {
   "cell_type": "code",
   "execution_count": 18,
   "metadata": {},
   "outputs": [],
   "source": [
    "class mul_linear_reg(object):\n",
    "    \"\"\"docstring for linear_reg\n",
    "\n",
    "    beta: les coefficients\n",
    "    \"\"\"\n",
    "    def __init__(self):\n",
    "        \"\"\" initialement vide \"\"\"\n",
    "        self.beta = []\n",
    "\n",
    "    def fit(self, X, Y):\n",
    "        \"\"\" Cette methode calcul beta \n",
    "        on se basant sur X et Y!\n",
    "        \"\"\"\n",
    "        # etape 1: \n",
    "        # ajouter la colonne contenant les 1 (b, bias)\n",
    "        # reshape(-1, 1) presque comme Transposé(vecteur)\n",
    "        uns = np.ones(shape=X.shape[0]).reshape(-1, 1)\n",
    "        X = np.concatenate((uns, X), 1)\n",
    "        # etape 2:\n",
    "        # implémentation de la formule\n",
    "        self.beta = np.linalg.inv(X.transpose().dot(X)).dot(X.transpose()).dot(Y)\n",
    "\n",
    "    def predire(self, entree):\n",
    "        \"\"\"Cette methode calcul la prédiction\"\"\"\n",
    "        beta0 = self.beta[0]\n",
    "        autres_betas = self.beta[1:]\n",
    "        prediction = beta0\n",
    "        for x_i, b_i in zip(entree, autres_betas):\n",
    "            prediction += (b_i * x_i)\n",
    "        return prediction"
   ]
  },
  {
   "cell_type": "markdown",
   "metadata": {},
   "source": [
    "###### On va tester sur les données sur la première image!"
   ]
  },
  {
   "cell_type": "code",
   "execution_count": 19,
   "metadata": {},
   "outputs": [],
   "source": [
    "# Jeu de données (Pour tester)\n",
    "x1 = [90, 110, 40, 60, 50] # \"Surface\"\n",
    "x2 = [3, 5, 4, 3, 3] # \"Qualite\"\n",
    "x3 =[95000, 93000, 44500, 67000, 59300] # \"Code postal\"\n",
    "x = [x1, x2, x3]\n",
    "y = [313.00, 720.0, 250., 290, 190.] # \"Prix\" à prédire"
   ]
  },
  {
   "cell_type": "code",
   "execution_count": 20,
   "metadata": {},
   "outputs": [],
   "source": [
    "X = np.array(x).transpose() # .transpose() est importante\n",
    "Y = np.array(y)"
   ]
  },
  {
   "cell_type": "markdown",
   "metadata": {},
   "source": [
    "**Prix = B<sub>1</sub> * surface + B<sub>2</sub> * qualite + B<sub>3</sub> * code_postal + b**"
   ]
  },
  {
   "cell_type": "code",
   "execution_count": 21,
   "metadata": {},
   "outputs": [],
   "source": [
    "# teste de notre classe\n",
    "modele = mul_linear_reg()\n",
    "modele.fit(X,Y)"
   ]
  },
  {
   "cell_type": "code",
   "execution_count": 22,
   "metadata": {},
   "outputs": [
    {
     "name": "stdout",
     "output_type": "stream",
     "text": [
      "predicted: [312.09114972] \n",
      "Calculated: 312.0911497194925\n"
     ]
    }
   ],
   "source": [
    "test = [90, 3, 95000]\n",
    "new_prix = reg.predict([test]) # fonction scikit-learn\n",
    "prix  = modele.predire(test)\n",
    "print(\"predicted:\", new_prix, \"\\nCalculated:\", prix)"
   ]
  },
  {
   "cell_type": "markdown",
   "metadata": {},
   "source": [
    "On remarque que les résultats se ressemblent!\n",
    "\n",
    "On va voir que c'est pareille avec tous les données:!\n"
   ]
  },
  {
   "cell_type": "code",
   "execution_count": 23,
   "metadata": {},
   "outputs": [],
   "source": [
    "# Jeu de données (Pour tester)\n",
    "x1 = [90, 110, 40, 60, 50] # \"Surface\"\n",
    "x2 = [3, 5, 4, 3, 3] # \"Qualite\"\n",
    "x3 =[95000, 93000, 44500, 67000, 59300] # \"Code postal\"\n",
    "x = [x1, x2, x3]\n",
    "y = [313.00, 720.0, 250., 290, 190.] # \"Prix\"\n",
    "\n",
    "x = np.array(x).transpose()\n",
    "new_prix = [reg.predict([test]) for test in x]\n",
    "prix = [modele.predire(test) for test in x]\n",
    "df = pd.DataFrame(data={\"Avec sklearn\": new_prix, \"Avec mul_linear_reg\": prix})"
   ]
  },
  {
   "cell_type": "code",
   "execution_count": 24,
   "metadata": {
    "scrolled": true
   },
   "outputs": [
    {
     "data": {
      "text/html": [
       "<div>\n",
       "<table border=\"1\" class=\"dataframe\">\n",
       "  <thead>\n",
       "    <tr style=\"text-align: right;\">\n",
       "      <th></th>\n",
       "      <th>Avec mul_linear_reg</th>\n",
       "      <th>Avec sklearn</th>\n",
       "    </tr>\n",
       "  </thead>\n",
       "  <tbody>\n",
       "    <tr>\n",
       "      <th>0</th>\n",
       "      <td>312.091150</td>\n",
       "      <td>[312.09114971968995]</td>\n",
       "    </tr>\n",
       "    <tr>\n",
       "      <th>1</th>\n",
       "      <td>722.619627</td>\n",
       "      <td>[722.6196272786652]</td>\n",
       "    </tr>\n",
       "    <tr>\n",
       "      <th>2</th>\n",
       "      <td>244.760745</td>\n",
       "      <td>[244.7607454430514]</td>\n",
       "    </tr>\n",
       "    <tr>\n",
       "      <th>3</th>\n",
       "      <td>272.678383</td>\n",
       "      <td>[272.67838289335066]</td>\n",
       "    </tr>\n",
       "    <tr>\n",
       "      <th>4</th>\n",
       "      <td>210.850095</td>\n",
       "      <td>[210.85009466524286]</td>\n",
       "    </tr>\n",
       "  </tbody>\n",
       "</table>\n",
       "</div>"
      ],
      "text/plain": [
       "   Avec mul_linear_reg          Avec sklearn\n",
       "0           312.091150  [312.09114971968995]\n",
       "1           722.619627   [722.6196272786652]\n",
       "2           244.760745   [244.7607454430514]\n",
       "3           272.678383  [272.67838289335066]\n",
       "4           210.850095  [210.85009466524286]"
      ]
     },
     "execution_count": 24,
     "metadata": {},
     "output_type": "execute_result"
    }
   ],
   "source": [
    "df"
   ]
  },
  {
   "cell_type": "code",
   "execution_count": 25,
   "metadata": {},
   "outputs": [
    {
     "name": "stdout",
     "output_type": "stream",
     "text": [
      "predicted: [1322.24245833] \n",
      "Calculated: 1322.242458328745\n"
     ]
    }
   ],
   "source": [
    "test = [100, 4, 67000]\n",
    "new_prix = reg.predict([test]) # fonction scikit-learn\n",
    "prix  = modele.predire(test)\n",
    "print(\"predicted:\", new_prix, \"\\nCalculated:\", prix)"
   ]
  },
  {
   "cell_type": "markdown",
   "metadata": {},
   "source": [
    "# <p style=\"text-align: center\">Merci pour votre lecture!</p>"
   ]
  }
 ],
 "metadata": {
  "kernelspec": {
   "display_name": "Python 3",
   "language": "python",
   "name": "python3"
  },
  "language_info": {
   "codemirror_mode": {
    "name": "ipython",
    "version": 3
   },
   "file_extension": ".py",
   "mimetype": "text/x-python",
   "name": "python",
   "nbconvert_exporter": "python",
   "pygments_lexer": "ipython3",
   "version": "3.7.4"
  }
 },
 "nbformat": 4,
 "nbformat_minor": 2
}
