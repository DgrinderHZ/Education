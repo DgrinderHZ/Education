{
 "cells": [
  {
   "cell_type": "markdown",
   "metadata": {},
   "source": [
    "# Partie A: Descente de gradient"
   ]
  },
  {
   "cell_type": "markdown",
   "metadata": {},
   "source": [
    "### 1. Calcule de l’expression analytique de la fonction"
   ]
  },
  {
   "cell_type": "markdown",
   "metadata": {},
   "source": [
    "On considère la fonction dont l'expression analytique est le suivante:"
   ]
  },
  {
   "cell_type": "markdown",
   "metadata": {},
   "source": [
    "![image](images/fact.png)"
   ]
  },
  {
   "cell_type": "markdown",
   "metadata": {},
   "source": [
    "Sa dérivée:\n",
    "![image](images/ePrime.png)"
   ]
  },
  {
   "cell_type": "markdown",
   "metadata": {},
   "source": [
    "### Visualisation"
   ]
  },
  {
   "cell_type": "code",
   "execution_count": 1,
   "metadata": {},
   "outputs": [],
   "source": [
    "from matplotlib import pyplot as plt"
   ]
  },
  {
   "cell_type": "code",
   "execution_count": 1,
   "metadata": {},
   "outputs": [],
   "source": [
    "def E(xliste):\n",
    "    \"\"\" E prend une list des x et calcul\n",
    "        y = E(x)\n",
    "    \"\"\"\n",
    "    y=[]\n",
    "    for x in xliste:\n",
    "         y.append(x**4 - 11*(x**3) + 41*(x**2) - 61*x + 30)\n",
    "    return y"
   ]
  },
  {
   "cell_type": "code",
   "execution_count": 2,
   "metadata": {},
   "outputs": [],
   "source": [
    "def Eprime(xliste):\n",
    "    \"\"\" Eprime prend une list des x et calcul\n",
    "        y = E'(x)\n",
    "    \"\"\"\n",
    "    y=[]\n",
    "    for x in xliste:\n",
    "         y.append(4*(x**3) - 33*(x**2) + 82*x - 61)\n",
    "    return y"
   ]
  },
  {
   "cell_type": "code",
   "execution_count": 4,
   "metadata": {
    "scrolled": false
   },
   "outputs": [
    {
     "data": {
      "image/png": "[encoded data removed]",
      "text/plain": [
       "<Figure size 432x288 with 1 Axes>"
      ]
     },
     "metadata": {
      "needs_background": "light"
     },
     "output_type": "display_data"
    }
   ],
   "source": [
    "x = [i for i in range(-20, 25)]\n",
    "y = E(x) \n",
    "yPrime = Eprime(x)\n",
    "plt.plot(x,y, label=\"E(x)\")\n",
    "plt.plot(x,yPrime, label=\"E'(x)\")\n",
    "plt.legend()\n",
    "plt.show()"
   ]
  },
  {
   "cell_type": "markdown",
   "metadata": {},
   "source": [
    "### 2. Implémentation de l’algorithme DG sous Python pour la fonction E(x)."
   ]
  },
  {
   "cell_type": "code",
   "execution_count": 3,
   "metadata": {},
   "outputs": [],
   "source": [
    "def EprimeX(x):\n",
    "    \"\"\" EprimeX prend une x et calcul\n",
    "        y = E'(x)\n",
    "    \"\"\"\n",
    "    res = 4*(x**3) - 33*(x**2) + 82*x - 61\n",
    "    return res\n",
    "\n",
    "def GD(nbrMax, epsilon, nu, x0):\n",
    "    \"\"\" Gradient Descent\n",
    "    \n",
    "        nu: learning rate\n",
    "        epsilon: taux de convergence (quand on doit s'arréter)\n",
    "        nbrMax: Nombre maximal d'itérations\n",
    "        x0: x de départ\n",
    "    \"\"\"\n",
    "    x = x0 - nu * EprimeX(x0)\n",
    "    i = 1\n",
    "    while abs(x-x0)>epsilon and i < nbrMax:\n",
    "        x0 = x\n",
    "        x = x0 - nu * EprimeX(x0)\n",
    "        i += 1\n",
    "    return (x,i)"
   ]
  },
  {
   "cell_type": "code",
   "execution_count": 4,
   "metadata": {},
   "outputs": [],
   "source": [
    "def Ex(x):\n",
    "    \"\"\" E prend une x et calcul\n",
    "        y = E(x)\n",
    "    \"\"\"\n",
    "    return (x**4 - 11*(x**3) + 41*(x**2) - 61*x + 30)"
   ]
  },
  {
   "cell_type": "markdown",
   "metadata": {},
   "source": [
    "### 3. Teste de l’algorithme implémenté \n",
    "Pour comprendre ce que fait effectivement la DG, testez l’algorithme implémenté en\n",
    "utilisant des exemples d’exécutions avec des valeurs initiales de x0 et η suivantes :"
   ]
  },
  {
   "cell_type": "markdown",
   "metadata": {},
   "source": [
    "###### • x0 = 5 et η = 0.001"
   ]
  },
  {
   "cell_type": "code",
   "execution_count": 5,
   "metadata": {},
   "outputs": [
    {
     "name": "stdout",
     "output_type": "stream",
     "text": [
      "Le minimum en xMin= 4.661483315686318 est: E(xMin) -5.480963002094427\n",
      "Nombre d'iterations: 22\n"
     ]
    }
   ],
   "source": [
    "xMin, nbr_Iter = GD(nbrMax=1000, epsilon=0.01, nu=0.001, x0=5)\n",
    "print(\"Le minimum en xMin=\", xMin,\"est: E(xMin)\", Ex(xMin))\n",
    "print(\"Nombre d'iterations:\", nbr_Iter)"
   ]
  },
  {
   "cell_type": "markdown",
   "metadata": {},
   "source": [
    "###### • x0 = 5 et η = 0.01"
   ]
  },
  {
   "cell_type": "code",
   "execution_count": 8,
   "metadata": {
    "scrolled": true
   },
   "outputs": [
    {
     "name": "stdout",
     "output_type": "stream",
     "text": [
      "Le minimum en xMin= 4.361008294913719 est: E(xMin) -6.9011757851308175\n",
      "Nombre d'iterations: 10\n"
     ]
    }
   ],
   "source": [
    "xMin, nbr_Iter = GD(nbrMax=1000, epsilon=0.01, nu=0.01, x0=5)\n",
    "print(\"Le minimum en xMin=\", xMin,\"est: E(xMin)\", Ex(xMin))\n",
    "print(\"Nombre d'iterations:\", nbr_Iter)"
   ]
  },
  {
   "cell_type": "markdown",
   "metadata": {},
   "source": [
    "On augument le learning rate est le nombre d'iteration diminue!"
   ]
  },
  {
   "cell_type": "markdown",
   "metadata": {},
   "source": [
    "###### • x0 = 5 et η = 0.1"
   ]
  },
  {
   "cell_type": "code",
   "execution_count": 9,
   "metadata": {
    "scrolled": false
   },
   "outputs": [
    {
     "name": "stdout",
     "output_type": "stream",
     "text": [
      "Le minimum en xMin= 4.104990789406397 est: E(xMin) -6.463930507818446\n",
      "Nombre d'iterations: 1000\n"
     ]
    }
   ],
   "source": [
    "xMin, nbr_Iter = GD(nbrMax=1000, epsilon=0.01, nu=0.1, x0=5)\n",
    "print(\"Le minimum en xMin=\", xMin,\"est: E(xMin)\", Ex(xMin))\n",
    "print(\"Nombre d'iterations:\", nbr_Iter)"
   ]
  },
  {
   "cell_type": "markdown",
   "metadata": {},
   "source": [
    "On augument le learning rate est le nombre d'iteration augument!"
   ]
  },
  {
   "cell_type": "markdown",
   "metadata": {},
   "source": [
    "###### • x0 = 5 et η = 0.17"
   ]
  },
  {
   "cell_type": "code",
   "execution_count": 10,
   "metadata": {
    "scrolled": false
   },
   "outputs": [
    {
     "name": "stdout",
     "output_type": "stream",
     "text": [
      "Le minimum en xMin= 1.65839377699626 est: E(xMin) -1.0083047800537628\n",
      "Nombre d'iterations: 1000\n"
     ]
    }
   ],
   "source": [
    "xMin, nbr_Iter = GD(nbrMax=1000, epsilon=0.01, nu=0.17, x0=5)\n",
    "print(\"Le minimum en xMin=\", xMin,\"est: E(xMin)\", Ex(xMin))\n",
    "print(\"Nombre d'iterations:\", nbr_Iter)"
   ]
  },
  {
   "cell_type": "markdown",
   "metadata": {},
   "source": [
    "Un changement brusque de learning rate change le min!"
   ]
  },
  {
   "cell_type": "markdown",
   "metadata": {},
   "source": [
    "###### • x0 = 5 et η = 1"
   ]
  },
  {
   "cell_type": "code",
   "execution_count": null,
   "metadata": {},
   "outputs": [],
   "source": [
    "xMin, nbr_Iter = GD(nbrMax=1000, epsilon=0.01, nu=1, x0=5)\n",
    "print(\"Le minimum en xMin=\", xMin,\"est: E(xMin)\", Ex(xMin))\n",
    "print(\"Nombre d'iterations:\", nbr_Iter)"
   ]
  },
  {
   "cell_type": "markdown",
   "metadata": {},
   "source": [
    "Mauvais learning rate! ne donne pas de resultat!"
   ]
  },
  {
   "cell_type": "markdown",
   "metadata": {},
   "source": [
    "###### • x0 = 5 et η = 0.001"
   ]
  },
  {
   "cell_type": "code",
   "execution_count": 11,
   "metadata": {},
   "outputs": [
    {
     "name": "stdout",
     "output_type": "stream",
     "text": [
      "Le minimum en xMin= 0.9494071180705481 est: E(xMin) 0.44149105986255677\n",
      "Nombre d'iterations: 39\n"
     ]
    }
   ],
   "source": [
    "xMin, nbr_Iter = GD(nbrMax=1000, epsilon=0.01, nu=0.001, x0=0)\n",
    "print(\"Le minimum en xMin=\", xMin,\"est: E(xMin)\", Ex(xMin))\n",
    "print(\"Nombre d'iterations:\", nbr_Iter)"
   ]
  },
  {
   "cell_type": "markdown",
   "metadata": {},
   "source": [
    "On constate ce learning rate est très bon! "
   ]
  },
  {
   "cell_type": "markdown",
   "metadata": {},
   "source": [
    "###### 5. Visualisation l’évolution des minimums de la fonction E(x) trouvés au cours des itérations."
   ]
  },
  {
   "cell_type": "code",
   "execution_count": 12,
   "metadata": {},
   "outputs": [],
   "source": [
    "def GDvisualise(nbrMax, epsilon, nu, x0):\n",
    "    x = x0 - nu * EprimeX(x0)\n",
    "    i = 1\n",
    "    plt.scatter(x, Ex(x))\n",
    "    while abs(x-x0)>epsilon and i < nbrMax:\n",
    "        x0 = x\n",
    "        x = x0 - nu * EprimeX(x0)\n",
    "        i += 1\n",
    "        plt.scatter(x, Ex(x))\n",
    "    return (x,i)"
   ]
  },
  {
   "cell_type": "markdown",
   "metadata": {},
   "source": [
    "###### • x0 = 5 et η = 0.01"
   ]
  },
  {
   "cell_type": "code",
   "execution_count": 13,
   "metadata": {
    "scrolled": true
   },
   "outputs": [
    {
     "name": "stdout",
     "output_type": "stream",
     "text": [
      "Le minimum en xMin= 4.661483315686318 est: E(xMin) -5.480963002094427\n",
      "Nombre d'iterations: 22\n"
     ]
    },
    {
     "data": {
      "image/png": "[encoded data removed]",
      "text/plain": [
       "<Figure size 432x288 with 1 Axes>"
      ]
     },
     "metadata": {
      "needs_background": "light"
     },
     "output_type": "display_data"
    }
   ],
   "source": [
    "xMin, nbr_Iter = GDvisualise(nbrMax=1000, epsilon=0.01, nu=0.001, x0=5)\n",
    "print(\"Le minimum en xMin=\", xMin,\"est: E(xMin)\", Ex(xMin))\n",
    "print(\"Nombre d'iterations:\", nbr_Iter)\n",
    "plt.show()"
   ]
  },
  {
   "cell_type": "code",
   "execution_count": 14,
   "metadata": {},
   "outputs": [
    {
     "name": "stdout",
     "output_type": "stream",
     "text": [
      "Le minimum en xMin= 4.361008294913719 est: E(xMin) -6.9011757851308175\n",
      "Nombre d'iterations: 10\n"
     ]
    },
    {
     "data": {
      "image/png": "[encoded data removed]",
      "text/plain": [
       "<Figure size 432x288 with 1 Axes>"
      ]
     },
     "metadata": {
      "needs_background": "light"
     },
     "output_type": "display_data"
    }
   ],
   "source": [
    "xMin, nbr_Iter = GDvisualise(nbrMax=1000, epsilon=0.01, nu=0.01, x0=5)\n",
    "print(\"Le minimum en xMin=\", xMin,\"est: E(xMin)\", Ex(xMin))\n",
    "print(\"Nombre d'iterations:\", nbr_Iter)\n",
    "plt.show()"
   ]
  },
  {
   "cell_type": "code",
   "execution_count": 9,
   "metadata": {
    "scrolled": true
   },
   "outputs": [
    {
     "name": "stdout",
     "output_type": "stream",
     "text": [
      "Le minimum en xMin= 4.361008294913719 est: E(xMin) -6.9011757851308175\n",
      "Nombre d'iterations: 10\n"
     ]
    },
    {
     "data": {
      "image/png": "[encoded data removed]",
      "text/plain": [
       "<Figure size 432x288 with 1 Axes>"
      ]
     },
     "metadata": {
      "needs_background": "light"
     },
     "output_type": "display_data"
    }
   ],
   "source": [
    "xMin, nbr_Iter = GDvisualise(nbrMax=1000, epsilon=0.01, nu=0.01, x0=5)\n",
    "print(\"Le minimum en xMin=\", xMin,\"est: E(xMin)\", Ex(xMin))\n",
    "print(\"Nombre d'iterations:\", nbr_Iter)\n",
    "plt.show()"
   ]
  },
  {
   "cell_type": "code",
   "execution_count": 10,
   "metadata": {
    "scrolled": true
   },
   "outputs": [
    {
     "name": "stdout",
     "output_type": "stream",
     "text": [
      "Le minimum en xMin= 4.104990789406397 est: E(xMin) -6.463930507818446\n",
      "Nombre d'iterations: 1000\n"
     ]
    },
    {
     "data": {
      "image/png": "[encoded data removed]",
      "text/plain": [
       "<Figure size 432x288 with 1 Axes>"
      ]
     },
     "metadata": {
      "needs_background": "light"
     },
     "output_type": "display_data"
    }
   ],
   "source": [
    "xMin, nbr_Iter = GDvisualise(nbrMax=1000, epsilon=0.01, nu=0.1, x0=5)\n",
    "print(\"Le minimum en xMin=\", xMin,\"est: E(xMin)\", Ex(xMin))\n",
    "print(\"Nombre d'iterations:\", nbr_Iter)\n",
    "plt.show()"
   ]
  },
  {
   "cell_type": "code",
   "execution_count": 11,
   "metadata": {
    "scrolled": true
   },
   "outputs": [
    {
     "name": "stdout",
     "output_type": "stream",
     "text": [
      "Le minimum en xMin= 0.9494071180705481 est: E(xMin) 0.44149105986255677\n",
      "Nombre d'iterations: 39\n"
     ]
    },
    {
     "data": {
      "image/png": "[encoded data removed]",
      "text/plain": [
       "<Figure size 432x288 with 1 Axes>"
      ]
     },
     "metadata": {
      "needs_background": "light"
     },
     "output_type": "display_data"
    }
   ],
   "source": [
    "xMin, nbr_Iter = GDvisualise(nbrMax=1000, epsilon=0.01, nu=0.001, x0=0)\n",
    "print(\"Le minimum en xMin=\", xMin,\"est: E(xMin)\", Ex(xMin))\n",
    "print(\"Nombre d'iterations:\", nbr_Iter)\n",
    "plt.show()"
   ]
  },
  {
   "cell_type": "markdown",
   "metadata": {},
   "source": [
    "###### 6. Testez votre algorithme avec d’autres valeurs de η et nombremax"
   ]
  },
  {
   "cell_type": "code",
   "execution_count": 12,
   "metadata": {},
   "outputs": [
    {
     "name": "stdout",
     "output_type": "stream",
     "text": [
      "Le minimum en xMin= 4.370577525346989 est: E(xMin) -6.892937417071266\n",
      "Nombre d'iterations: 106\n"
     ]
    },
    {
     "data": {
      "image/png": "[encoded data removed]",
      "text/plain": [
       "<Figure size 432x288 with 1 Axes>"
      ]
     },
     "metadata": {
      "needs_background": "light"
     },
     "output_type": "display_data"
    }
   ],
   "source": [
    "xMin, nbr_Iter = GDvisualise(nbrMax=1000, epsilon=0.001, nu=0.001, x0=5)\n",
    "print(\"Le minimum en xMin=\", xMin,\"est: E(xMin)\", Ex(xMin))\n",
    "print(\"Nombre d'iterations:\", nbr_Iter)\n",
    "plt.show()"
   ]
  },
  {
   "cell_type": "code",
   "execution_count": 13,
   "metadata": {
    "scrolled": true
   },
   "outputs": [
    {
     "name": "stdout",
     "output_type": "stream",
     "text": [
      "Le minimum en xMin= 1.3250572235390383 est: E(xMin) -1.3504463343684279\n",
      "Nombre d'iterations: 151\n"
     ]
    },
    {
     "data": {
      "image/png": "[encoded data removed]",
      "text/plain": [
       "<Figure size 432x288 with 1 Axes>"
      ]
     },
     "metadata": {
      "needs_background": "light"
     },
     "output_type": "display_data"
    }
   ],
   "source": [
    "xMin, nbr_Iter = GDvisualise(nbrMax=1000, epsilon=0.001, nu=0.001, x0=0)\n",
    "print(\"Le minimum en xMin=\", xMin,\"est: E(xMin)\", Ex(xMin))\n",
    "print(\"Nombre d'iterations:\", nbr_Iter)\n",
    "plt.show()"
   ]
  },
  {
   "cell_type": "code",
   "execution_count": 19,
   "metadata": {},
   "outputs": [
    {
     "name": "stdout",
     "output_type": "stream",
     "text": [
      "Le minimum en xMin= 4.104990789406397 est: E(xMin) -6.463930507818446\n",
      "Nombre d'iterations: 4000\n"
     ]
    },
    {
     "data": {
      "image/png": "[encoded data removed]",
      "text/plain": [
       "<Figure size 432x288 with 1 Axes>"
      ]
     },
     "metadata": {
      "needs_background": "light"
     },
     "output_type": "display_data"
    }
   ],
   "source": [
    "xMin, nbr_Iter = GDvisualise(nbrMax=4000, epsilon=0.01, nu=0.1, x0=5)\n",
    "print(\"Le minimum en xMin=\", xMin,\"est: E(xMin)\", Ex(xMin))\n",
    "print(\"Nombre d'iterations:\", nbr_Iter)\n",
    "plt.show()"
   ]
  },
  {
   "cell_type": "markdown",
   "metadata": {},
   "source": [
    "# <p style=\"text-align: center\">Merci pour votre lecture!</p>"
   ]
  }
 ],
 "metadata": {
  "kernelspec": {
   "display_name": "Python 3",
   "language": "python",
   "name": "python3"
  },
  "language_info": {
   "codemirror_mode": {
    "name": "ipython",
    "version": 3
   },
   "file_extension": ".py",
   "mimetype": "text/x-python",
   "name": "python",
   "nbconvert_exporter": "python",
   "pygments_lexer": "ipython3",
   "version": "3.7.4"
  }
 },
 "nbformat": 4,
 "nbformat_minor": 2
}
