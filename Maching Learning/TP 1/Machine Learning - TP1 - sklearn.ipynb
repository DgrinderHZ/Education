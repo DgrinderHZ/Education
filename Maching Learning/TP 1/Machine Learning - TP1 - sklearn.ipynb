{
 "cells": [
  {
   "cell_type": "markdown",
   "metadata": {},
   "source": [
    "# A. Importation des libraires"
   ]
  },
  {
   "cell_type": "markdown",
   "metadata": {},
   "source": [
    "Pour Importer des modules python on utilise le mot clé ```import```\n"
   ]
  },
  {
   "cell_type": "code",
   "execution_count": 43,
   "metadata": {},
   "outputs": [],
   "source": [
    "# A. Importation des libraires\n",
    "import sklearn as skl\n",
    "import numpy as np \n",
    "import matplotlib.pyplot as plt"
   ]
  },
  {
   "cell_type": "markdown",
   "metadata": {},
   "source": [
    "# B. Manipulation d'un jeu de données"
   ]
  },
  {
   "cell_type": "markdown",
   "metadata": {},
   "source": [
    "Parmi les jeux de données disponible dans le module scikit-learn on trouve: ```iris```\n",
    "qu'on importe ici!"
   ]
  },
  {
   "cell_type": "markdown",
   "metadata": {},
   "source": [
    "### 1. Importation d'un jeu de données"
   ]
  },
  {
   "cell_type": "code",
   "execution_count": 2,
   "metadata": {},
   "outputs": [],
   "source": [
    "from sklearn.datasets import load_iris\n",
    "iris = load_iris()"
   ]
  },
  {
   "cell_type": "markdown",
   "metadata": {},
   "source": [
    "Alors la variable iris contient maintenant notre jeu de données."
   ]
  },
  {
   "cell_type": "markdown",
   "metadata": {},
   "source": [
    "## Variable de jeu de données"
   ]
  },
  {
   "cell_type": "markdown",
   "metadata": {},
   "source": [
    "Les variables des jeux de données comprennent un certain nombres champs parmi (tous ne sont pas toujours définis) : \n",
    "                        \n",
    "                        data, target, target names, feature names, DESCR\n",
    "- __.data__ est un tableau de dimensions (n,m). Chacune des n lignes correspond à une donnée,\n",
    "chacune des m colonnes à un attribut. \n",
    "- __.target__ stocke les classes (étiquettes/label) de chaque instance (dans le cas supervisé) : c'est\n",
    "un vecteur de taille n dont la première valeur est la classe de la donnée de la\n",
    "première ligne de la matrice __.data__, la deuxième valeur est la classe de la deuxième ligne,\n",
    "etc. \n",
    "- __.target_names__ contient le nom des classes. \n",
    "- __.feature_names__ contient le nom des attributs. \n",
    "- __.DESCR__ est un texte décrivant le jeu de données."
   ]
  },
  {
   "cell_type": "markdown",
   "metadata": {},
   "source": [
    "### 2. Afficher les données, noms des variables, le nom des classes"
   ]
  },
  {
   "cell_type": "code",
   "execution_count": 3,
   "metadata": {},
   "outputs": [
    {
     "name": "stdout",
     "output_type": "stream",
     "text": [
      "[[5.1 3.5 1.4 0.2]\n",
      " [4.9 3.  1.4 0.2]\n",
      " [4.7 3.2 1.3 0.2]\n",
      " [4.6 3.1 1.5 0.2]\n",
      " [5.  3.6 1.4 0.2]\n",
      " [5.4 3.9 1.7 0.4]\n",
      " [4.6 3.4 1.4 0.3]\n",
      " [5.  3.4 1.5 0.2]\n",
      " [4.4 2.9 1.4 0.2]\n",
      " [4.9 3.1 1.5 0.1]]\n"
     ]
    }
   ],
   "source": [
    "# Afficher .data\n",
    "print(iris.data[:10])"
   ]
  },
  {
   "cell_type": "code",
   "execution_count": 4,
   "metadata": {},
   "outputs": [
    {
     "name": "stdout",
     "output_type": "stream",
     "text": [
      "[0 0 0 0 0 0 0 0 0 0 0 0 0 0 0 0 0 0 0 0 0 0 0 0 0 0 0 0 0 0 0 0 0 0 0 0 0\n",
      " 0 0 0 0 0 0 0 0 0 0 0 0 0 1 1 1 1 1 1 1 1 1 1 1 1 1 1 1 1 1 1 1 1 1 1 1 1\n",
      " 1 1 1 1 1 1 1 1 1 1 1 1 1 1 1 1 1 1 1 1 1 1 1 1 1 1 2 2 2 2 2 2 2 2 2 2 2\n",
      " 2 2 2 2 2 2 2 2 2 2 2 2 2 2 2 2 2 2 2 2 2 2 2 2 2 2 2 2 2 2 2 2 2 2 2 2 2\n",
      " 2 2]\n"
     ]
    }
   ],
   "source": [
    "# Affichage des classes de chaque instance\n",
    "print(iris.target)"
   ]
  },
  {
   "cell_type": "code",
   "execution_count": 5,
   "metadata": {
    "scrolled": true
   },
   "outputs": [
    {
     "name": "stdout",
     "output_type": "stream",
     "text": [
      "['setosa' 'versicolor' 'virginica']\n"
     ]
    }
   ],
   "source": [
    "# Affichage de noms des classes\n",
    "print(iris.target_names)"
   ]
  },
  {
   "cell_type": "code",
   "execution_count": 6,
   "metadata": {
    "scrolled": true
   },
   "outputs": [
    {
     "name": "stdout",
     "output_type": "stream",
     "text": [
      "['sepal length (cm)', 'sepal width (cm)', 'petal length (cm)', 'petal width (cm)']\n"
     ]
    }
   ],
   "source": [
    "# Affichage de noms des attributs/variables\n",
    "print(iris.feature_names)"
   ]
  },
  {
   "cell_type": "markdown",
   "metadata": {},
   "source": [
    "### 3. Nom des classes de chaque donnée"
   ]
  },
  {
   "cell_type": "markdown",
   "metadata": {},
   "source": [
    "On peut répondre au question par un simple code python:"
   ]
  },
  {
   "cell_type": "code",
   "execution_count": 4,
   "metadata": {},
   "outputs": [
    {
     "name": "stdout",
     "output_type": "stream",
     "text": [
      "Numéro de Donnée | Nom de sa classe\n",
      "0 \t\t   setosa\n",
      "1 \t\t   setosa\n",
      "2 \t\t   setosa\n",
      "3 \t\t   setosa\n",
      "4 \t\t   setosa\n",
      "5 \t\t   setosa\n",
      "6 \t\t   setosa\n",
      "7 \t\t   setosa\n",
      "8 \t\t   setosa\n",
      "9 \t\t   setosa\n"
     ]
    }
   ],
   "source": [
    "print(\"Numéro de Donnée | Nom de sa classe\")\n",
    "for i in range(len(iris.data[:10])): # affiche les dix premiers lignes!!!\n",
    "    print(i ,\"\\t\\t  \", iris.target_names[iris.target[i]])"
   ]
  },
  {
   "cell_type": "markdown",
   "metadata": {},
   "source": [
    "## Les methodes et attributs"
   ]
  },
  {
   "cell_type": "code",
   "execution_count": 5,
   "metadata": {},
   "outputs": [
    {
     "data": {
      "text/plain": [
       "numpy.ndarray"
      ]
     },
     "execution_count": 5,
     "metadata": {},
     "output_type": "execute_result"
    }
   ],
   "source": [
    "type(iris.data)"
   ]
  },
  {
   "cell_type": "markdown",
   "metadata": {},
   "source": [
    "On remarque que l'attribut ```data``` est de type numpy.multi-dimension-array alors les methodes numpy array sont applicable."
   ]
  },
  {
   "cell_type": "code",
   "execution_count": 3,
   "metadata": {
    "scrolled": false
   },
   "outputs": [
    {
     "name": "stdout",
     "output_type": "stream",
     "text": [
      "[5.84333333 3.05733333 3.758      1.19933333]\n"
     ]
    }
   ],
   "source": [
    "## les methodes: .data par exemple\n",
    "### Calculer la moyenne de chaque variable(axe = 0, colonne)\n",
    "print(iris.data.mean(0))  "
   ]
  },
  {
   "cell_type": "markdown",
   "metadata": {},
   "source": [
    "### Calculer la moyenne de chaque donnée (axe = 1, lignes)\n",
    "Ici on calcul la moyenne de chaque lignes!!!!"
   ]
  },
  {
   "cell_type": "code",
   "execution_count": 8,
   "metadata": {
    "scrolled": true
   },
   "outputs": [
    {
     "name": "stdout",
     "output_type": "stream",
     "text": [
      "[2.55  2.375 2.35  2.35  2.55  2.85  2.425 2.525 2.225 2.4   2.7   2.5\n",
      " 2.325 2.125 2.8   3.    2.75  2.575 2.875 2.675 2.675 2.675 2.35  2.65\n",
      " 2.575 2.45  2.6   2.6   2.55  2.425 2.425 2.675 2.725 2.825 2.425 2.4\n",
      " 2.625 2.5   2.225 2.55  2.525 2.1   2.275 2.675 2.8   2.375 2.675 2.35\n",
      " 2.675 2.475 4.075 3.9   4.1   3.275 3.85  3.575 3.975 2.9   3.85  3.3\n",
      " 2.875 3.65  3.3   3.775 3.35  3.9   3.65  3.4   3.6   3.275 3.925 3.55\n",
      " 3.8   3.7   3.725 3.85  3.95  4.1   3.725 3.2   3.2   3.15  3.4   3.85\n",
      " 3.6   3.875 4.    3.575 3.5   3.325 3.425 3.775 3.4   2.9   3.45  3.525\n",
      " 3.525 3.675 2.925 3.475 4.525 3.875 4.525 4.15  4.375 4.825 3.4   4.575\n",
      " 4.2   4.85  4.2   4.075 4.35  3.8   4.025 4.3   4.2   5.1   4.875 3.675\n",
      " 4.525 3.825 4.8   3.925 4.45  4.55  3.9   3.95  4.225 4.4   4.55  5.025\n",
      " 4.25  3.925 3.925 4.775 4.425 4.2   3.9   4.375 4.45  4.35  3.875 4.55\n",
      " 4.55  4.3   3.925 4.175 4.325 3.95 ]\n"
     ]
    }
   ],
   "source": [
    "print(iris.data.mean(1))"
   ]
  },
  {
   "cell_type": "markdown",
   "metadata": {},
   "source": [
    "### Calculer le nombre d'objets dans target"
   ]
  },
  {
   "cell_type": "code",
   "execution_count": 9,
   "metadata": {
    "scrolled": true
   },
   "outputs": [
    {
     "name": "stdout",
     "output_type": "stream",
     "text": [
      "150\n"
     ]
    }
   ],
   "source": [
    "## les attributs: .target par exemple\n",
    "### Calculer le nombre d'objets dans target (nombres lignes dans data)\n",
    "print(iris.target.size) "
   ]
  },
  {
   "cell_type": "markdown",
   "metadata": {},
   "source": [
    "###### La fonction ```.len()``` retourne la longueur de l'objet passé en paramètre."
   ]
  },
  {
   "cell_type": "code",
   "execution_count": 5,
   "metadata": {
    "scrolled": true
   },
   "outputs": [
    {
     "name": "stdout",
     "output_type": "stream",
     "text": [
      "150\n"
     ]
    }
   ],
   "source": [
    "print(len(iris.data)) # >>> affiche 150 données comme lenght"
   ]
  },
  {
   "cell_type": "markdown",
   "metadata": {},
   "source": [
    "###### La fonction ```help()``` affiche de l'aide à propos la fonction/methode/module passé en paramètre."
   ]
  },
  {
   "cell_type": "code",
   "execution_count": 10,
   "metadata": {
    "scrolled": true
   },
   "outputs": [
    {
     "name": "stdout",
     "output_type": "stream",
     "text": [
      "Help on built-in function len in module builtins:\n",
      "\n",
      "len(obj, /)\n",
      "    Return the number of items in a container.\n",
      "\n"
     ]
    }
   ],
   "source": [
    "help(len)"
   ]
  },
  {
   "cell_type": "markdown",
   "metadata": {},
   "source": [
    "###### L'instruction ```iris.target_names[2]``` affiche le nom de la troixième (dernière) classe."
   ]
  },
  {
   "cell_type": "code",
   "execution_count": 13,
   "metadata": {
    "scrolled": true
   },
   "outputs": [
    {
     "name": "stdout",
     "output_type": "stream",
     "text": [
      "virginica\n"
     ]
    }
   ],
   "source": [
    "print(iris.target_names[2])"
   ]
  },
  {
   "cell_type": "markdown",
   "metadata": {},
   "source": [
    "###### L'instruction ```iris.target_names[-1]``` affiche le nom de la dernière classe."
   ]
  },
  {
   "cell_type": "code",
   "execution_count": 14,
   "metadata": {
    "scrolled": true
   },
   "outputs": [
    {
     "name": "stdout",
     "output_type": "stream",
     "text": [
      "virginica\n"
     ]
    }
   ],
   "source": [
    "print(iris.target_names[-1])"
   ]
  },
  {
   "cell_type": "markdown",
   "metadata": {},
   "source": [
    "###### L'instruction ```iris.target_names[len(iris.target_names)]``` affiche erreur: index out of range. \n",
    "Il faut pas dépacer ```len(iris.target_names)-1``` pour l'indice de donnée!! (on commence a zero, ..., n-1)"
   ]
  },
  {
   "cell_type": "code",
   "execution_count": 11,
   "metadata": {
    "scrolled": false
   },
   "outputs": [
    {
     "ename": "IndexError",
     "evalue": "index 3 is out of bounds for axis 0 with size 3",
     "output_type": "error",
     "traceback": [
      "\u001b[1;31m---------------------------------------------------------------------------\u001b[0m",
      "\u001b[1;31mIndexError\u001b[0m                                Traceback (most recent call last)",
      "\u001b[1;32m<ipython-input-11-1e1c5c3b5543>\u001b[0m in \u001b[0;36m<module>\u001b[1;34m\u001b[0m\n\u001b[1;32m----> 1\u001b[1;33m \u001b[0mprint\u001b[0m\u001b[1;33m(\u001b[0m\u001b[0miris\u001b[0m\u001b[1;33m.\u001b[0m\u001b[0mtarget_names\u001b[0m\u001b[1;33m[\u001b[0m\u001b[0mlen\u001b[0m\u001b[1;33m(\u001b[0m\u001b[0miris\u001b[0m\u001b[1;33m.\u001b[0m\u001b[0mtarget_names\u001b[0m\u001b[1;33m)\u001b[0m\u001b[1;33m]\u001b[0m\u001b[1;33m)\u001b[0m\u001b[1;33m\u001b[0m\u001b[1;33m\u001b[0m\u001b[0m\n\u001b[0m",
      "\u001b[1;31mIndexError\u001b[0m: index 3 is out of bounds for axis 0 with size 3"
     ]
    }
   ],
   "source": [
    "print(iris.target_names[len(iris.target_names)])"
   ]
  },
  {
   "cell_type": "markdown",
   "metadata": {},
   "source": [
    "###### L'instruction ```iris.data[0][1]``` affiche la valeur de la deuxième variable pour la première donnée."
   ]
  },
  {
   "cell_type": "code",
   "execution_count": 61,
   "metadata": {},
   "outputs": [
    {
     "name": "stdout",
     "output_type": "stream",
     "text": [
      "3.5\n"
     ]
    }
   ],
   "source": [
    "print(iris.data[0][1])"
   ]
  },
  {
   "cell_type": "markdown",
   "metadata": {},
   "source": [
    "###### L'instruction ```iris.data[:,1]``` affiche la valeur de la deuxième variable pour tous les données (lignes)."
   ]
  },
  {
   "cell_type": "code",
   "execution_count": 62,
   "metadata": {},
   "outputs": [
    {
     "name": "stdout",
     "output_type": "stream",
     "text": [
      "[3.5 3.  3.2 3.1 3.6 3.9 3.4 3.4 2.9 3.1 3.7 3.4 3.  3.  4.  4.4 3.9 3.5\n",
      " 3.8 3.8 3.4 3.7 3.6 3.3 3.4 3.  3.4 3.5 3.4 3.2 3.1 3.4 4.1 4.2 3.1 3.2\n",
      " 3.5 3.6 3.  3.4 3.5 2.3 3.2 3.5 3.8 3.  3.8 3.2 3.7 3.3 3.2 3.2 3.1 2.3\n",
      " 2.8 2.8 3.3 2.4 2.9 2.7 2.  3.  2.2 2.9 2.9 3.1 3.  2.7 2.2 2.5 3.2 2.8\n",
      " 2.5 2.8 2.9 3.  2.8 3.  2.9 2.6 2.4 2.4 2.7 2.7 3.  3.4 3.1 2.3 3.  2.5\n",
      " 2.6 3.  2.6 2.3 2.7 3.  2.9 2.9 2.5 2.8 3.3 2.7 3.  2.9 3.  3.  2.5 2.9\n",
      " 2.5 3.6 3.2 2.7 3.  2.5 2.8 3.2 3.  3.8 2.6 2.2 3.2 2.8 2.8 2.7 3.3 3.2\n",
      " 2.8 3.  2.8 3.  2.8 3.8 2.8 2.8 2.6 3.  3.4 3.1 3.  3.1 3.1 3.1 2.7 3.2\n",
      " 3.3 3.  2.5 3.  3.4 3. ]\n"
     ]
    }
   ],
   "source": [
    "print(iris.data[:,1])"
   ]
  },
  {
   "cell_type": "markdown",
   "metadata": {},
   "source": [
    "## 4. Afficher: moyenne, ecart-type, min et le max pour chaque variable => axe = 0"
   ]
  },
  {
   "cell_type": "code",
   "execution_count": 63,
   "metadata": {},
   "outputs": [
    {
     "name": "stdout",
     "output_type": "stream",
     "text": [
      "Les variables:\n",
      "['sepal length (cm)', 'sepal width (cm)', 'petal length (cm)', 'petal width (cm)']\n"
     ]
    }
   ],
   "source": [
    "print(\"Les variables:\")\n",
    "print(iris.feature_names)"
   ]
  },
  {
   "cell_type": "markdown",
   "metadata": {},
   "source": [
    "###### L'instruction ```iris.data.mean(0)``` retourne la moyenne."
   ]
  },
  {
   "cell_type": "code",
   "execution_count": 64,
   "metadata": {
    "scrolled": true
   },
   "outputs": [
    {
     "name": "stdout",
     "output_type": "stream",
     "text": [
      "[5.84333333 3.05733333 3.758      1.19933333]\n"
     ]
    }
   ],
   "source": [
    "print(iris.data.mean(0))"
   ]
  },
  {
   "cell_type": "markdown",
   "metadata": {},
   "source": [
    "###### L'instruction ```iris.data.std(0)``` retourne l'ecart-type."
   ]
  },
  {
   "cell_type": "code",
   "execution_count": 65,
   "metadata": {
    "scrolled": true
   },
   "outputs": [
    {
     "name": "stdout",
     "output_type": "stream",
     "text": [
      "[0.82530129 0.43441097 1.75940407 0.75969263]\n"
     ]
    }
   ],
   "source": [
    "print(iris.data.std(0))"
   ]
  },
  {
   "cell_type": "markdown",
   "metadata": {},
   "source": [
    "###### L'instruction ```iris.data.min(0)``` retourne le minimum."
   ]
  },
  {
   "cell_type": "code",
   "execution_count": 66,
   "metadata": {
    "scrolled": true
   },
   "outputs": [
    {
     "name": "stdout",
     "output_type": "stream",
     "text": [
      "[4.3 2.  1.  0.1]\n"
     ]
    }
   ],
   "source": [
    "print(iris.data.min(0))"
   ]
  },
  {
   "cell_type": "markdown",
   "metadata": {},
   "source": [
    "###### L'instruction ```iris.data.maxn(0)``` retourne le maximum."
   ]
  },
  {
   "cell_type": "code",
   "execution_count": 67,
   "metadata": {},
   "outputs": [
    {
     "name": "stdout",
     "output_type": "stream",
     "text": [
      "[7.9 4.4 6.9 2.5]\n"
     ]
    }
   ],
   "source": [
    "print(iris.data.max(0))"
   ]
  },
  {
   "cell_type": "markdown",
   "metadata": {},
   "source": [
    "## 5. Afficher: nombre de données, nombre de variables et le nombre de classes"
   ]
  },
  {
   "cell_type": "code",
   "execution_count": 12,
   "metadata": {},
   "outputs": [
    {
     "name": "stdout",
     "output_type": "stream",
     "text": [
      "Le nombre de données est: 150\n",
      "Le nombre de variables est: 4\n",
      "Le nombre de classes est: 3\n"
     ]
    }
   ],
   "source": [
    "print(\"Le nombre de données est:\", iris.data.shape[0])\n",
    "print(\"Le nombre de variables est:\", iris.data.shape[1])\n",
    "print(\"Le nombre de classes est:\", iris.target_names.size)"
   ]
  },
  {
   "cell_type": "markdown",
   "metadata": {},
   "source": [
    "# C. Téléchargement et importation de données"
   ]
  },
  {
   "cell_type": "markdown",
   "metadata": {},
   "source": [
    "On remarque que Python demande d'utiliser ```.fetch_openml``` qui a remplacer ```.fetch_mldata```"
   ]
  },
  {
   "cell_type": "code",
   "execution_count": 14,
   "metadata": {},
   "outputs": [],
   "source": [
    "# Importation d'un jeu de données\n",
    "from sklearn.datasets import fetch_openml\n",
    "# mnist = fetch_openml('MNIST original') # donne invalidURL, on charge les données téléchargées ou changer en 'mnist_784'"
   ]
  },
  {
   "cell_type": "markdown",
   "metadata": {},
   "source": [
    "Pour résoude ce pronlème on passe la valeur ```mnist_784``` au lieu de ```MNIST original```"
   ]
  },
  {
   "cell_type": "code",
   "execution_count": 21,
   "metadata": {
    "scrolled": false
   },
   "outputs": [],
   "source": [
    "# Importation d'un jeu de données\n",
    "from sklearn.datasets import fetch_openml\n",
    "mnist = fetch_openml('mnist_784')"
   ]
  },
  {
   "cell_type": "markdown",
   "metadata": {},
   "source": [
    "#### Afficher la matrice de données"
   ]
  },
  {
   "cell_type": "code",
   "execution_count": 20,
   "metadata": {},
   "outputs": [
    {
     "name": "stdout",
     "output_type": "stream",
     "text": [
      "Data:\n",
      " [[0. 0. 0. ... 0. 0. 0.]\n",
      " [0. 0. 0. ... 0. 0. 0.]\n",
      " [0. 0. 0. ... 0. 0. 0.]\n",
      " ...\n",
      " [0. 0. 0. ... 0. 0. 0.]\n",
      " [0. 0. 0. ... 0. 0. 0.]\n",
      " [0. 0. 0. ... 0. 0. 0.]]\n"
     ]
    }
   ],
   "source": [
    "print(\"Data:\\n\", mnist.data)"
   ]
  },
  {
   "cell_type": "markdown",
   "metadata": {},
   "source": [
    "#### Afficher le nombres de données et variables"
   ]
  },
  {
   "cell_type": "code",
   "execution_count": 22,
   "metadata": {
    "scrolled": true
   },
   "outputs": [
    {
     "name": "stdout",
     "output_type": "stream",
     "text": [
      "Le nombre de donnees: 70000\n",
      "Le nombre de variables: 784\n"
     ]
    }
   ],
   "source": [
    "donnee, variable = mnist.data.shape # ou np.shape(mnist.data)\n",
    "print(\"Le nombre de donnees:\", donnee)\n",
    "print(\"Le nombre de variables:\", variable)"
   ]
  },
  {
   "cell_type": "markdown",
   "metadata": {},
   "source": [
    "#### Afficher le nombres de données et variables"
   ]
  },
  {
   "cell_type": "code",
   "execution_count": 24,
   "metadata": {},
   "outputs": [
    {
     "name": "stdout",
     "output_type": "stream",
     "text": [
      "Numéro de Donnée | Numéro de sa classe\n",
      "0 \t\t   5\n",
      "1 \t\t   0\n",
      "2 \t\t   4\n",
      "3 \t\t   1\n",
      "4 \t\t   9\n",
      "5 \t\t   2\n",
      "6 \t\t   1\n",
      "7 \t\t   3\n",
      "8 \t\t   1\n",
      "9 \t\t   4\n"
     ]
    }
   ],
   "source": [
    "print(\"Numéro de Donnée | Numéro de sa classe\")\n",
    "for i in range(len(mnist.data[:10])):# les 10 premiers\n",
    "    print(i ,\"\\t\\t  \", mnist.target[i])"
   ]
  },
  {
   "cell_type": "code",
   "execution_count": 28,
   "metadata": {},
   "outputs": [
    {
     "name": "stdout",
     "output_type": "stream",
     "text": [
      "Les variables:\n",
      "['pixel1', 'pixel2', 'pixel3', 'pixel4', 'pixel5', 'pixel6', 'pixel7', 'pixel8', 'pixel9', 'pixel10', 'pixel11', 'pixel12', 'pixel13', 'pixel14', 'pixel15', 'pixel16', 'pixel17', 'pixel18', 'pixel19', 'pixel20', 'pixel21', 'pixel22', 'pixel23', 'pixel24', 'pixel25', 'pixel26', 'pixel27', 'pixel28', 'pixel29', 'pixel30']\n"
     ]
    }
   ],
   "source": [
    "print(\"Les variables:\")\n",
    "print(mnist.feature_names[:30]) # LES 30 PREMIERS"
   ]
  },
  {
   "cell_type": "markdown",
   "metadata": {},
   "source": [
    "#### Afficher la moyenne des variables (Colonnes)"
   ]
  },
  {
   "cell_type": "code",
   "execution_count": 31,
   "metadata": {
    "scrolled": true
   },
   "outputs": [
    {
     "name": "stdout",
     "output_type": "stream",
     "text": [
      "[0.         0.         0.         0.         0.         0.\n",
      " 0.         0.         0.         0.         0.         0.\n",
      " 0.0018     0.00671429 0.00308571 0.00012857 0.         0.\n",
      " 0.         0.         0.         0.         0.         0.\n",
      " 0.         0.         0.         0.         0.         0.        ]\n"
     ]
    }
   ],
   "source": [
    "print(mnist.data.mean(0)[:30]) # (784 variables) LES 30 PREMIERS"
   ]
  },
  {
   "cell_type": "markdown",
   "metadata": {},
   "source": [
    "#### Afficher l'écart-type des variables"
   ]
  },
  {
   "cell_type": "code",
   "execution_count": 32,
   "metadata": {},
   "outputs": [
    {
     "name": "stdout",
     "output_type": "stream",
     "text": [
      "[0.         0.         0.         0.         0.         0.\n",
      " 0.         0.         0.         0.         0.         0.\n",
      " 0.44006125 1.26020885 0.81639743 0.03401656 0.         0.\n",
      " 0.         0.         0.         0.         0.         0.\n",
      " 0.         0.         0.         0.         0.         0.        ]\n"
     ]
    }
   ],
   "source": [
    "print(mnist.data.std(0)[:30]) # 784 variables"
   ]
  },
  {
   "cell_type": "markdown",
   "metadata": {},
   "source": [
    "#### Afficher le min des variables"
   ]
  },
  {
   "cell_type": "code",
   "execution_count": 39,
   "metadata": {
    "scrolled": false
   },
   "outputs": [
    {
     "name": "stdout",
     "output_type": "stream",
     "text": [
      "[0. 0. 0. 0. 0. 0. 0. 0. 0. 0. 0. 0. 0. 0. 0. 0. 0. 0. 0. 0. 0. 0. 0. 0.\n",
      " 0. 0. 0. 0. 0. 0. 0. 0. 0. 0. 0. 0. 0. 0. 0. 0. 0. 0. 0. 0. 0. 0. 0. 0.\n",
      " 0. 0. 0. 0. 0. 0. 0. 0. 0. 0. 0. 0. 0. 0. 0. 0. 0. 0. 0. 0. 0. 0. 0. 0.\n",
      " 0. 0. 0. 0. 0. 0. 0. 0. 0. 0. 0. 0. 0. 0. 0. 0. 0. 0. 0. 0. 0. 0. 0. 0.\n",
      " 0. 0. 0. 0.]\n"
     ]
    }
   ],
   "source": [
    "print(mnist.data.min(0)[:100]) # 784 variables (LES 100 PREMIERS)"
   ]
  },
  {
   "cell_type": "markdown",
   "metadata": {},
   "source": [
    "#### Afficher le max des variables"
   ]
  },
  {
   "cell_type": "code",
   "execution_count": 41,
   "metadata": {
    "scrolled": true
   },
   "outputs": [
    {
     "name": "stdout",
     "output_type": "stream",
     "text": [
      "[  0.   0.   0.   0.   0.   0.   0.   0.   0.   0.   0.   0. 116. 254.\n",
      " 216.   9.   0.   0.   0.   0.   0.   0.   0.   0.   0.   0.   0.   0.\n",
      "   0.   0.   0.   0.  16.  47. 236. 254. 255. 254. 255. 255. 255. 255.\n",
      " 255. 255. 255. 255. 255. 255. 244. 255. 184. 197.   0.   0.   0.   0.\n",
      "   0.   0.  64.  29. 134. 192. 254. 255. 255. 255. 255. 255. 255. 255.\n",
      " 255. 255. 255. 255. 255. 255. 255. 255. 255. 255. 255. 165.   0.   0.\n",
      "   0.   0. 141. 101. 139. 255. 255. 255. 255. 255. 255. 255. 255. 255.\n",
      " 255. 255.]\n"
     ]
    }
   ],
   "source": [
    "print(mnist.data.max(0)[:100]) # 784 variables (LES 100 PREMIERS)"
   ]
  },
  {
   "cell_type": "markdown",
   "metadata": {},
   "source": [
    "#### Nombre de classe avec la fonction ```numpy.unique()``` \n",
    "Retourne des valeurs distinctes!!!"
   ]
  },
  {
   "cell_type": "code",
   "execution_count": 44,
   "metadata": {},
   "outputs": [
    {
     "name": "stdout",
     "output_type": "stream",
     "text": [
      "Les classes:  ['0' '1' '2' '3' '4' '5' '6' '7' '8' '9']\n",
      "Le nombre des classes:  10\n"
     ]
    }
   ],
   "source": [
    "print(\"Les classes: \", np.unique(mnist.target))\n",
    "print(\"Le nombre des classes: \", len(np.unique(mnist.target)))"
   ]
  },
  {
   "cell_type": "markdown",
   "metadata": {},
   "source": [
    "# D. Génération de données et affichage"
   ]
  },
  {
   "cell_type": "markdown",
   "metadata": {},
   "source": [
    "###### 1. La fonction ```help()```"
   ]
  },
  {
   "cell_type": "code",
   "execution_count": 45,
   "metadata": {
    "scrolled": true
   },
   "outputs": [
    {
     "name": "stdout",
     "output_type": "stream",
     "text": [
      "Help on function make_blobs in module sklearn.datasets.samples_generator:\n",
      "\n",
      "make_blobs(n_samples=100, n_features=2, centers=None, cluster_std=1.0, center_box=(-10.0, 10.0), shuffle=True, random_state=None)\n",
      "    Generate isotropic Gaussian blobs for clustering.\n",
      "    \n",
      "    Read more in the :ref:`User Guide <sample_generators>`.\n",
      "    \n",
      "    Parameters\n",
      "    ----------\n",
      "    n_samples : int or array-like, optional (default=100)\n",
      "        If int, it is the total number of points equally divided among\n",
      "        clusters.\n",
      "        If array-like, each element of the sequence indicates\n",
      "        the number of samples per cluster.\n",
      "    \n",
      "    n_features : int, optional (default=2)\n",
      "        The number of features for each sample.\n",
      "    \n",
      "    centers : int or array of shape [n_centers, n_features], optional\n",
      "        (default=None)\n",
      "        The number of centers to generate, or the fixed center locations.\n",
      "        If n_samples is an int and centers is None, 3 centers are generated.\n",
      "        If n_samples is array-like, centers must be\n",
      "        either None or an array of length equal to the length of n_samples.\n",
      "    \n",
      "    cluster_std : float or sequence of floats, optional (default=1.0)\n",
      "        The standard deviation of the clusters.\n",
      "    \n",
      "    center_box : pair of floats (min, max), optional (default=(-10.0, 10.0))\n",
      "        The bounding box for each cluster center when centers are\n",
      "        generated at random.\n",
      "    \n",
      "    shuffle : boolean, optional (default=True)\n",
      "        Shuffle the samples.\n",
      "    \n",
      "    random_state : int, RandomState instance or None (default)\n",
      "        Determines random number generation for dataset creation. Pass an int\n",
      "        for reproducible output across multiple function calls.\n",
      "        See :term:`Glossary <random_state>`.\n",
      "    \n",
      "    Returns\n",
      "    -------\n",
      "    X : array of shape [n_samples, n_features]\n",
      "        The generated samples.\n",
      "    \n",
      "    y : array of shape [n_samples]\n",
      "        The integer labels for cluster membership of each sample.\n",
      "    \n",
      "    Examples\n",
      "    --------\n",
      "    >>> from sklearn.datasets.samples_generator import make_blobs\n",
      "    >>> X, y = make_blobs(n_samples=10, centers=3, n_features=2,\n",
      "    ...                   random_state=0)\n",
      "    >>> print(X.shape)\n",
      "    (10, 2)\n",
      "    >>> y\n",
      "    array([0, 0, 1, 0, 2, 2, 2, 1, 1, 0])\n",
      "    >>> X, y = make_blobs(n_samples=[3, 3, 4], centers=None, n_features=2,\n",
      "    ...                   random_state=0)\n",
      "    >>> print(X.shape)\n",
      "    (10, 2)\n",
      "    >>> y\n",
      "    array([0, 1, 2, 0, 2, 2, 2, 1, 1, 0])\n",
      "    \n",
      "    See also\n",
      "    --------\n",
      "    make_classification: a more intricate variant\n",
      "\n"
     ]
    }
   ],
   "source": [
    "from sklearn.datasets import make_blobs\n",
    "help(make_blobs)"
   ]
  },
  {
   "cell_type": "markdown",
   "metadata": {},
   "source": [
    "On peut compredre que la methode génére:\n",
    "    - un jeu de données X avec des classes y.\n",
    "Les paramètres:\n",
    "- __centers__ est résponsable à la déterminations de nombre de classes.\n",
    "- __n_samples__ est pour les données\n",
    "- __n_features__ est pour les variables\n"
   ]
  },
  {
   "cell_type": "markdown",
   "metadata": {},
   "source": [
    "###### 2. Génération de données"
   ]
  },
  {
   "cell_type": "markdown",
   "metadata": {},
   "source": [
    "On génére 1000 données de deux variables réparties en 4 groupes"
   ]
  },
  {
   "cell_type": "code",
   "execution_count": 64,
   "metadata": {},
   "outputs": [],
   "source": [
    "X, y = make_blobs(n_samples=1000, centers=4, n_features=2)"
   ]
  },
  {
   "cell_type": "code",
   "execution_count": 65,
   "metadata": {},
   "outputs": [
    {
     "name": "stdout",
     "output_type": "stream",
     "text": [
      "Jeu de donnee\n"
     ]
    },
    {
     "data": {
      "text/plain": [
       "array([[ -6.90430664,  -8.83587767],\n",
       "       [  0.32769545,  -2.34658036],\n",
       "       [ -8.55870217,  -7.33876675],\n",
       "       [ -1.40587317,  -6.438574  ],\n",
       "       [  0.26985939,  -4.15766691],\n",
       "       [ -0.20269151,  -2.46446215],\n",
       "       [ -3.02878948, -10.41273717],\n",
       "       [ -5.77377366,  -9.53533554],\n",
       "       [ -8.3345882 ,  -6.63343537],\n",
       "       [ -4.94590775,   8.21543026]])"
      ]
     },
     "execution_count": 65,
     "metadata": {},
     "output_type": "execute_result"
    }
   ],
   "source": [
    "print(\"Jeu de donnee\")\n",
    "X[:10] # LES 10 PREMIERS"
   ]
  },
  {
   "cell_type": "code",
   "execution_count": 66,
   "metadata": {
    "scrolled": true
   },
   "outputs": [
    {
     "data": {
      "text/plain": [
       "array([3, 0, 3, 0, 0, 0, 1, 1, 3, 2, 0, 1, 0, 2, 2, 1, 2, 1, 0, 0, 1, 0,\n",
       "       2, 1, 0, 3, 1, 1, 0, 1, 2, 1, 0, 1, 0, 2, 1, 1, 1, 0, 0, 0, 2, 1,\n",
       "       1, 0, 2, 3, 2, 0, 0, 3, 0, 2, 0, 1, 0, 1, 2, 0, 3, 2, 3, 2, 1, 2,\n",
       "       3, 3, 3, 0, 3, 2, 1, 0, 2, 0, 3, 0, 3, 0, 0, 1, 0, 3, 0, 2, 0, 2,\n",
       "       1, 0, 3, 1, 1, 2, 2, 3, 0, 3, 2, 3])"
      ]
     },
     "execution_count": 66,
     "metadata": {},
     "output_type": "execute_result"
    }
   ],
   "source": [
    "y[:100] # LES 100 PREMIERS"
   ]
  },
  {
   "cell_type": "markdown",
   "metadata": {},
   "source": [
    "###### 3. Visualisation de données"
   ]
  },
  {
   "cell_type": "code",
   "execution_count": 59,
   "metadata": {
    "scrolled": true
   },
   "outputs": [
    {
     "data": {
      "image/png": "[encoded data removed]",
      "text/plain": [
       "<Figure size 432x288 with 1 Axes>"
      ]
     },
     "metadata": {
      "needs_background": "light"
     },
     "output_type": "display_data"
    }
   ],
   "source": [
    "plt.xlim(-15, 15)  \n",
    "plt.ylim(-15, 15)\n",
    "colors = [\"red\", \"green\", \"blue\", \"yellow\"]\n",
    "a = 0\n",
    "b = 1\n",
    "classes = [\"c1\", \"c2\", \"c3\", \"c4\"]\n",
    "for i in range(4):\n",
    "    plt.scatter(X[y==i][:,a], X[y==i][:,b], color=colors[i], label=classes[i])\n",
    "plt.legend()\n",
    "plt.xlabel(\"X\")\n",
    "plt.ylabel(\"Y\")\n",
    "plt.title(\"Representation des données généré par classes\")\n",
    "plt.show()"
   ]
  },
  {
   "cell_type": "markdown",
   "metadata": {},
   "source": [
    "###### 4. Générer deux jeux de données et les combiner"
   ]
  },
  {
   "cell_type": "code",
   "execution_count": 67,
   "metadata": {
    "scrolled": true
   },
   "outputs": [],
   "source": [
    "X1, y1 = make_blobs(n_samples=100, centers=2, n_features=2)\n",
    "X2, y2 = make_blobs(n_samples=500, centers=3, n_features=2)\n",
    "y = np.hstack((y1, y2))\n",
    "X = np.vstack((X1, X2))"
   ]
  },
  {
   "cell_type": "markdown",
   "metadata": {},
   "source": [
    "Visualisation de premier jeu de données"
   ]
  },
  {
   "cell_type": "code",
   "execution_count": 68,
   "metadata": {
    "scrolled": true
   },
   "outputs": [
    {
     "data": {
      "image/png": "[encoded data removed]",
      "text/plain": [
       "<Figure size 432x288 with 1 Axes>"
      ]
     },
     "metadata": {
      "needs_background": "light"
     },
     "output_type": "display_data"
    }
   ],
   "source": [
    "plt.xlim(-15, 15)  \n",
    "plt.ylim(-15, 15)\n",
    "colors = [\"red\", \"green\"]\n",
    "a = 0\n",
    "b = 1\n",
    "classes = [\"c1\", \"c2\"]\n",
    "for i in range(2):\n",
    "    plt.scatter(X1[y1==i][:,a], X1[y1==i][:,b], color=colors[i], label=classes[i])\n",
    "plt.legend()\n",
    "plt.xlabel(\"X\")\n",
    "plt.ylabel(\"Y\")\n",
    "plt.title(\"Representation des données généré X1, y1\")\n",
    "plt.show()"
   ]
  },
  {
   "cell_type": "markdown",
   "metadata": {},
   "source": [
    "Visualisation de deuxième jeu de données"
   ]
  },
  {
   "cell_type": "code",
   "execution_count": 69,
   "metadata": {
    "scrolled": true
   },
   "outputs": [
    {
     "data": {
      "image/png": "[encoded data removed]",
      "text/plain": [
       "<Figure size 432x288 with 1 Axes>"
      ]
     },
     "metadata": {
      "needs_background": "light"
     },
     "output_type": "display_data"
    }
   ],
   "source": [
    "plt.xlim(-15, 15)  \n",
    "plt.ylim(-15, 15)\n",
    "colors = [\"red\", \"green\", \"cyan\"]\n",
    "a = 0\n",
    "b = 1\n",
    "classes = [\"c1\", \"c2\", \"c3\"]\n",
    "for i in range(3):\n",
    "    plt.scatter(X2[y2==i][:,a], X2[y2==i][:,b], color=colors[i], label=classes[i])\n",
    "plt.legend()\n",
    "plt.xlabel(\"X\")\n",
    "plt.ylabel(\"Y\")\n",
    "plt.title(\"Representation des données généré X2, y2\")\n",
    "plt.show()"
   ]
  },
  {
   "cell_type": "markdown",
   "metadata": {},
   "source": [
    "Visualisation de jeu de données combiné"
   ]
  },
  {
   "cell_type": "code",
   "execution_count": 70,
   "metadata": {
    "scrolled": false
   },
   "outputs": [
    {
     "data": {
      "image/png": "[encoded data removed]",
      "text/plain": [
       "<Figure size 432x288 with 1 Axes>"
      ]
     },
     "metadata": {
      "needs_background": "light"
     },
     "output_type": "display_data"
    }
   ],
   "source": [
    "plt.xlim(-15, 15)  \n",
    "plt.ylim(-15, 15)\n",
    "colors = [\"red\", \"green\", \"cyan\"]\n",
    "a = 0\n",
    "b = 1\n",
    "classes = [\"c1\", \"c2\", \"c3\"]\n",
    "for i in range(3):\n",
    "    plt.scatter(X[y==i][:,a], X[y==i][:,b], color=colors[i], label=classes[i])\n",
    "plt.legend()\n",
    "plt.xlabel(\"X\")\n",
    "plt.ylabel(\"Y\")\n",
    "plt.title(\"Representation des données combinée\")\n",
    "plt.show()"
   ]
  },
  {
   "cell_type": "markdown",
   "metadata": {},
   "source": [
    "# E. Visualiser les données"
   ]
  },
  {
   "cell_type": "markdown",
   "metadata": {},
   "source": [
    "###### 1. Execution des commandes\n",
    "Le script suivant trace le graphe des données X en fonction des variable Y.\n",
    "- La methode ```pylab.scatter``` prend en paramètres X, Y, et c qui désigne les coleurs des classes: Une listes des coleurs ou des codes des coleurs"
   ]
  },
  {
   "cell_type": "code",
   "execution_count": 71,
   "metadata": {
    "scrolled": false
   },
   "outputs": [
    {
     "data": {
      "image/png": "[encoded data removed]",
      "text/plain": [
       "<Figure size 432x288 with 1 Axes>"
      ]
     },
     "metadata": {
      "needs_background": "light"
     },
     "output_type": "display_data"
    }
   ],
   "source": [
    "import pylab as pl #permet de remplacer le nom \"pylab\" par \"pl\"\n",
    "X = iris.data\n",
    "Y = iris.target\n",
    "a = 0\n",
    "b= 1\n",
    "#help(pl.scatter) si on a besoin de savoir le fonctionement de .scatter()\n",
    "pl.xlabel(iris.feature_names[a])\n",
    "pl.ylabel(iris.feature_names[b])\n",
    "pl.scatter(X[:, a], X[:, b],c=Y)\n",
    "pl.show() # affiche la figure"
   ]
  },
  {
   "cell_type": "markdown",
   "metadata": {},
   "source": [
    "###### 2. Autre méthode: on peut écrire le script ```TP1prog1.py``` contenant le programme suivant"
   ]
  },
  {
   "cell_type": "code",
   "execution_count": 73,
   "metadata": {
    "scrolled": true
   },
   "outputs": [
    {
     "data": {
      "image/png": "[encoded data removed]",
      "text/plain": [
       "<Figure size 432x288 with 1 Axes>"
      ]
     },
     "metadata": {
      "needs_background": "light"
     },
     "output_type": "display_data"
    }
   ],
   "source": [
    "import pylab as pl\n",
    "iris=load_iris()\n",
    "X=iris.data\n",
    "y=iris.target\n",
    "a = 0\n",
    "b = 1\n",
    "colors = [\"red\", \"green\", \"blue\"]\n",
    "for i in range(3):\n",
    "    plt.scatter(X[y==i][:,a], X[y==i][:,b], color=colors[i], label=iris.target_names[i])\n",
    "plt.legend()\n",
    "plt.xlabel(iris.feature_names[a])\n",
    "plt.ylabel(iris.feature_names[b])\n",
    "plt.title(\"Données Iris - dimension des sépales uniquement\")\n",
    "plt.show()"
   ]
  },
  {
   "cell_type": "markdown",
   "metadata": {},
   "source": [
    "On remarque qu'on fixant des couleurs avec une liste et en spécifiant un autre paramètre ```label``` qui recoit les noms des classes, on peut ajouter une légende pour noter la désignation de chaque couleur."
   ]
  },
  {
   "cell_type": "markdown",
   "metadata": {},
   "source": [
    "###### 3. On change les variables et on teste"
   ]
  },
  {
   "cell_type": "code",
   "execution_count": 74,
   "metadata": {
    "scrolled": false
   },
   "outputs": [
    {
     "data": {
      "image/png": "[encoded data removed]",
      "text/plain": [
       "<Figure size 432x288 with 1 Axes>"
      ]
     },
     "metadata": {
      "needs_background": "light"
     },
     "output_type": "display_data"
    }
   ],
   "source": [
    "import pylab as pl\n",
    "iris=load_iris()\n",
    "X=iris.data\n",
    "y=iris.target\n",
    "a = 2 # troisiemes variable\n",
    "b = 3 # 4ieme variable\n",
    "colors = [\"red\", \"green\", \"blue\"]\n",
    "for i in range(3):\n",
    "    plt.scatter(X[y==i][:,a], X[y==i][:,b], color=colors[i], label=iris.target_names[i])\n",
    "plt.legend()\n",
    "plt.xlabel(iris.feature_names[a])\n",
    "plt.ylabel(iris.feature_names[b])\n",
    "plt.title(\"Données Iris - dimensionons des pétales uniquement\") # changer le titre\n",
    "plt.show()"
   ]
  },
  {
   "cell_type": "markdown",
   "metadata": {},
   "source": [
    "On peut maintenant regarder les 4 autres combinations qui restes:\n",
    "      - a = 0, b = 2\n",
    "      - a = 0, b = 3\n",
    "      - a = 1, b = 2\n",
    "      - a = 1, b = 3 \n",
    "On déja tester 2 combination:\n",
    "  - a = 0, b = 1\n",
    "  - a = 2, b = 3"
   ]
  },
  {
   "cell_type": "markdown",
   "metadata": {},
   "source": [
    "###### Pour ```a = 0, b = 2```"
   ]
  },
  {
   "cell_type": "code",
   "execution_count": 75,
   "metadata": {
    "scrolled": true
   },
   "outputs": [
    {
     "data": {
      "image/png": "[encoded data removed]",
      "text/plain": [
       "<Figure size 432x288 with 1 Axes>"
      ]
     },
     "metadata": {
      "needs_background": "light"
     },
     "output_type": "display_data"
    }
   ],
   "source": [
    "import pylab as pl\n",
    "iris=load_iris()\n",
    "X=iris.data\n",
    "y=iris.target\n",
    "a = 0\n",
    "b = 2\n",
    "colors = [\"red\", \"green\", \"blue\"]\n",
    "for i in range(3):\n",
    "    plt.scatter(X[y==i][:,a], X[y==i][:,b], color=colors[i], label=iris.target_names[i])\n",
    "plt.legend()\n",
    "plt.xlabel(iris.feature_names[a])\n",
    "plt.ylabel(iris.feature_names[b])\n",
    "plt.title(\"Données Iris - longueur des Pétals et longueur des sépals \") # changer le titre\n",
    "plt.show()"
   ]
  },
  {
   "cell_type": "markdown",
   "metadata": {},
   "source": [
    "###### Pour ```a = 0, b = 3```"
   ]
  },
  {
   "cell_type": "code",
   "execution_count": 76,
   "metadata": {
    "scrolled": true
   },
   "outputs": [
    {
     "data": {
      "image/png": "[encoded data removed]",
      "text/plain": [
       "<Figure size 432x288 with 1 Axes>"
      ]
     },
     "metadata": {
      "needs_background": "light"
     },
     "output_type": "display_data"
    }
   ],
   "source": [
    "import pylab as pl\n",
    "iris=load_iris()\n",
    "X=iris.data\n",
    "y=iris.target\n",
    "a = 0\n",
    "b = 3\n",
    "colors = [\"red\", \"green\", \"blue\"]\n",
    "for i in range(3):\n",
    "    plt.scatter(X[y==i][:,a], X[y==i][:,b], color=colors[i], label=iris.target_names[i])\n",
    "plt.legend()\n",
    "plt.xlabel(iris.feature_names[a])\n",
    "plt.ylabel(iris.feature_names[b])\n",
    "plt.title(\"Données Iris - largeur des Pétals et longueur des sépals \") # changer le titre\n",
    "plt.show()"
   ]
  },
  {
   "cell_type": "markdown",
   "metadata": {},
   "source": [
    "###### Pour ```a = 1, b = 2```"
   ]
  },
  {
   "cell_type": "code",
   "execution_count": 77,
   "metadata": {},
   "outputs": [
    {
     "data": {
      "image/png": "[encoded data removed]",
      "text/plain": [
       "<Figure size 432x288 with 1 Axes>"
      ]
     },
     "metadata": {
      "needs_background": "light"
     },
     "output_type": "display_data"
    }
   ],
   "source": [
    "import pylab as pl\n",
    "iris=load_iris()\n",
    "X=iris.data\n",
    "y=iris.target\n",
    "a = 1\n",
    "b = 2\n",
    "colors = [\"red\", \"green\", \"blue\"]\n",
    "for i in range(3):\n",
    "    plt.scatter(X[y==i][:,a], X[y==i][:,b], color=colors[i], label=iris.target_names[i])\n",
    "plt.legend()\n",
    "plt.xlabel(iris.feature_names[a])\n",
    "plt.ylabel(iris.feature_names[b])\n",
    "plt.title(\"Données Iris - longueur des Pétals et largeur des sépals \") # changer le titre\n",
    "plt.show()"
   ]
  },
  {
   "cell_type": "markdown",
   "metadata": {},
   "source": [
    "###### Pour ```a = 1, b = 3```"
   ]
  },
  {
   "cell_type": "code",
   "execution_count": 78,
   "metadata": {
    "scrolled": true
   },
   "outputs": [
    {
     "data": {
      "image/png": "[encoded data removed]",
      "text/plain": [
       "<Figure size 432x288 with 1 Axes>"
      ]
     },
     "metadata": {
      "needs_background": "light"
     },
     "output_type": "display_data"
    }
   ],
   "source": [
    "import pylab as pl\n",
    "iris=load_iris()\n",
    "X=iris.data\n",
    "y=iris.target\n",
    "a = 1\n",
    "b = 3\n",
    "colors = [\"red\", \"green\", \"blue\"]\n",
    "for i in range(3):\n",
    "    plt.scatter(X[y==i][:,a], X[y==i][:,b], color=colors[i], label=iris.target_names[i])\n",
    "plt.legend()\n",
    "plt.xlabel(iris.feature_names[a])\n",
    "plt.ylabel(iris.feature_names[b])\n",
    "plt.title(\"Données Iris - largeur des Pétals et largeur des sépals \") # changer le titre\n",
    "plt.show()"
   ]
  },
  {
   "cell_type": "markdown",
   "metadata": {},
   "source": [
    "On peut regrouper les figures pour faire la comparaison! On utilise ```pylab.subplot()``` ou autre methode!"
   ]
  },
  {
   "cell_type": "markdown",
   "metadata": {},
   "source": [
    "On peut alors constater que le couples d’attributs qui semble le mieux à discriminer les 3 classes d’iris et le suivant :\n"
   ]
  },
  {
   "cell_type": "code",
   "execution_count": 79,
   "metadata": {},
   "outputs": [
    {
     "data": {
      "image/png": "[encoded data removed]",
      "text/plain": [
       "<Figure size 432x288 with 1 Axes>"
      ]
     },
     "metadata": {
      "needs_background": "light"
     },
     "output_type": "display_data"
    }
   ],
   "source": [
    "import pylab as pl\n",
    "iris=load_iris()\n",
    "X=iris.data\n",
    "y=iris.target\n",
    "a = 2 # troisiemes variable\n",
    "b = 3 # 4ieme variable\n",
    "colors = [\"red\", \"green\", \"blue\"]\n",
    "for i in range(3):\n",
    "    plt.scatter(X[y==i][:,a], X[y==i][:,b], color=colors[i], label=iris.target_names[i])\n",
    "plt.legend()\n",
    "plt.xlabel(iris.feature_names[a])\n",
    "plt.ylabel(iris.feature_names[b])\n",
    "plt.title(\"Données Iris - dimensionons des pétales uniquement\") # changer le titre\n",
    "plt.show()"
   ]
  }
 ],
 "metadata": {
  "kernelspec": {
   "display_name": "Python 3",
   "language": "python",
   "name": "python3"
  },
  "language_info": {
   "codemirror_mode": {
    "name": "ipython",
    "version": 3
   },
   "file_extension": ".py",
   "mimetype": "text/x-python",
   "name": "python",
   "nbconvert_exporter": "python",
   "pygments_lexer": "ipython3",
   "version": "3.7.4"
  }
 },
 "nbformat": 4,
 "nbformat_minor": 2
}
