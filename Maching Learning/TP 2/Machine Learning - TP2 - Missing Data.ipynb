{
 "cells": [
  {
   "cell_type": "markdown",
   "metadata": {},
   "source": [
    "# Partie 1 : Imputation de données manquantes        "
   ]
  },
  {
   "cell_type": "markdown",
   "metadata": {},
   "source": [
    "###### 1. Importation des librairies"
   ]
  },
  {
   "cell_type": "code",
   "execution_count": 30,
   "metadata": {},
   "outputs": [],
   "source": [
    "import numpy as np\n",
    "from sklearn.impute import SimpleImputer\n",
    "from sklearn.metrics import mean_squared_error\n",
    "import pandas as pd"
   ]
  },
  {
   "cell_type": "markdown",
   "metadata": {},
   "source": [
    "###### 2. Génération de données bi-dimensionnelles"
   ]
  },
  {
   "cell_type": "code",
   "execution_count": 31,
   "metadata": {},
   "outputs": [
    {
     "name": "stdout",
     "output_type": "stream",
     "text": [
      "Data shape is:  (300, 2)\n"
     ]
    }
   ],
   "source": [
    "n_base = 100\n",
    "\n",
    "data1 = np.random.randn(n_base, 2) + [5, 5]\n",
    "data2 = np.random.randn(n_base, 2) + [3, 2]\n",
    "data3 = np.random.randn(n_base, 2) + [1, 5]\n",
    "\n",
    "data = np.concatenate((data1, data2, data3))\n",
    "\n",
    "print(\"Data shape is: \", data.shape)\n",
    "\n",
    "np.random.shuffle(data)\n",
    "\n",
    "n_samples = data.shape[0]"
   ]
  },
  {
   "cell_type": "markdown",
   "metadata": {},
   "source": [
    "###### 3. Fabrication d'un jeu de données avec données manquantes"
   ]
  },
  {
   "cell_type": "code",
   "execution_count": 19,
   "metadata": {},
   "outputs": [
    {
     "name": "stdout",
     "output_type": "stream",
     "text": [
      "data_missing shape is:  (300, 2)\n"
     ]
    }
   ],
   "source": [
    "# définition du taux de lignes à valeurs manquantes\n",
    "missing_rate = 0.3\n",
    "n_missing_samples = int(np.floor(n_samples * missing_rate))\n",
    "\n",
    "# choix des lignes à valeurs manquantes\n",
    "missing_samples = np.hstack((np.zeros(n_samples - n_missing_samples, dtype=np.bool), np.ones(n_missing_samples, dtype=np.bool)))\n",
    "np.random.shuffle(missing_samples)\n",
    "\n",
    "# obtenir la matrice avec données manquates: manque indiqué \n",
    "# par valeurs NaN dans la seconde colonne pour les lignes \n",
    "# True dans missing_samples\n",
    "\n",
    "data_missing = data.copy()\n",
    "data_missing[np.where(missing_samples), 1] = np.nan\n",
    "print(\"data_missing shape is: \", data_missing.shape)"
   ]
  },
  {
   "cell_type": "code",
   "execution_count": 20,
   "metadata": {},
   "outputs": [
    {
     "name": "stdout",
     "output_type": "stream",
     "text": [
      "data_imputed shape is:  (300, 2)\n"
     ]
    }
   ],
   "source": [
    "# imputation par la moyenne\n",
    "imp = SimpleImputer(missing_values=np.nan, strategy='mean')\n",
    "data_imputed = imp.fit_transform(data_missing)\n",
    "#print(data_imputed)\n",
    "print(\"data_imputed shape is: \", data_imputed.shape)"
   ]
  },
  {
   "cell_type": "markdown",
   "metadata": {},
   "source": [
    "###### Calcul de l'erreur d'imputation"
   ]
  },
  {
   "cell_type": "code",
   "execution_count": 21,
   "metadata": {},
   "outputs": [
    {
     "data": {
      "text/plain": [
       "2.8267318502127416"
      ]
     },
     "execution_count": 21,
     "metadata": {},
     "output_type": "execute_result"
    }
   ],
   "source": [
    "# calculer l'erreur d'imputation\n",
    "err = mean_squared_error(data[missing_samples, 1], data_imputed[missing_samples, 1])\n",
    "err"
   ]
  },
  {
   "cell_type": "markdown",
   "metadata": {},
   "source": [
    "###### 4. Affichage des moyennes calculéss"
   ]
  },
  {
   "cell_type": "code",
   "execution_count": 22,
   "metadata": {
    "scrolled": false
   },
   "outputs": [
    {
     "name": "stdout",
     "output_type": "stream",
     "text": [
      "Calculated Mean: \n",
      "3.973430364660325\n"
     ]
    }
   ],
   "source": [
    "print(\"Calculated Mean: \")\n",
    "print(data_imputed.mean(0)[1])"
   ]
  },
  {
   "cell_type": "markdown",
   "metadata": {},
   "source": [
    "### les données en DataFrame"
   ]
  },
  {
   "cell_type": "code",
   "execution_count": 23,
   "metadata": {},
   "outputs": [
    {
     "data": {
      "text/html": [
       "<div>\n",
       "<style scoped>\n",
       "    .dataframe tbody tr th:only-of-type {\n",
       "        vertical-align: middle;\n",
       "    }\n",
       "\n",
       "    .dataframe tbody tr th {\n",
       "        vertical-align: top;\n",
       "    }\n",
       "\n",
       "    .dataframe thead th {\n",
       "        text-align: right;\n",
       "    }\n",
       "</style>\n",
       "<table border=\"1\" class=\"dataframe\">\n",
       "  <thead>\n",
       "    <tr style=\"text-align: right;\">\n",
       "      <th></th>\n",
       "      <th>0</th>\n",
       "      <th>1</th>\n",
       "    </tr>\n",
       "  </thead>\n",
       "  <tbody>\n",
       "    <tr>\n",
       "      <td>0</td>\n",
       "      <td>3.631781</td>\n",
       "      <td>1.476879</td>\n",
       "    </tr>\n",
       "    <tr>\n",
       "      <td>1</td>\n",
       "      <td>4.972459</td>\n",
       "      <td>NaN</td>\n",
       "    </tr>\n",
       "    <tr>\n",
       "      <td>2</td>\n",
       "      <td>0.485158</td>\n",
       "      <td>4.287880</td>\n",
       "    </tr>\n",
       "    <tr>\n",
       "      <td>3</td>\n",
       "      <td>0.379828</td>\n",
       "      <td>NaN</td>\n",
       "    </tr>\n",
       "    <tr>\n",
       "      <td>4</td>\n",
       "      <td>-0.696175</td>\n",
       "      <td>4.238461</td>\n",
       "    </tr>\n",
       "    <tr>\n",
       "      <td>5</td>\n",
       "      <td>4.041259</td>\n",
       "      <td>5.259488</td>\n",
       "    </tr>\n",
       "    <tr>\n",
       "      <td>6</td>\n",
       "      <td>4.149452</td>\n",
       "      <td>3.098959</td>\n",
       "    </tr>\n",
       "    <tr>\n",
       "      <td>7</td>\n",
       "      <td>5.047256</td>\n",
       "      <td>NaN</td>\n",
       "    </tr>\n",
       "    <tr>\n",
       "      <td>8</td>\n",
       "      <td>2.150541</td>\n",
       "      <td>2.775878</td>\n",
       "    </tr>\n",
       "    <tr>\n",
       "      <td>9</td>\n",
       "      <td>0.447206</td>\n",
       "      <td>5.816301</td>\n",
       "    </tr>\n",
       "    <tr>\n",
       "      <td>10</td>\n",
       "      <td>1.482740</td>\n",
       "      <td>NaN</td>\n",
       "    </tr>\n",
       "    <tr>\n",
       "      <td>11</td>\n",
       "      <td>4.274087</td>\n",
       "      <td>3.333999</td>\n",
       "    </tr>\n",
       "    <tr>\n",
       "      <td>12</td>\n",
       "      <td>2.744335</td>\n",
       "      <td>NaN</td>\n",
       "    </tr>\n",
       "    <tr>\n",
       "      <td>13</td>\n",
       "      <td>-0.157652</td>\n",
       "      <td>NaN</td>\n",
       "    </tr>\n",
       "    <tr>\n",
       "      <td>14</td>\n",
       "      <td>0.045009</td>\n",
       "      <td>NaN</td>\n",
       "    </tr>\n",
       "  </tbody>\n",
       "</table>\n",
       "</div>"
      ],
      "text/plain": [
       "           0         1\n",
       "0   3.631781  1.476879\n",
       "1   4.972459       NaN\n",
       "2   0.485158  4.287880\n",
       "3   0.379828       NaN\n",
       "4  -0.696175  4.238461\n",
       "5   4.041259  5.259488\n",
       "6   4.149452  3.098959\n",
       "7   5.047256       NaN\n",
       "8   2.150541  2.775878\n",
       "9   0.447206  5.816301\n",
       "10  1.482740       NaN\n",
       "11  4.274087  3.333999\n",
       "12  2.744335       NaN\n",
       "13 -0.157652       NaN\n",
       "14  0.045009       NaN"
      ]
     },
     "execution_count": 23,
     "metadata": {},
     "output_type": "execute_result"
    }
   ],
   "source": [
    "pd.DataFrame(data_missing).head(15)"
   ]
  },
  {
   "cell_type": "code",
   "execution_count": 24,
   "metadata": {
    "scrolled": true
   },
   "outputs": [
    {
     "data": {
      "text/html": [
       "<div>\n",
       "<style scoped>\n",
       "    .dataframe tbody tr th:only-of-type {\n",
       "        vertical-align: middle;\n",
       "    }\n",
       "\n",
       "    .dataframe tbody tr th {\n",
       "        vertical-align: top;\n",
       "    }\n",
       "\n",
       "    .dataframe thead th {\n",
       "        text-align: right;\n",
       "    }\n",
       "</style>\n",
       "<table border=\"1\" class=\"dataframe\">\n",
       "  <thead>\n",
       "    <tr style=\"text-align: right;\">\n",
       "      <th></th>\n",
       "      <th>0</th>\n",
       "      <th>1</th>\n",
       "    </tr>\n",
       "  </thead>\n",
       "  <tbody>\n",
       "    <tr>\n",
       "      <td>0</td>\n",
       "      <td>3.631781</td>\n",
       "      <td>1.476879</td>\n",
       "    </tr>\n",
       "    <tr>\n",
       "      <td>1</td>\n",
       "      <td>4.972459</td>\n",
       "      <td>3.973430</td>\n",
       "    </tr>\n",
       "    <tr>\n",
       "      <td>2</td>\n",
       "      <td>0.485158</td>\n",
       "      <td>4.287880</td>\n",
       "    </tr>\n",
       "    <tr>\n",
       "      <td>3</td>\n",
       "      <td>0.379828</td>\n",
       "      <td>3.973430</td>\n",
       "    </tr>\n",
       "    <tr>\n",
       "      <td>4</td>\n",
       "      <td>-0.696175</td>\n",
       "      <td>4.238461</td>\n",
       "    </tr>\n",
       "    <tr>\n",
       "      <td>5</td>\n",
       "      <td>4.041259</td>\n",
       "      <td>5.259488</td>\n",
       "    </tr>\n",
       "    <tr>\n",
       "      <td>6</td>\n",
       "      <td>4.149452</td>\n",
       "      <td>3.098959</td>\n",
       "    </tr>\n",
       "    <tr>\n",
       "      <td>7</td>\n",
       "      <td>5.047256</td>\n",
       "      <td>3.973430</td>\n",
       "    </tr>\n",
       "    <tr>\n",
       "      <td>8</td>\n",
       "      <td>2.150541</td>\n",
       "      <td>2.775878</td>\n",
       "    </tr>\n",
       "    <tr>\n",
       "      <td>9</td>\n",
       "      <td>0.447206</td>\n",
       "      <td>5.816301</td>\n",
       "    </tr>\n",
       "    <tr>\n",
       "      <td>10</td>\n",
       "      <td>1.482740</td>\n",
       "      <td>3.973430</td>\n",
       "    </tr>\n",
       "    <tr>\n",
       "      <td>11</td>\n",
       "      <td>4.274087</td>\n",
       "      <td>3.333999</td>\n",
       "    </tr>\n",
       "    <tr>\n",
       "      <td>12</td>\n",
       "      <td>2.744335</td>\n",
       "      <td>3.973430</td>\n",
       "    </tr>\n",
       "    <tr>\n",
       "      <td>13</td>\n",
       "      <td>-0.157652</td>\n",
       "      <td>3.973430</td>\n",
       "    </tr>\n",
       "    <tr>\n",
       "      <td>14</td>\n",
       "      <td>0.045009</td>\n",
       "      <td>3.973430</td>\n",
       "    </tr>\n",
       "  </tbody>\n",
       "</table>\n",
       "</div>"
      ],
      "text/plain": [
       "           0         1\n",
       "0   3.631781  1.476879\n",
       "1   4.972459  3.973430\n",
       "2   0.485158  4.287880\n",
       "3   0.379828  3.973430\n",
       "4  -0.696175  4.238461\n",
       "5   4.041259  5.259488\n",
       "6   4.149452  3.098959\n",
       "7   5.047256  3.973430\n",
       "8   2.150541  2.775878\n",
       "9   0.447206  5.816301\n",
       "10  1.482740  3.973430\n",
       "11  4.274087  3.333999\n",
       "12  2.744335  3.973430\n",
       "13 -0.157652  3.973430\n",
       "14  0.045009  3.973430"
      ]
     },
     "execution_count": 24,
     "metadata": {},
     "output_type": "execute_result"
    }
   ],
   "source": [
    "pd.DataFrame(data_imputed).head(15)"
   ]
  },
  {
   "cell_type": "markdown",
   "metadata": {},
   "source": [
    "On remarque que c'est la valeur calculée qui a remplacé les NaN. La moyennes sur la variables."
   ]
  },
  {
   "cell_type": "markdown",
   "metadata": {},
   "source": [
    "###### 5. Imputation par median"
   ]
  },
  {
   "cell_type": "code",
   "execution_count": 25,
   "metadata": {},
   "outputs": [
    {
     "name": "stdout",
     "output_type": "stream",
     "text": [
      "data_imputed1 shape is:  (300, 2)\n",
      "Median calculé: \n",
      "4.317039994506166\n",
      "Error:  3.021455229883478\n"
     ]
    }
   ],
   "source": [
    "# imputation par la median\n",
    "imp1 = SimpleImputer(missing_values=np.nan, strategy='median')\n",
    "data_imputed1 = imp1.fit_transform(data_missing)\n",
    "#print(data_imputed)\n",
    "print(\"data_imputed1 shape is: \", data_imputed1.shape)\n",
    "# calculer l'erreur d'imputation\n",
    "err1 = mean_squared_error(data[missing_samples, 1], data_imputed1[missing_samples, 1])\n",
    "print(\"Median calculé: \")\n",
    "print(np.median(data_imputed1, 0)[1])\n",
    "print(\"Error: \", err1)"
   ]
  },
  {
   "cell_type": "code",
   "execution_count": 26,
   "metadata": {},
   "outputs": [
    {
     "data": {
      "text/html": [
       "<div>\n",
       "<style scoped>\n",
       "    .dataframe tbody tr th:only-of-type {\n",
       "        vertical-align: middle;\n",
       "    }\n",
       "\n",
       "    .dataframe tbody tr th {\n",
       "        vertical-align: top;\n",
       "    }\n",
       "\n",
       "    .dataframe thead th {\n",
       "        text-align: right;\n",
       "    }\n",
       "</style>\n",
       "<table border=\"1\" class=\"dataframe\">\n",
       "  <thead>\n",
       "    <tr style=\"text-align: right;\">\n",
       "      <th></th>\n",
       "      <th>0</th>\n",
       "      <th>1</th>\n",
       "    </tr>\n",
       "  </thead>\n",
       "  <tbody>\n",
       "    <tr>\n",
       "      <td>0</td>\n",
       "      <td>3.631781</td>\n",
       "      <td>1.476879</td>\n",
       "    </tr>\n",
       "    <tr>\n",
       "      <td>1</td>\n",
       "      <td>4.972459</td>\n",
       "      <td>4.317040</td>\n",
       "    </tr>\n",
       "    <tr>\n",
       "      <td>2</td>\n",
       "      <td>0.485158</td>\n",
       "      <td>4.287880</td>\n",
       "    </tr>\n",
       "    <tr>\n",
       "      <td>3</td>\n",
       "      <td>0.379828</td>\n",
       "      <td>4.317040</td>\n",
       "    </tr>\n",
       "    <tr>\n",
       "      <td>4</td>\n",
       "      <td>-0.696175</td>\n",
       "      <td>4.238461</td>\n",
       "    </tr>\n",
       "    <tr>\n",
       "      <td>5</td>\n",
       "      <td>4.041259</td>\n",
       "      <td>5.259488</td>\n",
       "    </tr>\n",
       "    <tr>\n",
       "      <td>6</td>\n",
       "      <td>4.149452</td>\n",
       "      <td>3.098959</td>\n",
       "    </tr>\n",
       "    <tr>\n",
       "      <td>7</td>\n",
       "      <td>5.047256</td>\n",
       "      <td>4.317040</td>\n",
       "    </tr>\n",
       "    <tr>\n",
       "      <td>8</td>\n",
       "      <td>2.150541</td>\n",
       "      <td>2.775878</td>\n",
       "    </tr>\n",
       "    <tr>\n",
       "      <td>9</td>\n",
       "      <td>0.447206</td>\n",
       "      <td>5.816301</td>\n",
       "    </tr>\n",
       "    <tr>\n",
       "      <td>10</td>\n",
       "      <td>1.482740</td>\n",
       "      <td>4.317040</td>\n",
       "    </tr>\n",
       "    <tr>\n",
       "      <td>11</td>\n",
       "      <td>4.274087</td>\n",
       "      <td>3.333999</td>\n",
       "    </tr>\n",
       "    <tr>\n",
       "      <td>12</td>\n",
       "      <td>2.744335</td>\n",
       "      <td>4.317040</td>\n",
       "    </tr>\n",
       "    <tr>\n",
       "      <td>13</td>\n",
       "      <td>-0.157652</td>\n",
       "      <td>4.317040</td>\n",
       "    </tr>\n",
       "    <tr>\n",
       "      <td>14</td>\n",
       "      <td>0.045009</td>\n",
       "      <td>4.317040</td>\n",
       "    </tr>\n",
       "  </tbody>\n",
       "</table>\n",
       "</div>"
      ],
      "text/plain": [
       "           0         1\n",
       "0   3.631781  1.476879\n",
       "1   4.972459  4.317040\n",
       "2   0.485158  4.287880\n",
       "3   0.379828  4.317040\n",
       "4  -0.696175  4.238461\n",
       "5   4.041259  5.259488\n",
       "6   4.149452  3.098959\n",
       "7   5.047256  4.317040\n",
       "8   2.150541  2.775878\n",
       "9   0.447206  5.816301\n",
       "10  1.482740  4.317040\n",
       "11  4.274087  3.333999\n",
       "12  2.744335  4.317040\n",
       "13 -0.157652  4.317040\n",
       "14  0.045009  4.317040"
      ]
     },
     "execution_count": 26,
     "metadata": {},
     "output_type": "execute_result"
    }
   ],
   "source": [
    "pd.DataFrame(data_imputed1).head(15)"
   ]
  },
  {
   "cell_type": "markdown",
   "metadata": {},
   "source": [
    "###### 6. Imputation par une valeur constatnte: zéro par exemple"
   ]
  },
  {
   "cell_type": "code",
   "execution_count": 27,
   "metadata": {},
   "outputs": [
    {
     "name": "stdout",
     "output_type": "stream",
     "text": [
      "data_imputed2 shape is:  (300, 2)\n",
      "Error:  17.728448946759915\n"
     ]
    }
   ],
   "source": [
    "# imputation par la constant zero\n",
    "imp2 = SimpleImputer(missing_values=np.nan, strategy='constant', fill_value=0)\n",
    "data_imputed2 = imp2.fit_transform(data_missing)\n",
    "#print(data_imputed)\n",
    "print(\"data_imputed2 shape is: \", data_imputed2.shape)\n",
    "# calculer l'erreur d'imputation\n",
    "err2 = mean_squared_error(data[missing_samples, 1], data_imputed2[missing_samples, 1])\n",
    "print(\"Error: \", err2)"
   ]
  },
  {
   "cell_type": "markdown",
   "metadata": {},
   "source": [
    "L'erreur est plus car on prend le carrée de chaque donnée imputé de la variable data sans\n",
    "retrancher rien, ```data[:, 1] - 0```\n",
    "![image](images/zero.png)"
   ]
  },
  {
   "cell_type": "code",
   "execution_count": 28,
   "metadata": {
    "scrolled": true
   },
   "outputs": [
    {
     "data": {
      "text/html": [
       "<div>\n",
       "<style scoped>\n",
       "    .dataframe tbody tr th:only-of-type {\n",
       "        vertical-align: middle;\n",
       "    }\n",
       "\n",
       "    .dataframe tbody tr th {\n",
       "        vertical-align: top;\n",
       "    }\n",
       "\n",
       "    .dataframe thead th {\n",
       "        text-align: right;\n",
       "    }\n",
       "</style>\n",
       "<table border=\"1\" class=\"dataframe\">\n",
       "  <thead>\n",
       "    <tr style=\"text-align: right;\">\n",
       "      <th></th>\n",
       "      <th>0</th>\n",
       "      <th>1</th>\n",
       "    </tr>\n",
       "  </thead>\n",
       "  <tbody>\n",
       "    <tr>\n",
       "      <td>0</td>\n",
       "      <td>3.631781</td>\n",
       "      <td>1.476879</td>\n",
       "    </tr>\n",
       "    <tr>\n",
       "      <td>1</td>\n",
       "      <td>4.972459</td>\n",
       "      <td>0.000000</td>\n",
       "    </tr>\n",
       "    <tr>\n",
       "      <td>2</td>\n",
       "      <td>0.485158</td>\n",
       "      <td>4.287880</td>\n",
       "    </tr>\n",
       "    <tr>\n",
       "      <td>3</td>\n",
       "      <td>0.379828</td>\n",
       "      <td>0.000000</td>\n",
       "    </tr>\n",
       "    <tr>\n",
       "      <td>4</td>\n",
       "      <td>-0.696175</td>\n",
       "      <td>4.238461</td>\n",
       "    </tr>\n",
       "    <tr>\n",
       "      <td>5</td>\n",
       "      <td>4.041259</td>\n",
       "      <td>5.259488</td>\n",
       "    </tr>\n",
       "    <tr>\n",
       "      <td>6</td>\n",
       "      <td>4.149452</td>\n",
       "      <td>3.098959</td>\n",
       "    </tr>\n",
       "    <tr>\n",
       "      <td>7</td>\n",
       "      <td>5.047256</td>\n",
       "      <td>0.000000</td>\n",
       "    </tr>\n",
       "    <tr>\n",
       "      <td>8</td>\n",
       "      <td>2.150541</td>\n",
       "      <td>2.775878</td>\n",
       "    </tr>\n",
       "    <tr>\n",
       "      <td>9</td>\n",
       "      <td>0.447206</td>\n",
       "      <td>5.816301</td>\n",
       "    </tr>\n",
       "    <tr>\n",
       "      <td>10</td>\n",
       "      <td>1.482740</td>\n",
       "      <td>0.000000</td>\n",
       "    </tr>\n",
       "    <tr>\n",
       "      <td>11</td>\n",
       "      <td>4.274087</td>\n",
       "      <td>3.333999</td>\n",
       "    </tr>\n",
       "    <tr>\n",
       "      <td>12</td>\n",
       "      <td>2.744335</td>\n",
       "      <td>0.000000</td>\n",
       "    </tr>\n",
       "    <tr>\n",
       "      <td>13</td>\n",
       "      <td>-0.157652</td>\n",
       "      <td>0.000000</td>\n",
       "    </tr>\n",
       "    <tr>\n",
       "      <td>14</td>\n",
       "      <td>0.045009</td>\n",
       "      <td>0.000000</td>\n",
       "    </tr>\n",
       "  </tbody>\n",
       "</table>\n",
       "</div>"
      ],
      "text/plain": [
       "           0         1\n",
       "0   3.631781  1.476879\n",
       "1   4.972459  0.000000\n",
       "2   0.485158  4.287880\n",
       "3   0.379828  0.000000\n",
       "4  -0.696175  4.238461\n",
       "5   4.041259  5.259488\n",
       "6   4.149452  3.098959\n",
       "7   5.047256  0.000000\n",
       "8   2.150541  2.775878\n",
       "9   0.447206  5.816301\n",
       "10  1.482740  0.000000\n",
       "11  4.274087  3.333999\n",
       "12  2.744335  0.000000\n",
       "13 -0.157652  0.000000\n",
       "14  0.045009  0.000000"
      ]
     },
     "execution_count": 28,
     "metadata": {},
     "output_type": "execute_result"
    }
   ],
   "source": [
    "pd.DataFrame(data_imputed2).head(15)"
   ]
  },
  {
   "cell_type": "markdown",
   "metadata": {},
   "source": [
    "![image](images/ALLDATA.png)"
   ]
  },
  {
   "cell_type": "markdown",
   "metadata": {},
   "source": [
    "###### 7. Imputation parles k-plus-proches-voisins: k-nearest-neignbors "
   ]
  },
  {
   "cell_type": "markdown",
   "metadata": {},
   "source": [
    "La methode KNNImputer nécessaite la version 0.22 de scikit-learn (Calculs réalisé en ligne)"
   ]
  },
  {
   "cell_type": "code",
   "execution_count": 1,
   "metadata": {},
   "outputs": [
    {
     "ename": "ImportError",
     "evalue": "cannot import name 'KNNImputer' from 'sklearn.impute' (C:\\Users\\elitebook\\Anaconda3\\lib\\site-packages\\sklearn\\impute\\__init__.py)",
     "output_type": "error",
     "traceback": [
      "\u001b[1;31m---------------------------------------------------------------------------\u001b[0m",
      "\u001b[1;31mImportError\u001b[0m                               Traceback (most recent call last)",
      "\u001b[1;32m<ipython-input-1-669285be9bbe>\u001b[0m in \u001b[0;36m<module>\u001b[1;34m\u001b[0m\n\u001b[0;32m      1\u001b[0m \u001b[1;31m# 7) imputation par kkn\u001b[0m\u001b[1;33m\u001b[0m\u001b[1;33m\u001b[0m\u001b[1;33m\u001b[0m\u001b[0m\n\u001b[1;32m----> 2\u001b[1;33m \u001b[1;32mfrom\u001b[0m \u001b[0msklearn\u001b[0m\u001b[1;33m.\u001b[0m\u001b[0mimpute\u001b[0m \u001b[1;32mimport\u001b[0m \u001b[0mKNNImputer\u001b[0m\u001b[1;33m\u001b[0m\u001b[1;33m\u001b[0m\u001b[0m\n\u001b[0m\u001b[0;32m      3\u001b[0m \u001b[0mknnimp\u001b[0m \u001b[1;33m=\u001b[0m \u001b[0mKNNImputer\u001b[0m\u001b[1;33m(\u001b[0m\u001b[0mn_neighbors\u001b[0m\u001b[1;33m=\u001b[0m\u001b[1;36m2\u001b[0m\u001b[1;33m,\u001b[0m \u001b[0mweights\u001b[0m\u001b[1;33m=\u001b[0m\u001b[1;34m\"uniform\"\u001b[0m\u001b[1;33m)\u001b[0m\u001b[1;33m\u001b[0m\u001b[1;33m\u001b[0m\u001b[0m\n\u001b[0;32m      4\u001b[0m \u001b[0mknn_data_imputed\u001b[0m \u001b[1;33m=\u001b[0m \u001b[0mknnimp\u001b[0m\u001b[1;33m.\u001b[0m\u001b[0mfit_transform\u001b[0m\u001b[1;33m(\u001b[0m\u001b[0mdata_missing\u001b[0m\u001b[1;33m)\u001b[0m\u001b[1;33m\u001b[0m\u001b[1;33m\u001b[0m\u001b[0m\n\u001b[0;32m      5\u001b[0m \u001b[0merr3\u001b[0m \u001b[1;33m=\u001b[0m \u001b[0mmean_squared_error\u001b[0m\u001b[1;33m(\u001b[0m\u001b[0mdata\u001b[0m\u001b[1;33m[\u001b[0m\u001b[0mmissing_samples\u001b[0m\u001b[1;33m,\u001b[0m \u001b[1;36m1\u001b[0m\u001b[1;33m]\u001b[0m\u001b[1;33m,\u001b[0m \u001b[0mknn_data_imputed\u001b[0m\u001b[1;33m[\u001b[0m\u001b[0mmissing_samples\u001b[0m\u001b[1;33m,\u001b[0m \u001b[1;36m1\u001b[0m\u001b[1;33m]\u001b[0m\u001b[1;33m)\u001b[0m\u001b[1;33m\u001b[0m\u001b[1;33m\u001b[0m\u001b[0m\n",
      "\u001b[1;31mImportError\u001b[0m: cannot import name 'KNNImputer' from 'sklearn.impute' (C:\\Users\\elitebook\\Anaconda3\\lib\\site-packages\\sklearn\\impute\\__init__.py)"
     ]
    }
   ],
   "source": [
    "# 7) imputation par kkn \n",
    "from sklearn.impute import KNNImputer\n",
    "knnimp = KNNImputer(n_neighbors=2, weights=\"uniform\")\n",
    "knn_data_imputed = knnimp.fit_transform(data_missing)\n",
    "err3 = mean_squared_error(data[missing_samples, 1], knn_data_imputed[missing_samples, 1])\n",
    "print(\"KNN imputation: \")\n",
    "print(np.median(knn_data_imputed, 0))\n",
    "print(\"Erreur: \", err3)"
   ]
  },
  {
   "cell_type": "markdown",
   "metadata": {},
   "source": [
    "![image](images/knn.PNG)\n"
   ]
  },
  {
   "cell_type": "markdown",
   "metadata": {},
   "source": [
    "### Conclusion\n",
    "Lorsqu'on dispose des données manquantes, il vaut mieux remplacer avec des méthodes suivantes:\n",
    "\n",
    "                mean, median ou KNN"
   ]
  }
 ],
 "metadata": {
  "kernelspec": {
   "display_name": "Python 3",
   "language": "python",
   "name": "python3"
  },
  "language_info": {
   "codemirror_mode": {
    "name": "ipython",
    "version": 3
   },
   "file_extension": ".py",
   "mimetype": "text/x-python",
   "name": "python",
   "nbconvert_exporter": "python",
   "pygments_lexer": "ipython3",
   "version": "3.7.4"
  }
 },
 "nbformat": 4,
 "nbformat_minor": 2
}
