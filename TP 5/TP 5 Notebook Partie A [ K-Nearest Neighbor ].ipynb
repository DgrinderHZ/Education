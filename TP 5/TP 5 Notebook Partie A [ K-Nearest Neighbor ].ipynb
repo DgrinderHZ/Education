{
 "cells": [
  {
   "cell_type": "markdown",
   "metadata": {},
   "source": [
    "# <p style=\"text-align:center\">TP5 : Classification</p>\n",
    "L’objectif de ce TP est de programmer et de tester deux algorithmes de classification, très\n",
    "simples mais très efficaces : l’algorithme du **Plus Proche Voisin (PPV) (A.)** et **le Classifieur\n",
    "Bayesien Naïf (CBN) (B.)** et **Arbre de decision (C.)** . Nous n’étudions ici que les versions les plus\n",
    "simples de ces algorithmes. Pour ce TP nous aurons besoin d’importer sklearn et numpy. Les\n",
    "tests pourront se faire sur les données prédéfinies de sklearn avec leurs étiquettes de classe\n",
    "(target), par exemple :"
   ]
  },
  {
   "cell_type": "code",
   "execution_count": 4,
   "metadata": {},
   "outputs": [],
   "source": [
    "import numpy as np\n",
    "import pandas as pd\n",
    "from sklearn.datasets import load_iris"
   ]
  },
  {
   "cell_type": "code",
   "execution_count": 5,
   "metadata": {},
   "outputs": [],
   "source": [
    "# Jeu de donnee\n",
    "iris = load_iris ()\n",
    "X = iris.data\n",
    "Y = iris.target"
   ]
  },
  {
   "cell_type": "code",
   "execution_count": 6,
   "metadata": {
    "scrolled": true
   },
   "outputs": [
    {
     "data": {
      "text/html": [
       "<div>\n",
       "<style scoped>\n",
       "    .dataframe tbody tr th:only-of-type {\n",
       "        vertical-align: middle;\n",
       "    }\n",
       "\n",
       "    .dataframe tbody tr th {\n",
       "        vertical-align: top;\n",
       "    }\n",
       "\n",
       "    .dataframe thead th {\n",
       "        text-align: right;\n",
       "    }\n",
       "</style>\n",
       "<table border=\"1\" class=\"dataframe\">\n",
       "  <thead>\n",
       "    <tr style=\"text-align: right;\">\n",
       "      <th></th>\n",
       "      <th>0</th>\n",
       "      <th>1</th>\n",
       "      <th>2</th>\n",
       "      <th>3</th>\n",
       "    </tr>\n",
       "  </thead>\n",
       "  <tbody>\n",
       "    <tr>\n",
       "      <td>0</td>\n",
       "      <td>5.1</td>\n",
       "      <td>3.5</td>\n",
       "      <td>1.4</td>\n",
       "      <td>0.2</td>\n",
       "    </tr>\n",
       "    <tr>\n",
       "      <td>1</td>\n",
       "      <td>4.9</td>\n",
       "      <td>3.0</td>\n",
       "      <td>1.4</td>\n",
       "      <td>0.2</td>\n",
       "    </tr>\n",
       "    <tr>\n",
       "      <td>2</td>\n",
       "      <td>4.7</td>\n",
       "      <td>3.2</td>\n",
       "      <td>1.3</td>\n",
       "      <td>0.2</td>\n",
       "    </tr>\n",
       "    <tr>\n",
       "      <td>3</td>\n",
       "      <td>4.6</td>\n",
       "      <td>3.1</td>\n",
       "      <td>1.5</td>\n",
       "      <td>0.2</td>\n",
       "    </tr>\n",
       "    <tr>\n",
       "      <td>4</td>\n",
       "      <td>5.0</td>\n",
       "      <td>3.6</td>\n",
       "      <td>1.4</td>\n",
       "      <td>0.2</td>\n",
       "    </tr>\n",
       "  </tbody>\n",
       "</table>\n",
       "</div>"
      ],
      "text/plain": [
       "     0    1    2    3\n",
       "0  5.1  3.5  1.4  0.2\n",
       "1  4.9  3.0  1.4  0.2\n",
       "2  4.7  3.2  1.3  0.2\n",
       "3  4.6  3.1  1.5  0.2\n",
       "4  5.0  3.6  1.4  0.2"
      ]
     },
     "execution_count": 6,
     "metadata": {},
     "output_type": "execute_result"
    }
   ],
   "source": [
    "dfX = pd.DataFrame(X)\n",
    "dfX.head()"
   ]
  },
  {
   "cell_type": "code",
   "execution_count": 7,
   "metadata": {
    "scrolled": true
   },
   "outputs": [
    {
     "data": {
      "text/html": [
       "<div>\n",
       "<style scoped>\n",
       "    .dataframe tbody tr th:only-of-type {\n",
       "        vertical-align: middle;\n",
       "    }\n",
       "\n",
       "    .dataframe tbody tr th {\n",
       "        vertical-align: top;\n",
       "    }\n",
       "\n",
       "    .dataframe thead th {\n",
       "        text-align: right;\n",
       "    }\n",
       "</style>\n",
       "<table border=\"1\" class=\"dataframe\">\n",
       "  <thead>\n",
       "    <tr style=\"text-align: right;\">\n",
       "      <th></th>\n",
       "      <th>0</th>\n",
       "    </tr>\n",
       "  </thead>\n",
       "  <tbody>\n",
       "    <tr>\n",
       "      <td>0</td>\n",
       "      <td>0</td>\n",
       "    </tr>\n",
       "    <tr>\n",
       "      <td>1</td>\n",
       "      <td>0</td>\n",
       "    </tr>\n",
       "    <tr>\n",
       "      <td>2</td>\n",
       "      <td>0</td>\n",
       "    </tr>\n",
       "    <tr>\n",
       "      <td>3</td>\n",
       "      <td>0</td>\n",
       "    </tr>\n",
       "    <tr>\n",
       "      <td>4</td>\n",
       "      <td>0</td>\n",
       "    </tr>\n",
       "  </tbody>\n",
       "</table>\n",
       "</div>"
      ],
      "text/plain": [
       "   0\n",
       "0  0\n",
       "1  0\n",
       "2  0\n",
       "3  0\n",
       "4  0"
      ]
     },
     "execution_count": 7,
     "metadata": {},
     "output_type": "execute_result"
    }
   ],
   "source": [
    "dfY = pd.DataFrame(Y)\n",
    "dfY.head()"
   ]
  },
  {
   "cell_type": "markdown",
   "metadata": {},
   "source": [
    "# A. Plus Proche Voisin"
   ]
  },
  {
   "cell_type": "code",
   "execution_count": 8,
   "metadata": {
    "scrolled": true
   },
   "outputs": [],
   "source": [
    "import numpy as np\n",
    "from collections import Counter\n",
    "from sklearn import datasets\n",
    "from sklearn import neighbors\n",
    "from sklearn.metrics.pairwise import euclidean_distances"
   ]
  },
  {
   "cell_type": "markdown",
   "metadata": {},
   "source": [
    "## 1.\n",
    "Créez une fonction PPV(X,Y) qui prend en entrée des données X et des étiquettes Y et qui\n",
    "renvoie une étiquette, pour chaque donnée, prédite à partir du plus proche voisin de cette\n",
    "donnée. Ici on prend chaque donnée, une par une, comme donnée de test et on considère\n",
    "toutes les autres comme données d’apprentissage. Cela nous permet de tester la puissance\n",
    "de notre algorithme selon une méthode de validation par validation croisée (cross validation)\n",
    "de type “leave one out”."
   ]
  },
  {
   "cell_type": "code",
   "execution_count": 9,
   "metadata": {},
   "outputs": [],
   "source": [
    "def PPV(x, y):\n",
    "    \"\"\" PPV : Plus Proche Voisin\n",
    "    Principe : la donnee de test est classe selon les K\n",
    "    plus proches voisin de classe majoritaire.\n",
    "    \"\"\"\n",
    "    # NOMBRE DE VOISIN\n",
    "    k = 1\n",
    "    # Taille de données\n",
    "    taille = len(x)\n",
    "\n",
    "    # ppv_target contient les nouvelles etiquettes: np.array([0, 0, ...])\n",
    "    ppv_target = np.zeros(taille, dtype=np.int)\n",
    "\n",
    "    # 1-folds Cross validation\n",
    "    for i in range(taille):\n",
    "        # leave one out\n",
    "        valid = x[i]\n",
    "        train = np.delete(x, i, 0)\n",
    "        train_target = np.delete(y, i, 0)\n",
    "        assert taille-1 == len(train)\n",
    "\n",
    "        # calculer la distance entre valid et les autres données (train)\n",
    "        dist = list(euclidean_distances(train, valid.reshape(1, -1)))\n",
    "\n",
    "        # selectioner la classe de la plus proche donnee\n",
    "        min_dist_idx = np.argmin(dist)\n",
    "        ppv_target[i] = train_target[min_dist_idx]\n",
    "\n",
    "    return {'target': ppv_target}\n"
   ]
  },
  {
   "cell_type": "markdown",
   "metadata": {},
   "source": [
    "## 2.\n",
    "La fonction PPV calcule une étiquette prédite pour chaque donnée. Modifiez la fonction\n",
    "pour calculer et renvoyer l’erreur de prédiction : c’est à dire le pourcentage d’étiquettes\n",
    "mal prédites."
   ]
  },
  {
   "cell_type": "code",
   "execution_count": 10,
   "metadata": {},
   "outputs": [],
   "source": [
    "def validateur_malprediction(lis_1, lis_2):\n",
    "    \"\"\" validateur_malprediction : Retourne le pourcentage d’étiquettes mal prédites\n",
    "    \"\"\"\n",
    "    size = len(lis_1)\n",
    "    if size != len(lis_2):\n",
    "        logging.error(\"Liste de taille differente\")\n",
    "        return 0\n",
    "    # 1) trouver le total d’étiquettes mal prédites\n",
    "    _sum = 0\n",
    "    for i in range(size):\n",
    "        if lis_1[i] != lis_2[i]:\n",
    "            _sum += 1\n",
    "    # 2) retourner le facteur en %\n",
    "    return _sum*100 / float(size)"
   ]
  },
  {
   "cell_type": "markdown",
   "metadata": {},
   "source": [
    "###### PPV(x,y) updated"
   ]
  },
  {
   "cell_type": "code",
   "execution_count": 11,
   "metadata": {},
   "outputs": [],
   "source": [
    "def PPV(x, y):\n",
    "    \"\"\" PPV : Plus Proche Voisin\n",
    "    Principe : la donnee de test est classe selon les K\n",
    "    plus proches voisin de classe majoritaire.\n",
    "    \"\"\"\n",
    "    # NOMBRE DE VOISIN\n",
    "    k = 1\n",
    "    # Taille de données\n",
    "    taille = len(x)\n",
    "\n",
    "    # ppv_target contient les nouvelles etiquettes: np.array([0, 0, ...])\n",
    "    ppv_target = np.zeros(taille, dtype=np.int)\n",
    "\n",
    "    # Cross validation\n",
    "    for i in range(taille):\n",
    "        # leave one out\n",
    "        valid = x[i]\n",
    "        train = np.delete(x, i, 0)\n",
    "        train_target = np.delete(y, i, 0)\n",
    "        assert taille-1 == len(train)\n",
    "\n",
    "        # calculer la distance entre valid et les autres données (train)\n",
    "        dist = list(euclidean_distances(train, valid.reshape(1, -1)))\n",
    "\n",
    "        # selectioner la classe de la plus proche donnee\n",
    "        min_dist_idx = np.argmin(dist)\n",
    "        ppv_target[i] = train_target[min_dist_idx]\n",
    "\n",
    "    return {'target': ppv_target, 'error': validateur_malprediction(ppv_target, y) }\n"
   ]
  },
  {
   "cell_type": "code",
   "execution_count": 12,
   "metadata": {},
   "outputs": [
    {
     "data": {
      "text/plain": [
       "array([2, 6])"
      ]
     },
     "execution_count": 12,
     "metadata": {},
     "output_type": "execute_result"
    }
   ],
   "source": [
    "np.multiply([1,2], [2, 3])"
   ]
  },
  {
   "cell_type": "markdown",
   "metadata": {},
   "source": [
    "## 3.\n",
    "Testez sur les données Iris"
   ]
  },
  {
   "cell_type": "markdown",
   "metadata": {},
   "source": [
    "## 4.\n",
    "Testez la fonction des K Plus Proches Voisins de sklearn (avec ici K = 1). Les résultats\n",
    "sont-ils différents ? Testez avec d’autres valeurs de K."
   ]
  },
  {
   "cell_type": "code",
   "execution_count": 13,
   "metadata": {},
   "outputs": [],
   "source": [
    "def predic_cross_valid(algo, x, y):\n",
    "    \"\"\"train : cross validation pour l'algorithme de sklearn\n",
    "        x = data\n",
    "        y = target\n",
    "    \"\"\"\n",
    "    # taille de jeu de donnees\n",
    "    taille = len(x)\n",
    "\n",
    "    predicted_target = np.zeros(taille, dtype=np.int)\n",
    "\n",
    "    for i in range(taille):\n",
    "        # leave one out\n",
    "        valid = x[i]\n",
    "        train = np.delete(x, i, 0)\n",
    "        train_target = np.delete(y, i, 0)\n",
    "        \n",
    "        # trouver la classe\n",
    "        algo.fit(train, train_target)\n",
    "        predicted_target[i] = algo.predict(valid.reshape(1, -1))\n",
    "\n",
    "    return {'target': predicted_target, 'error': validateur_malprediction(predicted_target, y)}\n"
   ]
  },
  {
   "cell_type": "code",
   "execution_count": 14,
   "metadata": {
    "scrolled": true
   },
   "outputs": [
    {
     "name": "stdout",
     "output_type": "stream",
     "text": [
      "Real : [0 0 0 0 0 0 0 0 0 0 0 0 0 0 0 0 0 0 0 0 0 0 0 0 0 0 0 0 0 0 0 0 0 0 0 0 0\n",
      " 0 0 0 0 0 0 0 0 0 0 0 0 0 1 1 1 1 1 1 1 1 1 1 1 1 1 1 1 1 1 1 1 1 1 1 1 1\n",
      " 1 1 1 1 1 1 1 1 1 1 1 1 1 1 1 1 1 1 1 1 1 1 1 1 1 1 2 2 2 2 2 2 2 2 2 2 2\n",
      " 2 2 2 2 2 2 2 2 2 2 2 2 2 2 2 2 2 2 2 2 2 2 2 2 2 2 2 2 2 2 2 2 2 2 2 2 2\n",
      " 2 2]\n",
      "____________________________________________________________________________________________________\n",
      "PPV : [0 0 0 0 0 0 0 0 0 0 0 0 0 0 0 0 0 0 0 0 0 0 0 0 0 0 0 0 0 0 0 0 0 0 0 0 0\n",
      " 0 0 0 0 0 0 0 0 0 0 0 0 0 1 1 1 1 1 1 1 1 1 1 1 1 1 1 1 1 1 1 1 1 2 1 2 1\n",
      " 1 1 1 1 1 1 1 1 1 2 1 1 1 1 1 1 1 1 1 1 1 1 1 1 1 1 2 2 2 2 2 2 1 2 2 2 2\n",
      " 2 2 2 2 2 2 2 2 1 2 2 2 2 2 2 2 2 2 2 2 2 2 1 2 2 2 2 2 2 2 2 2 2 2 2 2 2\n",
      " 2 2]\n",
      "PPV pourcentage d’étiquettes mal prédites : 4.0\n",
      "____________________________________________________________________________________________________\n",
      "KNeighbors : [0 0 0 0 0 0 0 0 0 0 0 0 0 0 0 0 0 0 0 0 0 0 0 0 0 0 0 0 0 0 0 0 0 0 0 0 0\n",
      " 0 0 0 0 0 0 0 0 0 0 0 0 0 1 1 1 1 1 1 1 1 1 1 1 1 1 1 1 1 1 1 1 1 2 1 2 1\n",
      " 1 1 1 1 1 1 1 1 1 2 1 1 1 1 1 1 1 1 1 1 1 1 1 1 1 1 2 2 2 2 2 2 1 2 2 2 2\n",
      " 2 2 2 2 2 2 2 2 1 2 2 2 2 2 2 2 2 2 2 2 2 2 1 2 2 2 2 2 2 2 2 2 2 2 2 2 2\n",
      " 2 2]\n",
      "KNeighbors pourcentage d’étiquettes mal prédites : 4.0\n"
     ]
    }
   ],
   "source": [
    "ppv_target = PPV(x=X, y=Y)\n",
    "\n",
    "target_sklearn = neighbors.KNeighborsClassifier(n_neighbors=1)\n",
    "\n",
    "sklearn_ppv_target = predic_cross_valid(target_sklearn, X, Y)\n",
    "\n",
    "def sep(n):\n",
    "    print(\"_\"*n)\n",
    "    \n",
    "print(\"Real : %s\"%Y)\n",
    "sep(100)\n",
    "print(\"PPV : %s\"% ppv_target['target'])\n",
    "print(\"PPV pourcentage d’étiquettes mal prédites : %.1f\"% ppv_target['error'])\n",
    "sep(100)\n",
    "print(\"KNeighbors : %s\"% sklearn_ppv_target['target'])\n",
    "print(\"KNeighbors pourcentage d’étiquettes mal prédites : %.1f\"% sklearn_ppv_target['error'])"
   ]
  },
  {
   "cell_type": "markdown",
   "metadata": {},
   "source": [
    "Les résultats des fonction prédiction sont identiques mais différent de Y réel avec un taux de 4%!"
   ]
  },
  {
   "cell_type": "markdown",
   "metadata": {},
   "source": [
    "#### AVEC ```k = 4```"
   ]
  },
  {
   "cell_type": "code",
   "execution_count": 15,
   "metadata": {
    "scrolled": true
   },
   "outputs": [
    {
     "name": "stdout",
     "output_type": "stream",
     "text": [
      "Real : [0 0 0 0 0 0 0 0 0 0 0 0 0 0 0 0 0 0 0 0 0 0 0 0 0 0 0 0 0 0 0 0 0 0 0 0 0\n",
      " 0 0 0 0 0 0 0 0 0 0 0 0 0 1 1 1 1 1 1 1 1 1 1 1 1 1 1 1 1 1 1 1 1 1 1 1 1\n",
      " 1 1 1 1 1 1 1 1 1 1 1 1 1 1 1 1 1 1 1 1 1 1 1 1 1 1 2 2 2 2 2 2 2 2 2 2 2\n",
      " 2 2 2 2 2 2 2 2 2 2 2 2 2 2 2 2 2 2 2 2 2 2 2 2 2 2 2 2 2 2 2 2 2 2 2 2 2\n",
      " 2 2]\n",
      "____________________________________________________________________________________________________\n",
      "PPV : [0 0 0 0 0 0 0 0 0 0 0 0 0 0 0 0 0 0 0 0 0 0 0 0 0 0 0 0 0 0 0 0 0 0 0 0 0\n",
      " 0 0 0 0 0 0 0 0 0 0 0 0 0 1 1 1 1 1 1 1 1 1 1 1 1 1 1 1 1 1 1 1 1 2 1 2 1\n",
      " 1 1 1 1 1 1 1 1 1 2 1 1 1 1 1 1 1 1 1 1 1 1 1 1 1 1 2 2 2 2 2 2 1 2 2 2 2\n",
      " 2 2 2 2 2 2 2 2 1 2 2 2 2 2 2 2 2 2 2 2 2 2 1 2 2 2 2 2 2 2 2 2 2 2 2 2 2\n",
      " 2 2]\n",
      "PPV pourcentage d’étiquettes mal prédites : 4.0\n",
      "____________________________________________________________________________________________________\n",
      "KNeighbors : [0 0 0 0 0 0 0 0 0 0 0 0 0 0 0 0 0 0 0 0 0 0 0 0 0 0 0 0 0 0 0 0 0 0 0 0 0\n",
      " 0 0 0 0 0 0 0 0 0 0 0 0 0 1 1 1 1 1 1 1 1 1 1 1 1 1 1 1 1 1 1 1 1 2 1 2 1\n",
      " 1 1 1 1 1 1 1 1 1 2 1 1 1 1 1 1 1 1 1 1 1 1 1 1 1 1 2 2 2 2 2 2 1 2 2 2 2\n",
      " 2 2 2 2 2 2 2 2 1 2 2 2 2 2 2 2 2 2 2 2 2 2 1 2 2 2 2 2 2 2 2 2 2 2 2 2 2\n",
      " 2 2]\n",
      "KNeighbors pourcentage d’étiquettes mal prédites : 4.0\n"
     ]
    }
   ],
   "source": [
    "k = 4\n",
    "target_sklearn = neighbors.KNeighborsClassifier(n_neighbors=k)\n",
    "\n",
    "sklearn_ppv_target = predic_cross_valid(target_sklearn, X, Y)\n",
    "\n",
    "def sep(n):\n",
    "    print(\"_\"*n)\n",
    "    \n",
    "print(\"Real : %s\"%Y)\n",
    "sep(100)\n",
    "print(\"PPV : %s\"% ppv_target['target'])\n",
    "print(\"PPV pourcentage d’étiquettes mal prédites : %.1f\"% ppv_target['error'])\n",
    "sep(100)\n",
    "print(\"KNeighbors : %s\"% sklearn_ppv_target['target'])\n",
    "print(\"KNeighbors pourcentage d’étiquettes mal prédites : %.1f\"% sklearn_ppv_target['error'])"
   ]
  },
  {
   "cell_type": "markdown",
   "metadata": {},
   "source": [
    "Les résultats des fonction prédiction sont identiques mais différent de Y réel avec un taux de 4%!"
   ]
  },
  {
   "cell_type": "markdown",
   "metadata": {},
   "source": [
    "#### AVEC ```k = 8```"
   ]
  },
  {
   "cell_type": "code",
   "execution_count": 16,
   "metadata": {
    "scrolled": true
   },
   "outputs": [
    {
     "name": "stdout",
     "output_type": "stream",
     "text": [
      "Real : [0 0 0 0 0 0 0 0 0 0 0 0 0 0 0 0 0 0 0 0 0 0 0 0 0 0 0 0 0 0 0 0 0 0 0 0 0\n",
      " 0 0 0 0 0 0 0 0 0 0 0 0 0 1 1 1 1 1 1 1 1 1 1 1 1 1 1 1 1 1 1 1 1 1 1 1 1\n",
      " 1 1 1 1 1 1 1 1 1 1 1 1 1 1 1 1 1 1 1 1 1 1 1 1 1 1 2 2 2 2 2 2 2 2 2 2 2\n",
      " 2 2 2 2 2 2 2 2 2 2 2 2 2 2 2 2 2 2 2 2 2 2 2 2 2 2 2 2 2 2 2 2 2 2 2 2 2\n",
      " 2 2]\n",
      "____________________________________________________________________________________________________\n",
      "PPV : [0 0 0 0 0 0 0 0 0 0 0 0 0 0 0 0 0 0 0 0 0 0 0 0 0 0 0 0 0 0 0 0 0 0 0 0 0\n",
      " 0 0 0 0 0 0 0 0 0 0 0 0 0 1 1 1 1 1 1 1 1 1 1 1 1 1 1 1 1 1 1 1 1 2 1 2 1\n",
      " 1 1 1 1 1 1 1 1 1 2 1 1 1 1 1 1 1 1 1 1 1 1 1 1 1 1 2 2 2 2 2 2 1 2 2 2 2\n",
      " 2 2 2 2 2 2 2 2 1 2 2 2 2 2 2 2 2 2 2 2 2 2 1 2 2 2 2 2 2 2 2 2 2 2 2 2 2\n",
      " 2 2]\n",
      "PPV pourcentage d’étiquettes mal prédites : 4.0\n",
      "____________________________________________________________________________________________________\n",
      "KNeighbors : [0 0 0 0 0 0 0 0 0 0 0 0 0 0 0 0 0 0 0 0 0 0 0 0 0 0 0 0 0 0 0 0 0 0 0 0 0\n",
      " 0 0 0 0 0 0 0 0 0 0 0 0 0 1 1 1 1 1 1 1 1 1 1 1 1 1 1 1 1 1 1 1 1 1 1 2 1\n",
      " 1 1 1 1 1 1 1 1 1 2 1 1 1 1 1 1 1 1 1 1 1 1 1 1 1 1 2 2 2 2 2 2 1 2 2 2 2\n",
      " 2 2 2 2 2 2 2 2 2 2 2 2 2 2 2 2 2 2 2 2 2 2 1 2 2 2 2 1 2 2 2 2 2 2 2 2 2\n",
      " 2 2]\n",
      "KNeighbors pourcentage d’étiquettes mal prédites : 3.3\n"
     ]
    }
   ],
   "source": [
    "k = 8\n",
    "target_sklearn = neighbors.KNeighborsClassifier(n_neighbors=k)\n",
    "\n",
    "sklearn_ppv_target = predic_cross_valid(target_sklearn, X, Y)\n",
    "\n",
    "def sep(n):\n",
    "    print(\"_\"*n)\n",
    "    \n",
    "print(\"Real : %s\"%Y)\n",
    "sep(100)\n",
    "print(\"PPV : %s\"% ppv_target['target'])\n",
    "print(\"PPV pourcentage d’étiquettes mal prédites : %.1f\"% ppv_target['error'])\n",
    "sep(100)\n",
    "print(\"KNeighbors : %s\"% sklearn_ppv_target['target'])\n",
    "print(\"KNeighbors pourcentage d’étiquettes mal prédites : %.1f\"% sklearn_ppv_target['error'])"
   ]
  },
  {
   "cell_type": "markdown",
   "metadata": {},
   "source": [
    "Les résultats des fonction prédiction sont différents de Y réel avec un taux de 4% et 3.3%!"
   ]
  },
  {
   "cell_type": "markdown",
   "metadata": {},
   "source": [
    "#### AVEC ```k = 12```"
   ]
  },
  {
   "cell_type": "code",
   "execution_count": 17,
   "metadata": {
    "scrolled": true
   },
   "outputs": [
    {
     "name": "stdout",
     "output_type": "stream",
     "text": [
      "Real : [0 0 0 0 0 0 0 0 0 0 0 0 0 0 0 0 0 0 0 0 0 0 0 0 0 0 0 0 0 0 0 0 0 0 0 0 0\n",
      " 0 0 0 0 0 0 0 0 0 0 0 0 0 1 1 1 1 1 1 1 1 1 1 1 1 1 1 1 1 1 1 1 1 1 1 1 1\n",
      " 1 1 1 1 1 1 1 1 1 1 1 1 1 1 1 1 1 1 1 1 1 1 1 1 1 1 2 2 2 2 2 2 2 2 2 2 2\n",
      " 2 2 2 2 2 2 2 2 2 2 2 2 2 2 2 2 2 2 2 2 2 2 2 2 2 2 2 2 2 2 2 2 2 2 2 2 2\n",
      " 2 2]\n",
      "____________________________________________________________________________________________________\n",
      "PPV : [0 0 0 0 0 0 0 0 0 0 0 0 0 0 0 0 0 0 0 0 0 0 0 0 0 0 0 0 0 0 0 0 0 0 0 0 0\n",
      " 0 0 0 0 0 0 0 0 0 0 0 0 0 1 1 1 1 1 1 1 1 1 1 1 1 1 1 1 1 1 1 1 1 2 1 2 1\n",
      " 1 1 1 1 1 1 1 1 1 2 1 1 1 1 1 1 1 1 1 1 1 1 1 1 1 1 2 2 2 2 2 2 1 2 2 2 2\n",
      " 2 2 2 2 2 2 2 2 1 2 2 2 2 2 2 2 2 2 2 2 2 2 1 2 2 2 2 2 2 2 2 2 2 2 2 2 2\n",
      " 2 2]\n",
      "PPV pourcentage d’étiquettes mal prédites : 4.0\n",
      "____________________________________________________________________________________________________\n",
      "KNeighbors : [0 0 0 0 0 0 0 0 0 0 0 0 0 0 0 0 0 0 0 0 0 0 0 0 0 0 0 0 0 0 0 0 0 0 0 0 0\n",
      " 0 0 0 0 0 0 0 0 0 0 0 0 0 1 1 1 1 1 1 1 1 1 1 1 1 1 1 1 1 1 1 1 1 1 1 1 1\n",
      " 1 1 1 2 1 1 1 1 1 2 1 1 1 1 1 1 1 1 1 1 1 1 1 1 1 1 2 2 2 2 2 2 1 2 2 2 2\n",
      " 2 2 2 2 2 2 2 2 2 2 2 2 2 2 2 1 2 2 2 2 2 2 1 2 2 2 2 1 2 2 2 2 2 2 2 2 2\n",
      " 2 2]\n",
      "KNeighbors pourcentage d’étiquettes mal prédites : 4.0\n"
     ]
    }
   ],
   "source": [
    "k = 12\n",
    "target_sklearn = neighbors.KNeighborsClassifier(n_neighbors=k)\n",
    "\n",
    "sklearn_ppv_target = predic_cross_valid(target_sklearn, X, Y)\n",
    "\n",
    "def sep(n):\n",
    "    print(\"_\"*n)\n",
    "    \n",
    "print(\"Real : %s\"%Y)\n",
    "sep(100)\n",
    "print(\"PPV : %s\"% ppv_target['target'])\n",
    "print(\"PPV pourcentage d’étiquettes mal prédites : %.1f\"% ppv_target['error'])\n",
    "sep(100)\n",
    "print(\"KNeighbors : %s\"% sklearn_ppv_target['target'])\n",
    "print(\"KNeighbors pourcentage d’étiquettes mal prédites : %.1f\"% sklearn_ppv_target['error'])"
   ]
  },
  {
   "cell_type": "markdown",
   "metadata": {},
   "source": [
    "Les résultats des fonction prédiction sont identiques mais différent de Y réel avec un taux de 4%!"
   ]
  },
  {
   "cell_type": "markdown",
   "metadata": {},
   "source": [
    "## 5.\n",
    "Modifiez la fonction PPV pour qu’elle prenne en entrée un nombre K de voisins (au\n",
    "lieu de 1). La classe prédite sera alors la classe majoritaire parmi les K voisins."
   ]
  },
  {
   "cell_type": "code",
   "execution_count": 18,
   "metadata": {},
   "outputs": [],
   "source": [
    "def PPV(x, y, k=1):\n",
    "    \"\"\" PPV : Plus Proche Voisin\n",
    "    Principe : la donnee de test est classe selon les K\n",
    "    plus proches voisin de classe majoritaire.\n",
    "    \"\"\"\n",
    "    # Taille de données\n",
    "    taille = len(x)\n",
    "\n",
    "    # ppv_target contient les nouvelles etiquettes: np.array([0, 0, ...])\n",
    "    ppv_target = np.zeros(taille, dtype=np.int)\n",
    "\n",
    "    # Cross validation\n",
    "    for i in range(taille):\n",
    "        # leave one out\n",
    "        valid = x[i]\n",
    "        train = np.delete(x, i, 0)\n",
    "        train_target = np.delete(y, i, 0)\n",
    "        assert taille-1 == len(train)\n",
    "\n",
    "        # calculer la distance entre valid et les autres données (train)\n",
    "        dist = list(euclidean_distances(train, valid.reshape(1, -1)))\n",
    "\n",
    "        # selectioner la classe de la plus proche donnee\n",
    "        if k == 1: # un seul voisin (le plus proche)\n",
    "            min_dist_idx = np.argmin(dist)\n",
    "            ppv_target[i] = train_target[min_dist_idx]\n",
    "        else: # k > 1, il faut trier\n",
    "            # Tri croissant\n",
    "            # recupérer les k premiers # garder les k premiers\n",
    "            # recupérer les indices\n",
    "            sorted_dist = np.sort(dist, kind='heapsort', axis=0)\n",
    "            kmin_dist = sorted_dist[0:k]\n",
    "            kmin_dist_index = [dist.index(e) for e in kmin_dist]\n",
    "\n",
    "            # Compte le nombre d'elem par classe\n",
    "            class_dist = Counter([train_target[e] for e in kmin_dist_index])\n",
    "\n",
    "            # Recupérer la classe majoritaire\n",
    "            _max = -1\n",
    "            idx_max = -1\n",
    "            for key, value in class_dist.items():\n",
    "                if value > _max:\n",
    "                    _max = value\n",
    "                    idx_max = key\n",
    "\n",
    "            ppv_target[i] = idx_max\n",
    "\n",
    "    return {'target': ppv_target, 'error': validateur_malprediction(ppv_target, y)}\n"
   ]
  },
  {
   "cell_type": "markdown",
   "metadata": {},
   "source": [
    "# <p style=\"text-align:center\">Test</p>"
   ]
  },
  {
   "cell_type": "code",
   "execution_count": 19,
   "metadata": {
    "scrolled": true
   },
   "outputs": [
    {
     "name": "stdout",
     "output_type": "stream",
     "text": [
      "Real : [0 0 0 0 0 0 0 0 0 0 0 0 0 0 0 0 0 0 0 0 0 0 0 0 0 0 0 0 0 0 0 0 0 0 0 0 0\n",
      " 0 0 0 0 0 0 0 0 0 0 0 0 0 1 1 1 1 1 1 1 1 1 1 1 1 1 1 1 1 1 1 1 1 1 1 1 1\n",
      " 1 1 1 1 1 1 1 1 1 1 1 1 1 1 1 1 1 1 1 1 1 1 1 1 1 1 2 2 2 2 2 2 2 2 2 2 2\n",
      " 2 2 2 2 2 2 2 2 2 2 2 2 2 2 2 2 2 2 2 2 2 2 2 2 2 2 2 2 2 2 2 2 2 2 2 2 2\n",
      " 2 2]\n",
      "____________________________________________________________________________________________________\n",
      "PPV : [0 0 0 0 0 0 0 0 0 0 0 0 0 0 0 0 0 0 0 0 0 0 0 0 0 0 0 0 0 0 0 0 0 0 0 0 0\n",
      " 0 0 0 0 0 0 0 0 0 0 0 0 0 1 1 1 1 1 1 1 1 1 1 1 1 1 1 1 1 1 1 1 1 2 1 1 1\n",
      " 1 1 1 1 1 1 1 1 1 2 1 1 1 1 1 1 1 1 1 1 1 1 1 1 1 1 2 2 2 2 2 2 1 2 2 2 2\n",
      " 2 2 2 2 2 2 2 2 2 2 2 2 2 2 2 1 2 2 2 2 2 2 1 2 2 2 2 1 2 2 2 2 2 2 2 2 2\n",
      " 2 2]\n",
      "PPV pourcentage d’étiquettes mal prédites : 4.0\n",
      "____________________________________________________________________________________________________\n",
      "KNeighbors : [0 0 0 0 0 0 0 0 0 0 0 0 0 0 0 0 0 0 0 0 0 0 0 0 0 0 0 0 0 0 0 0 0 0 0 0 0\n",
      " 0 0 0 0 0 0 0 0 0 0 0 0 0 1 1 1 1 1 1 1 1 1 1 1 1 1 1 1 1 1 1 1 1 1 1 1 1\n",
      " 1 1 1 2 1 1 1 1 1 2 1 1 1 1 1 1 1 1 1 1 1 1 1 1 1 1 2 2 2 2 2 2 1 2 2 2 2\n",
      " 2 2 2 2 2 2 2 2 2 2 2 2 2 2 2 1 2 2 2 2 2 2 1 2 2 2 2 1 2 2 2 2 2 2 2 2 2\n",
      " 2 2]\n",
      "KNeighbors pourcentage d’étiquettes mal prédites : 4.0\n"
     ]
    }
   ],
   "source": [
    "k = 12\n",
    "ppv_target = PPV(x=X, y=Y, k=k)\n",
    "\n",
    "target_sklearn = neighbors.KNeighborsClassifier(n_neighbors=k)\n",
    "\n",
    "sklearn_ppv_target = predic_cross_valid(target_sklearn, X, Y)\n",
    "\n",
    "def sep(n):\n",
    "    print(\"_\"*n)\n",
    "    \n",
    "print(\"Real : %s\"%Y)\n",
    "sep(100)\n",
    "print(\"PPV : %s\"% ppv_target['target'])\n",
    "print(\"PPV pourcentage d’étiquettes mal prédites : %.1f\"% ppv_target['error'])\n",
    "sep(100)\n",
    "print(\"KNeighbors : %s\"% sklearn_ppv_target['target'])\n",
    "print(\"KNeighbors pourcentage d’étiquettes mal prédites : %.1f\"% sklearn_ppv_target['error'])\n"
   ]
  },
  {
   "cell_type": "markdown",
   "metadata": {},
   "source": [
    "Les résultats des fonction prédiction sont identiques mais différent de Y réel avec un taux de 4%!"
   ]
  }
 ],
 "metadata": {
  "kernelspec": {
   "display_name": "Python 3",
   "language": "python",
   "name": "python3"
  },
  "language_info": {
   "codemirror_mode": {
    "name": "ipython",
    "version": 3
   },
   "file_extension": ".py",
   "mimetype": "text/x-python",
   "name": "python",
   "nbconvert_exporter": "python",
   "pygments_lexer": "ipython3",
   "version": "3.7.4"
  }
 },
 "nbformat": 4,
 "nbformat_minor": 2
}
