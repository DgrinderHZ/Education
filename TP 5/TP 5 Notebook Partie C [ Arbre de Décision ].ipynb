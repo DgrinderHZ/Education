{
 "cells": [
  {
   "cell_type": "markdown",
   "metadata": {},
   "source": [
    "Reprenons le jeu de données Iris pour détailler les instructions relatives aux arbres de\n",
    "décision."
   ]
  },
  {
   "cell_type": "code",
   "execution_count": 46,
   "metadata": {},
   "outputs": [
    {
     "data": {
      "text/plain": [
       "array([0, 0, 0, 0, 0, 0, 0, 0, 0, 0, 0, 0, 0, 0, 0, 0, 0, 0, 0, 0, 0, 0,\n",
       "       0, 0, 0, 0, 0, 0, 0, 0, 0, 0, 0, 0, 0, 0, 0, 0, 0, 0, 0, 0, 0, 0,\n",
       "       0, 0, 0, 0, 0, 0, 1, 1, 1, 1, 1, 1, 1, 1, 1, 1, 1, 1, 1, 1, 1, 1,\n",
       "       1, 1, 1, 1, 1, 1, 1, 1, 1, 1, 1, 1, 1, 1, 1, 1, 1, 1, 1, 1, 1, 1,\n",
       "       1, 1, 1, 1, 1, 1, 1, 1, 1, 1, 1, 1, 2, 2, 2, 2, 2, 2, 2, 2, 2, 2,\n",
       "       2, 2, 2, 2, 2, 2, 2, 2, 2, 2, 2, 2, 2, 2, 2, 2, 2, 2, 2, 2, 2, 2,\n",
       "       2, 2, 2, 2, 2, 2, 2, 2, 2, 2, 2, 2, 2, 2, 2, 2, 2, 2])"
      ]
     },
     "execution_count": 46,
     "metadata": {},
     "output_type": "execute_result"
    }
   ],
   "source": [
    "from sklearn.datasets import load_iris\n",
    "iris = load_iris()\n",
    "from sklearn import tree\n",
    "classifieur = tree.DecisionTreeClassifier()\n",
    "classifieur = classifieur.fit(iris.data, iris.target)\n",
    "\n",
    "#classifieur.predict(iris.data[50,:].reshape(1, -1)) # retourne la classe de X[50]\n",
    "classifieur.predict(iris.data)"
   ]
  },
  {
   "cell_type": "markdown",
   "metadata": {},
   "source": [
    "La commande ```help(tree.DecisionTreeClassifier)``` permet de prendre\n",
    "connaissance des options disponibles, parmi lesquelles :\n",
    "- ```criterion='entropy'```, pour utiliser l’entropie plutôt que l’indice de Gini (par défaut),\n",
    "- ```max_depth``` pour limiter la profondeur de l’arbre (par défaut, pas de limites),\n",
    "- ```min_samples_split```, le nombre minimal d’exemples nécessaires pour développer un\n",
    "nœud interne (2 par défaut)\n",
    "- ```max_leaf_nodes```, le nombre maximal de feuilles de l’arbre.\n",
    "\n",
    "On peut utiliser la bibliothèque graphviz pour visualiser l’arbre de décision construit à partir\n",
    "des données.\n",
    "```tree.export_graphviz(clf)```\n",
    "Un fichier ```tree.dot``` est créé. On peut choisir un nom de fichier au moyen de l’option ```out_file=\"essai.dot\"```.\n",
    "\n",
    "On peut transformer ce fichier en un fichier ```.pdf``` au moyen de la commande ```dot -Tpdftree.dot -o iris.pdf```, tapée dans un terminal (il faut avoir au préalable chargé l’application dot (voir http://www.graphviz.org/)."
   ]
  },
  {
   "cell_type": "code",
   "execution_count": 47,
   "metadata": {},
   "outputs": [
    {
     "name": "stdout",
     "output_type": "stream",
     "text": [
      "digraph Tree {\n",
      "node [shape=box] ;\n",
      "0 [label=\"X[2] <= 2.45\\ngini = 0.667\\nsamples = 150\\nvalue = [50, 50, 50]\"] ;\n",
      "1 [label=\"gini = 0.0\\nsamples = 50\\nvalue = [50, 0, 0]\"] ;\n",
      "0 -> 1 [labeldistance=2.5, labelangle=45, headlabel=\"True\"] ;\n",
      "2 [label=\"X[3] <= 1.75\\ngini = 0.5\\nsamples = 100\\nvalue = [0, 50, 50]\"] ;\n",
      "0 -> 2 [labeldistance=2.5, labelangle=-45, headlabel=\"False\"] ;\n",
      "3 [label=\"X[2] <= 4.95\\ngini = 0.168\\nsamples = 54\\nvalue = [0, 49, 5]\"] ;\n",
      "2 -> 3 ;\n",
      "5 [label=\"X[3] <= 1.65\\ngini = 0.041\\nsamples = 48\\nvalue = [0, 47, 1]\"] ;\n",
      "3 -> 5 ;\n",
      "7 [label=\"gini = 0.0\\nsamples = 47\\nvalue = [0, 47, 0]\"] ;\n",
      "5 -> 7 ;\n",
      "8 [label=\"gini = 0.0\\nsamples = 1\\nvalue = [0, 0, 1]\"] ;\n",
      "5 -> 8 ;\n",
      "6 [label=\"gini = 0.444\\nsamples = 6\\nvalue = [0, 2, 4]\"] ;\n",
      "3 -> 6 ;\n",
      "4 [label=\"gini = 0.043\\nsamples = 46\\nvalue = [0, 1, 45]\"] ;\n",
      "2 -> 4 ;\n",
      "}\n"
     ]
    }
   ],
   "source": [
    "clf = tree.DecisionTreeClassifier(criterion='entropy', max_depth=3)\n",
    "clf = clf.fit(iris.data, iris.target)\n",
    "# exporter\n",
    "tree.export_graphviz(clf, out_file= \"essai.dot\")\n",
    "clf = tree.DecisionTreeClassifier(max_leaf_nodes= 5)\n",
    "clf = clf.fit(iris.data,iris.target)\n",
    "print(tree.export_graphviz(clf))"
   ]
  },
  {
   "cell_type": "code",
   "execution_count": 48,
   "metadata": {},
   "outputs": [
    {
     "data": {
      "text/plain": [
       "[Text(167.4, 195.696, 'X[2] <= 2.45\\ngini = 0.667\\nsamples = 150\\nvalue = [50, 50, 50]'),\n",
       " Text(111.60000000000001, 152.208, 'gini = 0.0\\nsamples = 50\\nvalue = [50, 0, 0]'),\n",
       " Text(223.20000000000002, 152.208, 'X[3] <= 1.75\\ngini = 0.5\\nsamples = 100\\nvalue = [0, 50, 50]'),\n",
       " Text(167.4, 108.72, 'X[2] <= 4.95\\ngini = 0.168\\nsamples = 54\\nvalue = [0, 49, 5]'),\n",
       " Text(111.60000000000001, 65.232, 'X[3] <= 1.65\\ngini = 0.041\\nsamples = 48\\nvalue = [0, 47, 1]'),\n",
       " Text(55.800000000000004, 21.744, 'gini = 0.0\\nsamples = 47\\nvalue = [0, 47, 0]'),\n",
       " Text(167.4, 21.744, 'gini = 0.0\\nsamples = 1\\nvalue = [0, 0, 1]'),\n",
       " Text(223.20000000000002, 65.232, 'gini = 0.444\\nsamples = 6\\nvalue = [0, 2, 4]'),\n",
       " Text(279.0, 108.72, 'gini = 0.043\\nsamples = 46\\nvalue = [0, 1, 45]')]"
      ]
     },
     "execution_count": 48,
     "metadata": {},
     "output_type": "execute_result"
    },
    {
     "data": {
      "image/png": "[encoded data removed]",
      "text/plain": [
       "<Figure size 432x288 with 1 Axes>"
      ]
     },
     "metadata": {
      "needs_background": "light"
     },
     "output_type": "display_data"
    }
   ],
   "source": [
    "tree.plot_tree(clf.fit(iris.data, iris.target))"
   ]
  },
  {
   "cell_type": "markdown",
   "metadata": {},
   "source": [
    "# 1. \n",
    "En utilisant la cross-validation (10 folders) testé 10 paramétrages différents de l'algorithme\n",
    "d'apprentissage d'arbres de décision en regardant à chaque fois le taux d'erreur. Le résultat\n",
    "de vos tests doit être présenté sous la forme d'une courbe."
   ]
  },
  {
   "cell_type": "code",
   "execution_count": 49,
   "metadata": {},
   "outputs": [],
   "source": [
    "from sklearn.model_selection import  cross_val_score\n",
    "#help(cross_val_score)"
   ]
  },
  {
   "cell_type": "markdown",
   "metadata": {},
   "source": [
    "On change le ```max_depth``` entre 1 et 10!"
   ]
  },
  {
   "cell_type": "code",
   "execution_count": 53,
   "metadata": {
    "scrolled": true
   },
   "outputs": [
    {
     "data": {
      "image/png": "[encoded data removed]",
      "text/plain": [
       "<Figure size 432x288 with 1 Axes>"
      ]
     },
     "metadata": {
      "needs_background": "light"
     },
     "output_type": "display_data"
    }
   ],
   "source": [
    "import matplotlib.pyplot as plt\n",
    "import numpy as np\n",
    "y = []\n",
    "for i in range(1, 10):\n",
    "    clf = tree.DecisionTreeClassifier(max_depth=i)\n",
    "    scores = cross_val_score(clf, iris.data, iris.target, cv=10)\n",
    "    y.append(1-np.mean(scores))\n",
    "    plt.scatter(i, y[i-1], c='b')\n",
    "\n",
    "plt.plot(range(1, 10), y, label='courbe', c='c')\n",
    "plt.xlabel(\"max_dept\")\n",
    "plt.ylabel(\"error mean score\")\n",
    "\n",
    "plt.legend()\n",
    "plt.show()"
   ]
  },
  {
   "cell_type": "markdown",
   "metadata": {},
   "source": [
    "# 2. \n",
    "Il est aussi possible de calculer la matrice de confusion d'un classifieur à l'aide de scikitlearn :"
   ]
  },
  {
   "cell_type": "code",
   "execution_count": 51,
   "metadata": {},
   "outputs": [
    {
     "name": "stdout",
     "output_type": "stream",
     "text": [
      "[[13  0  0]\n",
      " [ 0 15  1]\n",
      " [ 0  0  9]]\n"
     ]
    }
   ],
   "source": [
    "X = iris.data\n",
    "y = iris.target\n",
    "from sklearn.model_selection import train_test_split\n",
    "# Découpe les données en un ensemble d'apprentissage et un de test\n",
    "X_train, X_test, y_train, y_test = train_test_split(X, y, random_state=0)\n",
    "y_pred = classifieur.fit(X_train, y_train).predict(X_test)\n",
    "from sklearn.metrics import confusion_matrix\n",
    "cm = confusion_matrix(y_test, y_pred)\n",
    "print(cm)"
   ]
  },
  {
   "cell_type": "markdown",
   "metadata": {},
   "source": [
    "# 3. \n",
    "On veut pénaliser deux fois plus quand on prédit mal une donnée de la classe 'Iris-Setosa'\n",
    "qu'une erreur pour une autre classe. Concrètement, si le cout d'une erreur de classification\n",
    "pour les autres classes est de 1, elle est de deux quand on attribue une autre classe à un\n",
    "élément de 'Iris-Setosa'. Ecrire le code utilisant de la cross-validation (10 folders) qui reprend\n",
    "l'expérience de la question précédente mais avec un taux d'erreur calculé en fonction de ce\n",
    "cout."
   ]
  },
  {
   "cell_type": "code",
   "execution_count": 52,
   "metadata": {},
   "outputs": [],
   "source": [
    "#!!!!!!!!! TODO: ADAPTER SES DEUX FONCTION\n",
    "def validateur_malprediction(lis_1, lis_2):\n",
    "    \"\"\" validateur_malprediction : Retourne le pourcentage d’étiquettes mal prédites\n",
    "    \"\"\"\n",
    "    size = len(lis_1)\n",
    "    if size != len(lis_2):\n",
    "        logging.error(\"Liste de taille differente\")\n",
    "        return 0\n",
    "    # 1) trouver le total d’étiquettes mal prédites\n",
    "    _sum = 0\n",
    "    for i in range(size):\n",
    "        if lis_1[i] != lis_2[i]:\n",
    "            _sum += 1\n",
    "    # 2) retourner le facteur en %\n",
    "    return _sum*100 / float(size)\n",
    "\n",
    "def predic_cross_valid(algo, x, y):\n",
    "    \"\"\"train : cross validation pour l'algorithme de sklearn\n",
    "        x = data\n",
    "        y = target\n",
    "    \"\"\"\n",
    "    # taille de jeu de donnees\n",
    "    taille = len(x)\n",
    "\n",
    "    predicted_target = np.zeros(taille, dtype=np.int)\n",
    "\n",
    "    for i in range(taille):\n",
    "        # leave one out\n",
    "        valid = x[i]\n",
    "        train = np.delete(x, i, 0)\n",
    "        train_target = np.delete(y, i, 0)\n",
    "        \n",
    "        # trouver la classe\n",
    "        algo.fit(train, train_target)\n",
    "        predicted_target[i] = algo.predict(valid.reshape(1, -1))\n",
    "\n",
    "    return {'target': predicted_target, 'error': validateur_malprediction(predicted_target, y)}\n"
   ]
  }
 ],
 "metadata": {
  "kernelspec": {
   "display_name": "Python 3",
   "language": "python",
   "name": "python3"
  },
  "language_info": {
   "codemirror_mode": {
    "name": "ipython",
    "version": 3
   },
   "file_extension": ".py",
   "mimetype": "text/x-python",
   "name": "python",
   "nbconvert_exporter": "python",
   "pygments_lexer": "ipython3",
   "version": "3.7.4"
  }
 },
 "nbformat": 4,
 "nbformat_minor": 2
}
