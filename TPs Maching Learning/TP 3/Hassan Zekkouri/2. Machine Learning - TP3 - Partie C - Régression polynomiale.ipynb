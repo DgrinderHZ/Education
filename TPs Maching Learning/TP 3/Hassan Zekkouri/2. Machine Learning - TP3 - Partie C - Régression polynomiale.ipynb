{
 "cells": [
  {
   "cell_type": "markdown",
   "metadata": {},
   "source": [
    "# Partie C: Descente de gradient sur un modèle de régression polynomiale"
   ]
  },
  {
   "cell_type": "markdown",
   "metadata": {},
   "source": [
    "Exemple de fonction:\n",
    "    ![image](poly.png)\n",
    "\n",
    "On a les formules suivantes:\n",
    "![image](formule.png)\n",
    "\n",
    "On va utiliser la forme matriciel!\n",
    "\n",
    "![image](withMatrix.png)"
   ]
  },
  {
   "cell_type": "code",
   "execution_count": 107,
   "metadata": {},
   "outputs": [],
   "source": [
    "import numpy as np # matrice\n",
    "import matplotlib.pyplot as plt\n",
    "from sklearn.datasets import make_regression\n",
    "from sklearn.linear_model import SGDRegressor\n",
    "from sklearn.preprocessing import PolynomialFeatures"
   ]
  },
  {
   "cell_type": "markdown",
   "metadata": {},
   "source": [
    "### Avec des fonctions déjâ implémenter"
   ]
  },
  {
   "cell_type": "code",
   "execution_count": 108,
   "metadata": {},
   "outputs": [
    {
     "data": {
      "text/plain": [
       "<matplotlib.collections.PathCollection at 0x2016a4daf08>"
      ]
     },
     "execution_count": 108,
     "metadata": {},
     "output_type": "execute_result"
    },
    {
     "data": {
      "image/png": "[encoded data removed]",
      "text/plain": [
       "<Figure size 432x288 with 1 Axes>"
      ]
     },
     "metadata": {
      "needs_background": "light"
     },
     "output_type": "display_data"
    }
   ],
   "source": [
    "np.random.seed(0)\n",
    "# DataSet\n",
    "x, y = make_regression(n_samples=100, n_features=1, noise=10)\n",
    "y = y**2 # y ne varie plus linéairement selon x!\n",
    "# On ajoute des variables polynômiales dans notre dataset\n",
    "poly_features = PolynomialFeatures(degree=2, include_bias=False)\n",
    "x = poly_features.fit_transform(x)\n",
    "plt.scatter(x[:,0],y)\n"
   ]
  },
  {
   "cell_type": "code",
   "execution_count": 109,
   "metadata": {
    "scrolled": true
   },
   "outputs": [
    {
     "name": "stdout",
     "output_type": "stream",
     "text": [
      "Coeff R2= 0.8940616961411476\n"
     ]
    },
    {
     "name": "stderr",
     "output_type": "stream",
     "text": [
      "C:\\Users\\elitebook\\Anaconda3\\lib\\site-packages\\sklearn\\linear_model\\stochastic_gradient.py:1185: ConvergenceWarning: Maximum number of iteration reached before convergence. Consider increasing max_iter to improve the fit.\n",
      "  ConvergenceWarning)\n"
     ]
    },
    {
     "data": {
      "text/plain": [
       "<matplotlib.collections.PathCollection at 0x2016a511dc8>"
      ]
     },
     "execution_count": 109,
     "metadata": {},
     "output_type": "execute_result"
    },
    {
     "data": {
      "image/png": "[encoded data removed]",
      "text/plain": [
       "<Figure size 432x288 with 1 Axes>"
      ]
     },
     "metadata": {
      "needs_background": "light"
     },
     "output_type": "display_data"
    }
   ],
   "source": [
    "# On entraine le modele!\n",
    "model = SGDRegressor(max_iter=1000, eta0=0.001)\n",
    "model.fit(x,y)\n",
    "print(\"Coeff R2=\", model.score(x,y))\n",
    "\n",
    "plt.scatter(x[:,0], y, marker='o')\n",
    "plt.scatter(x[:,0], model.predict(x), c=\"r\", marker='+')"
   ]
  },
  {
   "cell_type": "markdown",
   "metadata": {},
   "source": [
    "### Implémentation from scratch!"
   ]
  },
  {
   "cell_type": "code",
   "execution_count": 67,
   "metadata": {},
   "outputs": [],
   "source": [
    "np.random.seed(0)\n",
    "# DataSet\n",
    "x, y = make_regression(n_samples=100, n_features=1, noise=10)\n",
    "y = y**2 # y ne varie plus linéairement selon x!"
   ]
  },
  {
   "cell_type": "markdown",
   "metadata": {},
   "source": [
    "On travaille avec des matrice! ```numpy.array```"
   ]
  },
  {
   "cell_type": "code",
   "execution_count": 78,
   "metadata": {},
   "outputs": [],
   "source": [
    "X = np.array([i[0] for i in x])\n",
    "Y = np.array(y)"
   ]
  },
  {
   "cell_type": "code",
   "execution_count": 79,
   "metadata": {},
   "outputs": [
    {
     "data": {
      "text/plain": [
       "(3,)"
      ]
     },
     "execution_count": 79,
     "metadata": {},
     "output_type": "execute_result"
    }
   ],
   "source": [
    "theta0 = np.array([1, 2, 3]) # a, b, c\n",
    "# On ajoute des variables polynômiales dans notre dataset (PolynomialFeatures)\n",
    "X = [[i for i in X], [i**2 for i in X], [1 for i in range(len(X))]]\n",
    "X = np.array(X)\n",
    "theta0.shape"
   ]
  },
  {
   "cell_type": "code",
   "execution_count": 80,
   "metadata": {
    "scrolled": false
   },
   "outputs": [
    {
     "data": {
      "text/plain": [
       "(3, 100)"
      ]
     },
     "execution_count": 80,
     "metadata": {},
     "output_type": "execute_result"
    }
   ],
   "source": [
    "X.shape"
   ]
  },
  {
   "cell_type": "markdown",
   "metadata": {},
   "source": [
    "###### 1. Calcule des dérivées partielles de la fonction E(a, b, c) selon a, b et c."
   ]
  },
  {
   "cell_type": "code",
   "execution_count": 87,
   "metadata": {},
   "outputs": [],
   "source": [
    "def gradient(X, Y, theta):\n",
    "    somme = [0 for _ in range(len(Y))]\n",
    "    somme = np.dot(theta, X) - Y\n",
    "    somme = np.dot(X, somme)\n",
    "    m = len(x)\n",
    "    return somme/m"
   ]
  },
  {
   "cell_type": "markdown",
   "metadata": {},
   "source": [
    "###### 2. Implémentation de l’algorithme DG."
   ]
  },
  {
   "cell_type": "code",
   "execution_count": 110,
   "metadata": {},
   "outputs": [],
   "source": [
    "def GD(nbrMax, epsilon, alpha, theta0, X, Y):\n",
    "    theta = theta0 - alpha * gradient(X, Y, theta0)\n",
    "    i = 1\n",
    "    # conditions d'arret\n",
    "    cond = True\n",
    "    j = 0\n",
    "    while j < len(theta):\n",
    "        cond = cond and (abs(theta[j]-theta0[j])>epsilon)\n",
    "        j += 1\n",
    "    # iterations\n",
    "    while cond and i < nbrMax:\n",
    "        theta0 = theta.copy()\n",
    "        theta = theta0 - alpha * gradient(X, Y, theta0)\n",
    "        i += 1\n",
    "        j = 0\n",
    "        while j < len(theta):\n",
    "            cond = cond and (abs(theta[j]-theta0[j])>epsilon)\n",
    "            j += 1\n",
    "    return (theta, i)"
   ]
  },
  {
   "cell_type": "code",
   "execution_count": 111,
   "metadata": {},
   "outputs": [],
   "source": [
    "def E(theta, X, Y): # J: fonction coût\n",
    "    somme = [0 for _ in range(len(Y))]\n",
    "    somme = np.dot(X, theta) - Y\n",
    "    somme = np.dot(somme, somme)\n",
    "    somme = n.sum(somme)\n",
    "    m = len(x)\n",
    "    return somme/(2*m)"
   ]
  },
  {
   "cell_type": "code",
   "execution_count": 112,
   "metadata": {},
   "outputs": [],
   "source": [
    "def F(theta, X):# fonction F\n",
    "    somme = [0 for _ in range(len(X))]\n",
    "    somme = np.dot(theta, X)\n",
    "    return somme"
   ]
  },
  {
   "cell_type": "markdown",
   "metadata": {},
   "source": [
    "###### <span style=\"color:green\">• η = 0.01, nombremax = 1000 </span>. "
   ]
  },
  {
   "cell_type": "code",
   "execution_count": 114,
   "metadata": {},
   "outputs": [],
   "source": [
    "theta, itr = GD(nbrMax=1000, epsilon=0.01, alpha=0.1, theta0=theta0, X=X, Y=Y)"
   ]
  },
  {
   "cell_type": "code",
   "execution_count": 115,
   "metadata": {
    "scrolled": true
   },
   "outputs": [
    {
     "name": "stdout",
     "output_type": "stream",
     "text": [
      "Nombre d'iterations: 101\n"
     ]
    },
    {
     "data": {
      "image/png": "[encoded data removed]",
      "text/plain": [
       "<Figure size 432x288 with 1 Axes>"
      ]
     },
     "metadata": {
      "needs_background": "light"
     },
     "output_type": "display_data"
    }
   ],
   "source": [
    "plt.scatter(X[0], Y, label=\"Jeu de données\")\n",
    "plt.scatter(X[0], F(theta, X), c='r', marker=\"+\", label=\"F(X): \")\n",
    "print(\"Nombre d'iterations:\", itr)\n",
    "plt.legend()\n",
    "plt.show()"
   ]
  },
  {
   "cell_type": "markdown",
   "metadata": {},
   "source": [
    "On constate que notre modèle est bon!\n",
    "Aussi on obtient des résultats similaires avec les deux approximation!"
   ]
  }
 ],
 "metadata": {
  "kernelspec": {
   "display_name": "Python 3",
   "language": "python",
   "name": "python3"
  },
  "language_info": {
   "codemirror_mode": {
    "name": "ipython",
    "version": 3
   },
   "file_extension": ".py",
   "mimetype": "text/x-python",
   "name": "python",
   "nbconvert_exporter": "python",
   "pygments_lexer": "ipython3",
   "version": "3.7.4"
  }
 },
 "nbformat": 4,
 "nbformat_minor": 2
}
