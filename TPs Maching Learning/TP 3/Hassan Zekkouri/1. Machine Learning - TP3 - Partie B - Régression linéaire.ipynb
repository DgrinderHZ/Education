{
 "cells": [
  {
   "cell_type": "markdown",
   "metadata": {},
   "source": [
    "# Partie B: Descente de gradient sur un modèle de régression linéaire"
   ]
  },
  {
   "cell_type": "markdown",
   "metadata": {},
   "source": [
    "Voici les étapes à suivre pour touver un modèle de régession linéaire:\n",
    "![image](recete.png)\n",
    "\n",
    "Ici, on va pas travailler avec des matrices! (on va le faire après! Partie C) car ici on peut gérer a et b facilement!\n",
    "\n",
    "Maintenant considérons le modèle de la régression linéaire\n",
    "   > **```ŷi = axi + b```**\n",
    "   \n",
    "- où (a; b) sont des coefficients de régressions inconnus à estimer, \n",
    "- xi, yi les données de régression, \n",
    "- Y le vecteur des données des sorties ŷi. \n",
    "\n",
    "Dans ce cas, on a les définitions suivantes:\n",
    "![image](etapeB.png)"
   ]
  },
  {
   "cell_type": "code",
   "execution_count": 1,
   "metadata": {},
   "outputs": [],
   "source": [
    "from sklearn.datasets import make_regression\n",
    "import matplotlib.pyplot as plt\n",
    "import numpy as np"
   ]
  },
  {
   "cell_type": "code",
   "execution_count": 3,
   "metadata": {},
   "outputs": [
    {
     "data": {
      "text/plain": [
       "array([[-0.06277711],\n",
       "       [ 0.39049947],\n",
       "       [ 0.23794583],\n",
       "       [-1.08910451],\n",
       "       [-0.60948139]])"
      ]
     },
     "execution_count": 3,
     "metadata": {},
     "output_type": "execute_result"
    }
   ],
   "source": [
    "m = 100\n",
    "x, y = make_regression(n_samples=m, n_features=1, noise= 10)\n",
    "x[1:6]"
   ]
  },
  {
   "cell_type": "code",
   "execution_count": 4,
   "metadata": {},
   "outputs": [
    {
     "name": "stdout",
     "output_type": "stream",
     "text": [
      "100 100\n"
     ]
    }
   ],
   "source": [
    "y \n",
    "print(len(x), len(y))"
   ]
  },
  {
   "cell_type": "code",
   "execution_count": 5,
   "metadata": {},
   "outputs": [
    {
     "data": {
      "text/plain": [
       "[-0.06277711344149312,\n",
       " 0.3904994654070604,\n",
       " 0.23794583011654546,\n",
       " -1.089104505236904,\n",
       " -0.6094813889418883]"
      ]
     },
     "execution_count": 5,
     "metadata": {},
     "output_type": "execute_result"
    }
   ],
   "source": [
    "x = [item[0] for item in x]\n",
    "x[1:6]"
   ]
  },
  {
   "cell_type": "markdown",
   "metadata": {},
   "source": [
    "###### 1. Calcule des dérivées partielles de la fonction E(a, b) selon a et b."
   ]
  },
  {
   "cell_type": "code",
   "execution_count": 6,
   "metadata": {},
   "outputs": [],
   "source": [
    "def gradA(x, y, a, b):\n",
    "    somme = 0\n",
    "    for xi, yi in zip(x, y):\n",
    "        somme += (a*xi + b - yi)*xi\n",
    "    m = len(x)\n",
    "    return somme/m\n",
    "\n",
    "def gradB(x, y, a, b):\n",
    "    somme = 0\n",
    "    for xi, yi in zip(x, y):\n",
    "        somme += (a*xi + b - yi)\n",
    "    m = len(x)\n",
    "    return somme/m"
   ]
  },
  {
   "cell_type": "code",
   "execution_count": 7,
   "metadata": {},
   "outputs": [
    {
     "name": "stdout",
     "output_type": "stream",
     "text": [
      "gradA: -72.57563251104638\n",
      "gradA: -1.3289020617053833\n"
     ]
    }
   ],
   "source": [
    "print(\"gradA:\", gradA(x, y, 1, 2))\n",
    "print(\"gradA:\", gradB(x, y, 1, 2))"
   ]
  },
  {
   "cell_type": "markdown",
   "metadata": {},
   "source": [
    "###### 2. Implémentation de l’algorithme DG sous Python pour la fonction E(a, b)."
   ]
  },
  {
   "cell_type": "code",
   "execution_count": 8,
   "metadata": {},
   "outputs": [],
   "source": [
    "def GD(nbrMax, epsilon, alpha, a0, b0, x, y):\n",
    "    a = a0 - alpha * gradA(x, y, a0, b0)\n",
    "    b = b0 - alpha * gradB(x, y, a0, b0)\n",
    "    i = 1\n",
    "    while abs(a-a0)>epsilon and abs(b-b0)>epsilon and i < nbrMax:\n",
    "        a0 = a; b0 = b\n",
    "        a = a0 - alpha * gradA(x, y, a0, b0)\n",
    "        b = b0 - alpha * gradB(x, y, a0, b0)\n",
    "        i += 1\n",
    "    return (a, b, i)"
   ]
  },
  {
   "cell_type": "code",
   "execution_count": 9,
   "metadata": {},
   "outputs": [],
   "source": [
    "def E(a, b, x, y): # J: fonction coût\n",
    "    somme = [[0]]\n",
    "    for xi, yi in zip(x, y):\n",
    "        somme += (a*xi + b - yi)**2\n",
    "    m = len(x)\n",
    "    return somme/(2*m)"
   ]
  },
  {
   "cell_type": "markdown",
   "metadata": {},
   "source": [
    "###### 3. La fonction datasets.make_regression\n",
    "Sue la partie 0. nous avons utilisez la pour générer un problème de régression aléatoire de 100 example avec une seule variable. \n",
    "### Appliquation de l’algorithme implémenté au jeu de données généré avec les paramètres suivants :"
   ]
  },
  {
   "cell_type": "markdown",
   "metadata": {},
   "source": [
    "### On regroupe les questions 3, 4, 5, et 6 (Elles sont géré en même temps)"
   ]
  },
  {
   "cell_type": "markdown",
   "metadata": {},
   "source": [
    "###### 4. Affichez les coefficients trouvés, ainsi que la valeur de E(amin , bmin ) et le nombre d’itérations.\n",
    "> Constatation en bas de chaque changement!"
   ]
  },
  {
   "cell_type": "markdown",
   "metadata": {},
   "source": [
    "###### 5. Importez la fonction stats.linregress de scipy. Utilisez cette fonction pour résoudre le même problème.\n",
    ">Comparaison et constatation toute en bas!"
   ]
  },
  {
   "cell_type": "markdown",
   "metadata": {},
   "source": [
    "##### <span style=\"color:red\">• a) Premierement: Approximation avec stats.linregress </span>."
   ]
  },
  {
   "cell_type": "code",
   "execution_count": 10,
   "metadata": {},
   "outputs": [],
   "source": [
    "from scipy.stats import linregress"
   ]
  },
  {
   "cell_type": "code",
   "execution_count": 11,
   "metadata": {},
   "outputs": [
    {
     "name": "stdout",
     "output_type": "stream",
     "text": [
      "Le minimum en (a= 75.23210683196702 ,b= 0.6945513913144397 ) est:\n",
      " E(a, b)= [[49.34724189]]\n"
     ]
    },
    {
     "data": {
      "image/png": "[encoded data removed]",
      "text/plain": [
       "<Figure size 432x288 with 1 Axes>"
      ]
     },
     "metadata": {
      "needs_background": "light"
     },
     "output_type": "display_data"
    }
   ],
   "source": [
    "a, b, r_value, p_value, std_err = linregress(x, y)\n",
    "print(\"Le minimum en (a=\", a,\",b=\", b, \") est:\\n E(a, b)=\", E(a, b, x, y))\n",
    "plt.scatter(x,y, label=\"Jeu de données\", c = 'r')\n",
    "plt.plot(x, [(a*xx+b) for xx in x], label=\"F(x): (a,b) de stats.linregress\")\n",
    "plt.legend()\n",
    "plt.show()"
   ]
  },
  {
   "cell_type": "markdown",
   "metadata": {},
   "source": [
    "##### <span style=\"color:red\">• b) Ensuite: Approximation avec stats.linregress </span>.\n",
    "###### <span style=\"color:green\">• η = 0.001, nombremax = 100 </span>."
   ]
  },
  {
   "cell_type": "code",
   "execution_count": 12,
   "metadata": {},
   "outputs": [
    {
     "name": "stdout",
     "output_type": "stream",
     "text": [
      "Le minimum en (aMin= 7.38810724135829 ,bMin= 2.1066975312703455 ) est:\n",
      " E(aMin, bMin)= [[2298.42943559]]\n",
      "Nombre d'iterations: 92\n"
     ]
    },
    {
     "data": {
      "image/png": "[encoded data removed]",
      "text/plain": [
       "<Figure size 432x288 with 1 Axes>"
      ]
     },
     "metadata": {
      "needs_background": "light"
     },
     "output_type": "display_data"
    }
   ],
   "source": [
    "aMin, bMin, nbr_Iter= GD(nbrMax=100, epsilon=0.001, alpha=0.001, a0=1, b0=2, x=x, y=y)\n",
    "print(\"Le minimum en (aMin=\", aMin,\",bMin=\", bMin, \") est:\\n E(aMin, bMin)=\", E(aMin, bMin, x, y))\n",
    "print(\"Nombre d'iterations:\", nbr_Iter)\n",
    "plt.scatter(x,y, label=\"Jeu de données\", c = 'r')\n",
    "plt.plot(x, [(aMin*xx+bMin) for xx in x], label=\"F(x): (aMin,bMin) \")\n",
    "plt.legend()\n",
    "plt.show()"
   ]
  },
  {
   "cell_type": "markdown",
   "metadata": {},
   "source": [
    "Mauvais Modèle!\n",
    "###### <span style=\"color:green\">• η = 0.001, nombremax = 500 </span>. "
   ]
  },
  {
   "cell_type": "code",
   "execution_count": 13,
   "metadata": {},
   "outputs": [
    {
     "name": "stdout",
     "output_type": "stream",
     "text": [
      "Le minimum en (aMin= 7.38810724135829 ,bMin= 2.1066975312703455 ) est:\n",
      " E(aMin, bMin)= [[2298.42943559]]\n",
      "Nombre d'iterations: 92\n"
     ]
    },
    {
     "data": {
      "image/png": "[encoded data removed]",
      "text/plain": [
       "<Figure size 432x288 with 1 Axes>"
      ]
     },
     "metadata": {
      "needs_background": "light"
     },
     "output_type": "display_data"
    }
   ],
   "source": [
    "aMin, bMin, nbr_Iter= GD(nbrMax=500, epsilon=0.001, alpha=0.001, a0=1, b0=2, x=x, y=y)\n",
    "print(\"Le minimum en (aMin=\", aMin,\",bMin=\", bMin, \") est:\\n E(aMin, bMin)=\", E(aMin, bMin, x, y))\n",
    "print(\"Nombre d'iterations:\", nbr_Iter)\n",
    "plt.scatter(x,y, label=\"Jeu de données\", c = 'r')\n",
    "plt.plot(x, [(aMin*xx+bMin) for xx in x], label=\"F(x): (aMin,bMin) \")\n",
    "plt.legend()\n",
    "plt.show()"
   ]
  },
  {
   "cell_type": "markdown",
   "metadata": {},
   "source": [
    "On constate que quand le nombre d'iterations augument le modèle devient plus performant! mais encore: Mauvis modèle!\n",
    "###### <span style=\"color:green\">• η = 0.001, nombremax = 1000 </span>. "
   ]
  },
  {
   "cell_type": "code",
   "execution_count": 14,
   "metadata": {},
   "outputs": [
    {
     "name": "stdout",
     "output_type": "stream",
     "text": [
      "Le minimum en (aMin= 7.38810724135829 ,bMin= 2.1066975312703455 ) est:\n",
      " E(aMin, bMin)= [[2298.42943559]]\n",
      "Nombre d'iterations: 92\n"
     ]
    },
    {
     "data": {
      "image/png": "[encoded data removed]",
      "text/plain": [
       "<Figure size 432x288 with 1 Axes>"
      ]
     },
     "metadata": {
      "needs_background": "light"
     },
     "output_type": "display_data"
    }
   ],
   "source": [
    "aMin, bMin, nbr_Iter= GD(nbrMax=1000, epsilon=0.001, alpha=0.001, a0=1, b0=2, x=x, y=y)\n",
    "print(\"Le minimum en (aMin=\", aMin,\",bMin=\", bMin, \") est:\\n E(aMin, bMin)=\", E(aMin, bMin, x, y))\n",
    "print(\"Nombre d'iterations:\", nbr_Iter)\n",
    "plt.scatter(x,y, label=\"Jeu de données\", c = 'r')\n",
    "plt.plot(x, [(aMin*xx+bMin) for xx in x], label=\"F(x): (aMin,bMin) \")\n",
    "plt.legend()\n",
    "plt.show()"
   ]
  },
  {
   "cell_type": "markdown",
   "metadata": {},
   "source": [
    "On constate que quand le nombre d'iterations augument le modèle devient plus performant! mais encore: Mauvis modèle!\n",
    "###### <span style=\"color:green\">• η = 0.01, nombremax = 1000 </span>. "
   ]
  },
  {
   "cell_type": "code",
   "execution_count": 15,
   "metadata": {},
   "outputs": [
    {
     "name": "stdout",
     "output_type": "stream",
     "text": [
      "Le minimum en (aMin= 27.985556157404456 ,bMin= 2.291639427807717 ) est:\n",
      " E(aMin, bMin)= [[1139.85365687]]\n",
      "Nombre d'iterations: 46\n"
     ]
    },
    {
     "data": {
      "image/png": "[encoded data removed]",
      "text/plain": [
       "<Figure size 432x288 with 1 Axes>"
      ]
     },
     "metadata": {
      "needs_background": "light"
     },
     "output_type": "display_data"
    }
   ],
   "source": [
    "aMin, bMin, nbr_Iter= GD(nbrMax=1000, epsilon=0.001, alpha=0.01, a0=1, b0=2, x=x, y=y)\n",
    "print(\"Le minimum en (aMin=\", aMin,\",bMin=\", bMin, \") est:\\n E(aMin, bMin)=\", E(aMin, bMin, x, y))\n",
    "print(\"Nombre d'iterations:\", nbr_Iter)\n",
    "plt.scatter(x,y, label=\"Jeu de données\", c = 'r')\n",
    "plt.plot(x, [(aMin*xx+bMin) for xx in x], label=\"F(x): (aMin,bMin) \")\n",
    "plt.legend()\n",
    "plt.show()"
   ]
  },
  {
   "cell_type": "markdown",
   "metadata": {},
   "source": [
    "On constate que l'augumentation de la distance de la descent modifier la péformance de modèle! \n",
    "\n",
    "Plus au moins, bon modèle!\n",
    "###### <span style=\"color:green\">• η = 1, nombremax = 1000 </span>. "
   ]
  },
  {
   "cell_type": "code",
   "execution_count": 16,
   "metadata": {},
   "outputs": [
    {
     "name": "stdout",
     "output_type": "stream",
     "text": [
      "Le minimum en (aMin= 75.23183770321664 ,bMin= 0.6947250459315153 ) est:\n",
      " E(aMin, bMin)= [[49.34724194]]\n",
      "Nombre d'iterations: 4\n"
     ]
    },
    {
     "data": {
      "image/png": "[encoded data removed]",
      "text/plain": [
       "<Figure size 432x288 with 1 Axes>"
      ]
     },
     "metadata": {
      "needs_background": "light"
     },
     "output_type": "display_data"
    }
   ],
   "source": [
    "aMin, bMin, nbr_Iter= GD(nbrMax=1000, epsilon=0.01, alpha=1, a0=1, b0=2, x=x, y=y)\n",
    "print(\"Le minimum en (aMin=\", aMin,\",bMin=\", bMin, \") est:\\n E(aMin, bMin)=\", E(aMin, bMin, x, y))\n",
    "print(\"Nombre d'iterations:\", nbr_Iter)\n",
    "plt.scatter(x,y, label=\"Jeu de données\", c = 'r')\n",
    "plt.plot(x, [(aMin*xx+bMin) for xx in x], label=\"F(x): (aMin,bMin) \")\n",
    "plt.legend()\n",
    "plt.show()"
   ]
  },
  {
   "cell_type": "markdown",
   "metadata": {},
   "source": [
    "Très bon modèle! on a augumenter la distance!\n",
    "###### 5. Comparaison des résultats obtenues!\n",
    "On comparant entre le résultat de la partie a) et le dénier résultat de la partie b), on trouve une similarité plus au moins \n",
    "parfaite!\n",
    "###### 5. Que constatez-vous ?\n",
    "On constate que l'implémentation donne des résultats similaire à la fonction ```linregress``` une fois les bons paramètre sont fixés!\n",
    "###### 6. Visualisez le jeu de données généré avec les fonctions approximatives obtenues en utilisant les deux méthodes.\n",
    "> voir figures!"
   ]
  }
 ],
 "metadata": {
  "kernelspec": {
   "display_name": "Python 3",
   "language": "python",
   "name": "python3"
  },
  "language_info": {
   "codemirror_mode": {
    "name": "ipython",
    "version": 3
   },
   "file_extension": ".py",
   "mimetype": "text/x-python",
   "name": "python",
   "nbconvert_exporter": "python",
   "pygments_lexer": "ipython3",
   "version": "3.7.4"
  }
 },
 "nbformat": 4,
 "nbformat_minor": 2
}
