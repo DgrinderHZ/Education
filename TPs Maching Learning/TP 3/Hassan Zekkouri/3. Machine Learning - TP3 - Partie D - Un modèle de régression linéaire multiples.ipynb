{
 "cells": [
  {
   "cell_type": "markdown",
   "metadata": {},
   "source": [
    "![image](regMult.png)"
   ]
  },
  {
   "cell_type": "markdown",
   "metadata": {},
   "source": [
    "### 1. Avec des fonctions déjâ implémenter"
   ]
  },
  {
   "cell_type": "code",
   "execution_count": 328,
   "metadata": {},
   "outputs": [],
   "source": [
    "import pandas as pd\n",
    "import numpy as np\n",
    "from sklearn import linear_model"
   ]
  },
  {
   "cell_type": "code",
   "execution_count": 329,
   "metadata": {
    "scrolled": true
   },
   "outputs": [
    {
     "data": {
      "text/html": [
       "<div>\n",
       "<style scoped>\n",
       "    .dataframe tbody tr th:only-of-type {\n",
       "        vertical-align: middle;\n",
       "    }\n",
       "\n",
       "    .dataframe tbody tr th {\n",
       "        vertical-align: top;\n",
       "    }\n",
       "\n",
       "    .dataframe thead th {\n",
       "        text-align: right;\n",
       "    }\n",
       "</style>\n",
       "<table border=\"1\" class=\"dataframe\">\n",
       "  <thead>\n",
       "    <tr style=\"text-align: right;\">\n",
       "      <th></th>\n",
       "      <th>Surface</th>\n",
       "      <th>Qualite</th>\n",
       "      <th>Code postal</th>\n",
       "    </tr>\n",
       "  </thead>\n",
       "  <tbody>\n",
       "    <tr>\n",
       "      <td>0</td>\n",
       "      <td>90</td>\n",
       "      <td>3</td>\n",
       "      <td>95000</td>\n",
       "    </tr>\n",
       "    <tr>\n",
       "      <td>1</td>\n",
       "      <td>110</td>\n",
       "      <td>5</td>\n",
       "      <td>93000</td>\n",
       "    </tr>\n",
       "    <tr>\n",
       "      <td>2</td>\n",
       "      <td>40</td>\n",
       "      <td>4</td>\n",
       "      <td>44500</td>\n",
       "    </tr>\n",
       "    <tr>\n",
       "      <td>3</td>\n",
       "      <td>60</td>\n",
       "      <td>3</td>\n",
       "      <td>67000</td>\n",
       "    </tr>\n",
       "    <tr>\n",
       "      <td>4</td>\n",
       "      <td>50</td>\n",
       "      <td>3</td>\n",
       "      <td>59300</td>\n",
       "    </tr>\n",
       "  </tbody>\n",
       "</table>\n",
       "</div>"
      ],
      "text/plain": [
       "   Surface  Qualite  Code postal\n",
       "0       90        3        95000\n",
       "1      110        5        93000\n",
       "2       40        4        44500\n",
       "3       60        3        67000\n",
       "4       50        3        59300"
      ]
     },
     "execution_count": 329,
     "metadata": {},
     "output_type": "execute_result"
    }
   ],
   "source": [
    "data = {\"Prix\":[313.00, 720.0, 250., 290, 190.],\n",
    "        \"Surface\": [90, 110, 40, 60, 50],\n",
    "       \"Qualite\": [3, 5, 4, 3, 3],\n",
    "       \"Code postal\": [95000, 93000, 44500, 67000, 59300]}\n",
    "df = pd.DataFrame(data)\n",
    "df.iloc[:, 1:]"
   ]
  },
  {
   "cell_type": "markdown",
   "metadata": {},
   "source": [
    "```prix = a1 * surface + a2 * qualite + a3 * code_postal + b```"
   ]
  },
  {
   "cell_type": "code",
   "execution_count": 330,
   "metadata": {},
   "outputs": [
    {
     "data": {
      "text/plain": [
       "LinearRegression(copy_X=True, fit_intercept=True, n_jobs=None, normalize=False)"
      ]
     },
     "execution_count": 330,
     "metadata": {},
     "output_type": "execute_result"
    }
   ],
   "source": [
    "reg = linear_model.LinearRegression()\n",
    "reg.fit(df[[\"Surface\", \"Qualite\", \"Code postal\"]], df.Prix)"
   ]
  },
  {
   "cell_type": "code",
   "execution_count": 331,
   "metadata": {},
   "outputs": [],
   "source": [
    "ai = reg.coef_\n",
    "b = reg.intercept_"
   ]
  },
  {
   "cell_type": "code",
   "execution_count": 332,
   "metadata": {},
   "outputs": [
    {
     "data": {
      "text/plain": [
       "array([ 2.91370156e+01, -1.15916550e+02, -2.98106322e-02])"
      ]
     },
     "execution_count": 332,
     "metadata": {},
     "output_type": "execute_result"
    }
   ],
   "source": [
    "ai"
   ]
  },
  {
   "cell_type": "code",
   "execution_count": 333,
   "metadata": {},
   "outputs": [
    {
     "data": {
      "text/plain": [
       "869.5194527969694"
      ]
     },
     "execution_count": 333,
     "metadata": {},
     "output_type": "execute_result"
    }
   ],
   "source": [
    "b"
   ]
  },
  {
   "cell_type": "markdown",
   "metadata": {},
   "source": [
    "# Prédiction!"
   ]
  },
  {
   "cell_type": "code",
   "execution_count": 334,
   "metadata": {
    "scrolled": true
   },
   "outputs": [
    {
     "name": "stdout",
     "output_type": "stream",
     "text": [
      "predicted: [1322.24245833] Calculated: 1322.2424583288766\n"
     ]
    }
   ],
   "source": [
    "test = [100, 4, 67000]\n",
    "new_prix = reg.predict([test])\n",
    "prix = ai[0] * test[0] + ai[1] * test[1] + ai[2] * test[2] + b\n",
    "print(\"predicted:\", new_prix, \"Calculated:\", prix)"
   ]
  },
  {
   "cell_type": "markdown",
   "metadata": {},
   "source": [
    "pour une valeur passé comme donné d'entrainement"
   ]
  },
  {
   "cell_type": "code",
   "execution_count": 335,
   "metadata": {},
   "outputs": [
    {
     "name": "stdout",
     "output_type": "stream",
     "text": [
      "predicted: [312.09114972] Calculated: 312.09114971968995\n"
     ]
    }
   ],
   "source": [
    "test = [90, 3, 95000]\n",
    "new_prix = reg.predict([test])\n",
    "prix = ai[0] * test[0] + ai[1] * test[1] + ai[2] * test[2] + b\n",
    "print(\"predicted:\", new_prix, \"Calculated:\", prix)"
   ]
  },
  {
   "cell_type": "markdown",
   "metadata": {},
   "source": [
    "## Implémantation from scratch! (En cours de réalisation)"
   ]
  },
  {
   "cell_type": "markdown",
   "metadata": {},
   "source": [
    "![image](ModRegMul.png)\n",
    "![image](ModRegMul1.png)"
   ]
  },
  {
   "cell_type": "code",
   "execution_count": 336,
   "metadata": {},
   "outputs": [],
   "source": [
    "import pandas as pd\n",
    "import numpy as np\n",
    "from sklearn import linear_model"
   ]
  },
  {
   "cell_type": "markdown",
   "metadata": {},
   "source": [
    "![image](ModRegMul2.png)"
   ]
  },
  {
   "cell_type": "markdown",
   "metadata": {},
   "source": [
    "<p style=\"color: red; font-size: 20px;\">On cherche:</p>"
   ]
  },
  {
   "cell_type": "markdown",
   "metadata": {},
   "source": [
    "```Beta```"
   ]
  },
  {
   "cell_type": "markdown",
   "metadata": {},
   "source": [
    "![image](ModRegMulSol.png)"
   ]
  },
  {
   "cell_type": "markdown",
   "metadata": {},
   "source": [
    "On travaille avec des matrice! ```numpy.array``` et la POO!"
   ]
  },
  {
   "cell_type": "code",
   "execution_count": 337,
   "metadata": {},
   "outputs": [],
   "source": [
    "class mul_linear_reg(object):\n",
    "    \"\"\"docstring for linear_reg\n",
    "\n",
    "    beta: les coefficients\n",
    "    \"\"\"\n",
    "    def __init__(self):\n",
    "        \"\"\" initialement vide \"\"\"\n",
    "        self.beta = []\n",
    "\n",
    "    def fit(self, X, Y):\n",
    "        \"\"\" Cette methode calcul beta \n",
    "        on se basant sur X et Y!\n",
    "        \"\"\"\n",
    "        # etape 1: \n",
    "        # ajouter la colonne contenant les 1\n",
    "        # reshape(-1, 1) presque comme Transposé(vecteur)\n",
    "        uns = np.ones(shape=X.shape[0]).reshape(-1, 1)\n",
    "        X = np.concatenate((uns, X), 1)\n",
    "        # etape 2:\n",
    "        # implémentation de la formule\n",
    "        self.beta = np.linalg.inv(X.transpose().dot(X)).dot(X.transpose()).dot(Y)\n",
    "\n",
    "    def predire(self, entree):\n",
    "        \"\"\"Cette methode calcul la prédiction\"\"\"\n",
    "        beta0 = self.beta[0]\n",
    "        autres_betas = self.beta[1:]\n",
    "        prediction = beta0\n",
    "        for x_i, b_i in zip(entree, autres_betas):\n",
    "            prediction += (b_i * x_i)\n",
    "        return prediction"
   ]
  },
  {
   "cell_type": "code",
   "execution_count": 338,
   "metadata": {},
   "outputs": [],
   "source": [
    "# Jeu de données (Pour tester)\n",
    "x1 = [90, 110, 40, 60, 50] # \"Surface\"\n",
    "x2 = [3, 5, 4, 3, 3] # \"Qualite\"\n",
    "x3 =[95000, 93000, 44500, 67000, 59300] # \"Code postal\"\n",
    "x = [x1, x2, x3]\n",
    "y = [313.00, 720.0, 250., 290, 190.] # \"Prix\""
   ]
  },
  {
   "cell_type": "code",
   "execution_count": 339,
   "metadata": {},
   "outputs": [],
   "source": [
    "X = np.array(x).transpose()\n",
    "Y = np.array(y)"
   ]
  },
  {
   "cell_type": "code",
   "execution_count": 340,
   "metadata": {},
   "outputs": [
    {
     "data": {
      "text/plain": [
       "(5, 3)"
      ]
     },
     "execution_count": 340,
     "metadata": {},
     "output_type": "execute_result"
    }
   ],
   "source": [
    "X.shape"
   ]
  },
  {
   "cell_type": "markdown",
   "metadata": {},
   "source": [
    "**Prix = B<sub>1</sub> * surface + B<sub>2</sub> * qualite + B<sub>3</sub> * code_postal + b**"
   ]
  },
  {
   "cell_type": "code",
   "execution_count": 341,
   "metadata": {},
   "outputs": [],
   "source": [
    "modele = mul_linear_reg()\n",
    "modele.fit(X,Y)"
   ]
  },
  {
   "cell_type": "code",
   "execution_count": 342,
   "metadata": {},
   "outputs": [
    {
     "name": "stdout",
     "output_type": "stream",
     "text": [
      "predicted: [312.09114972] \n",
      "Calculated: 312.0911497195184\n"
     ]
    }
   ],
   "source": [
    "test = [90, 3, 95000]\n",
    "new_prix = reg.predict([test]) # fonction scikit-learn\n",
    "prix  = modele.predire(test)\n",
    "print(\"predicted:\", new_prix, \"\\nCalculated:\", prix)"
   ]
  },
  {
   "cell_type": "code",
   "execution_count": 343,
   "metadata": {},
   "outputs": [],
   "source": [
    "# Jeu de données (Pour tester)\n",
    "x1 = [90, 110, 40, 60, 50] # \"Surface\"\n",
    "x2 = [3, 5, 4, 3, 3] # \"Qualite\"\n",
    "x3 =[95000, 93000, 44500, 67000, 59300] # \"Code postal\"\n",
    "x = [x1, x2, x3]\n",
    "y = [313.00, 720.0, 250., 290, 190.] # \"Prix\""
   ]
  },
  {
   "cell_type": "code",
   "execution_count": 344,
   "metadata": {},
   "outputs": [],
   "source": [
    "x = np.array(x).transpose()\n",
    "new_prix = [reg.predict([test]) for test in x]\n",
    "prix = [modele.predire(test) for test in x]\n",
    "df = pd.DataFrame(data={\"Avec sklearn\": new_prix, \"Avec mul_linear_reg\": prix})\n"
   ]
  },
  {
   "cell_type": "code",
   "execution_count": 345,
   "metadata": {
    "scrolled": true
   },
   "outputs": [
    {
     "data": {
      "text/html": [
       "<div>\n",
       "<style scoped>\n",
       "    .dataframe tbody tr th:only-of-type {\n",
       "        vertical-align: middle;\n",
       "    }\n",
       "\n",
       "    .dataframe tbody tr th {\n",
       "        vertical-align: top;\n",
       "    }\n",
       "\n",
       "    .dataframe thead th {\n",
       "        text-align: right;\n",
       "    }\n",
       "</style>\n",
       "<table border=\"1\" class=\"dataframe\">\n",
       "  <thead>\n",
       "    <tr style=\"text-align: right;\">\n",
       "      <th></th>\n",
       "      <th>Avec sklearn</th>\n",
       "      <th>Avec mul_linear_reg</th>\n",
       "    </tr>\n",
       "  </thead>\n",
       "  <tbody>\n",
       "    <tr>\n",
       "      <td>0</td>\n",
       "      <td>[312.09114971968995]</td>\n",
       "      <td>312.091150</td>\n",
       "    </tr>\n",
       "    <tr>\n",
       "      <td>1</td>\n",
       "      <td>[722.6196272786652]</td>\n",
       "      <td>722.619627</td>\n",
       "    </tr>\n",
       "    <tr>\n",
       "      <td>2</td>\n",
       "      <td>[244.7607454430514]</td>\n",
       "      <td>244.760745</td>\n",
       "    </tr>\n",
       "    <tr>\n",
       "      <td>3</td>\n",
       "      <td>[272.67838289335066]</td>\n",
       "      <td>272.678383</td>\n",
       "    </tr>\n",
       "    <tr>\n",
       "      <td>4</td>\n",
       "      <td>[210.85009466524286]</td>\n",
       "      <td>210.850095</td>\n",
       "    </tr>\n",
       "  </tbody>\n",
       "</table>\n",
       "</div>"
      ],
      "text/plain": [
       "           Avec sklearn  Avec mul_linear_reg\n",
       "0  [312.09114971968995]           312.091150\n",
       "1   [722.6196272786652]           722.619627\n",
       "2   [244.7607454430514]           244.760745\n",
       "3  [272.67838289335066]           272.678383\n",
       "4  [210.85009466524286]           210.850095"
      ]
     },
     "execution_count": 345,
     "metadata": {},
     "output_type": "execute_result"
    }
   ],
   "source": [
    "df"
   ]
  },
  {
   "cell_type": "code",
   "execution_count": 346,
   "metadata": {},
   "outputs": [
    {
     "name": "stdout",
     "output_type": "stream",
     "text": [
      "predicted: [1322.24245833] \n",
      "Calculated: 1322.2424583283494\n"
     ]
    }
   ],
   "source": [
    "test = [100, 4, 67000]\n",
    "new_prix = reg.predict([test]) # fonction scikit-learn\n",
    "prix  = modele.predire(test)\n",
    "print(\"predicted:\", new_prix, \"\\nCalculated:\", prix)"
   ]
  }
 ],
 "metadata": {
  "kernelspec": {
   "display_name": "Python 3",
   "language": "python",
   "name": "python3"
  },
  "language_info": {
   "codemirror_mode": {
    "name": "ipython",
    "version": 3
   },
   "file_extension": ".py",
   "mimetype": "text/x-python",
   "name": "python",
   "nbconvert_exporter": "python",
   "pygments_lexer": "ipython3",
   "version": "3.7.4"
  }
 },
 "nbformat": 4,
 "nbformat_minor": 2
}
